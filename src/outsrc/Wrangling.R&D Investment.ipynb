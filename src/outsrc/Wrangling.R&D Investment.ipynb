{
 "cells": [
  {
   "cell_type": "markdown",
   "metadata": {},
   "source": [
    "There are no values for the year of 2017.This notebook will analysie the values for the year of 2014;"
   ]
  },
  {
   "cell_type": "code",
   "execution_count": 1,
   "metadata": {},
   "outputs": [],
   "source": [
    "import pandas as pd"
   ]
  },
  {
   "cell_type": "markdown",
   "metadata": {},
   "source": [
    "## Import DataFrame"
   ]
  },
  {
   "cell_type": "code",
   "execution_count": 2,
   "metadata": {},
   "outputs": [
    {
     "name": "stdout",
     "output_type": "stream",
     "text": [
      "<class 'pandas.core.frame.DataFrame'>\n",
      "RangeIndex: 264 entries, 0 to 263\n",
      "Data columns (total 63 columns):\n",
      "Country Name      264 non-null object\n",
      "Country Code      264 non-null object\n",
      "Indicator Name    264 non-null object\n",
      "Indicator Code    264 non-null object\n",
      "1960              0 non-null float64\n",
      "1961              0 non-null float64\n",
      "1962              0 non-null float64\n",
      "1963              0 non-null float64\n",
      "1964              0 non-null float64\n",
      "1965              0 non-null float64\n",
      "1966              0 non-null float64\n",
      "1967              0 non-null float64\n",
      "1968              0 non-null float64\n",
      "1969              0 non-null float64\n",
      "1970              0 non-null float64\n",
      "1971              0 non-null float64\n",
      "1972              0 non-null float64\n",
      "1973              0 non-null float64\n",
      "1974              0 non-null float64\n",
      "1975              0 non-null float64\n",
      "1976              0 non-null float64\n",
      "1977              0 non-null float64\n",
      "1978              0 non-null float64\n",
      "1979              0 non-null float64\n",
      "1980              0 non-null float64\n",
      "1981              0 non-null float64\n",
      "1982              0 non-null float64\n",
      "1983              0 non-null float64\n",
      "1984              0 non-null float64\n",
      "1985              0 non-null float64\n",
      "1986              0 non-null float64\n",
      "1987              0 non-null float64\n",
      "1988              0 non-null float64\n",
      "1989              0 non-null float64\n",
      "1990              0 non-null float64\n",
      "1991              0 non-null float64\n",
      "1992              0 non-null float64\n",
      "1993              0 non-null float64\n",
      "1994              0 non-null float64\n",
      "1995              0 non-null float64\n",
      "1996              69 non-null float64\n",
      "1997              87 non-null float64\n",
      "1998              82 non-null float64\n",
      "1999              86 non-null float64\n",
      "2000              99 non-null float64\n",
      "2001              108 non-null float64\n",
      "2002              119 non-null float64\n",
      "2003              116 non-null float64\n",
      "2004              117 non-null float64\n",
      "2005              114 non-null float64\n",
      "2006              108 non-null float64\n",
      "2007              124 non-null float64\n",
      "2008              122 non-null float64\n",
      "2009              123 non-null float64\n",
      "2010              121 non-null float64\n",
      "2011              119 non-null float64\n",
      "2012              107 non-null float64\n",
      "2013              113 non-null float64\n",
      "2014              105 non-null float64\n",
      "2015              96 non-null float64\n",
      "2016              0 non-null float64\n",
      "2017              0 non-null float64\n",
      "Unnamed: 62       0 non-null float64\n",
      "dtypes: float64(59), object(4)\n",
      "memory usage: 130.0+ KB\n"
     ]
    }
   ],
   "source": [
    "#NOTICE: Manually Unzip downloaded files from world bank and delete Introductory rows.\n",
    "rand = pd.read_csv('./../../data/outsrc/API_GB.XPD.RSDV.GD.ZS_DS2_en_csv_v2_9944937.csv')\n",
    "rand.info()"
   ]
  },
  {
   "cell_type": "code",
   "execution_count": 3,
   "metadata": {},
   "outputs": [
    {
     "data": {
      "text/html": [
       "<div>\n",
       "<style scoped>\n",
       "    .dataframe tbody tr th:only-of-type {\n",
       "        vertical-align: middle;\n",
       "    }\n",
       "\n",
       "    .dataframe tbody tr th {\n",
       "        vertical-align: top;\n",
       "    }\n",
       "\n",
       "    .dataframe thead th {\n",
       "        text-align: right;\n",
       "    }\n",
       "</style>\n",
       "<table border=\"1\" class=\"dataframe\">\n",
       "  <thead>\n",
       "    <tr style=\"text-align: right;\">\n",
       "      <th></th>\n",
       "      <th>Country Name</th>\n",
       "      <th>R&amp;D 2014 (% of GDP)</th>\n",
       "    </tr>\n",
       "  </thead>\n",
       "  <tbody>\n",
       "    <tr>\n",
       "      <th>6</th>\n",
       "      <td>United Arab Emirates</td>\n",
       "      <td>0.69384</td>\n",
       "    </tr>\n",
       "    <tr>\n",
       "      <th>7</th>\n",
       "      <td>Argentina</td>\n",
       "      <td>0.58852</td>\n",
       "    </tr>\n",
       "    <tr>\n",
       "      <th>8</th>\n",
       "      <td>Armenia</td>\n",
       "      <td>0.24144</td>\n",
       "    </tr>\n",
       "    <tr>\n",
       "      <th>12</th>\n",
       "      <td>Austria</td>\n",
       "      <td>3.06054</td>\n",
       "    </tr>\n",
       "    <tr>\n",
       "      <th>13</th>\n",
       "      <td>Azerbaijan</td>\n",
       "      <td>0.20991</td>\n",
       "    </tr>\n",
       "  </tbody>\n",
       "</table>\n",
       "</div>"
      ],
      "text/plain": [
       "            Country Name  R&D 2014 (% of GDP)\n",
       "6   United Arab Emirates              0.69384\n",
       "7              Argentina              0.58852\n",
       "8                Armenia              0.24144\n",
       "12               Austria              3.06054\n",
       "13            Azerbaijan              0.20991"
      ]
     },
     "execution_count": 3,
     "metadata": {},
     "output_type": "execute_result"
    }
   ],
   "source": [
    "df = rand.loc[:,(\"Country Name\",\"2014\")]\n",
    "df = df.rename({\"2014\": \"R&D 2014 (% of GDP)\"}, axis = \"columns\")\n",
    "df = df.dropna()\n",
    "df.head()"
   ]
  },
  {
   "cell_type": "markdown",
   "metadata": {},
   "source": [
    "## Import Dataframe"
   ]
  },
  {
   "cell_type": "code",
   "execution_count": 4,
   "metadata": {},
   "outputs": [],
   "source": [
    "statistics2017 = pd.read_csv(\"./../../data/sample/2017.statistics.sample.with_missing_cities.csv\")\n",
    "#give columns names\n",
    "#statistics2017.columns = [\"date\", \"DOI\", \"IPID\", \"userID\", \"country\", \"city\", \"lat\", \"lon\"]\n"
   ]
  },
  {
   "cell_type": "code",
   "execution_count": 5,
   "metadata": {},
   "outputs": [
    {
     "data": {
      "text/html": [
       "<div>\n",
       "<style scoped>\n",
       "    .dataframe tbody tr th:only-of-type {\n",
       "        vertical-align: middle;\n",
       "    }\n",
       "\n",
       "    .dataframe tbody tr th {\n",
       "        vertical-align: top;\n",
       "    }\n",
       "\n",
       "    .dataframe thead th {\n",
       "        text-align: right;\n",
       "    }\n",
       "</style>\n",
       "<table border=\"1\" class=\"dataframe\">\n",
       "  <thead>\n",
       "    <tr style=\"text-align: right;\">\n",
       "      <th></th>\n",
       "      <th>country</th>\n",
       "      <th>Downloads</th>\n",
       "    </tr>\n",
       "  </thead>\n",
       "  <tbody>\n",
       "    <tr>\n",
       "      <th>0</th>\n",
       "      <td>China</td>\n",
       "      <td>243363</td>\n",
       "    </tr>\n",
       "    <tr>\n",
       "      <th>1</th>\n",
       "      <td>India</td>\n",
       "      <td>132886</td>\n",
       "    </tr>\n",
       "    <tr>\n",
       "      <th>2</th>\n",
       "      <td>United States</td>\n",
       "      <td>110440</td>\n",
       "    </tr>\n",
       "    <tr>\n",
       "      <th>3</th>\n",
       "      <td>Iran</td>\n",
       "      <td>71958</td>\n",
       "    </tr>\n",
       "    <tr>\n",
       "      <th>4</th>\n",
       "      <td>Brazil</td>\n",
       "      <td>71323</td>\n",
       "    </tr>\n",
       "  </tbody>\n",
       "</table>\n",
       "</div>"
      ],
      "text/plain": [
       "         country  Downloads\n",
       "0          China     243363\n",
       "1          India     132886\n",
       "2  United States     110440\n",
       "3           Iran      71958\n",
       "4         Brazil      71323"
      ]
     },
     "execution_count": 5,
     "metadata": {},
     "output_type": "execute_result"
    }
   ],
   "source": [
    "statistics2017 = statistics2017.loc[:,(\"DOI\",\"country\")]\n",
    "statistics2017 = statistics2017.groupby('country').count().sort_values(by=\"DOI\", ascending=False)\n",
    "statistics2017 = statistics2017.rename({\"DOI\": \"Downloads\"}, axis = \"columns\")\n",
    "statistics2017 = statistics2017.reset_index()\n",
    "statistics2017.head()"
   ]
  },
  {
   "cell_type": "markdown",
   "metadata": {},
   "source": [
    "## Merge DataFrame"
   ]
  },
  {
   "cell_type": "code",
   "execution_count": 6,
   "metadata": {},
   "outputs": [
    {
     "data": {
      "text/html": [
       "<div>\n",
       "<style scoped>\n",
       "    .dataframe tbody tr th:only-of-type {\n",
       "        vertical-align: middle;\n",
       "    }\n",
       "\n",
       "    .dataframe tbody tr th {\n",
       "        vertical-align: top;\n",
       "    }\n",
       "\n",
       "    .dataframe thead th {\n",
       "        text-align: right;\n",
       "    }\n",
       "</style>\n",
       "<table border=\"1\" class=\"dataframe\">\n",
       "  <thead>\n",
       "    <tr style=\"text-align: right;\">\n",
       "      <th></th>\n",
       "      <th>country</th>\n",
       "      <th>Downloads</th>\n",
       "      <th>R&amp;D 2014 (% of GDP)</th>\n",
       "    </tr>\n",
       "  </thead>\n",
       "  <tbody>\n",
       "    <tr>\n",
       "      <th>36</th>\n",
       "      <td>Israel</td>\n",
       "      <td>2521</td>\n",
       "      <td>4.28852</td>\n",
       "    </tr>\n",
       "    <tr>\n",
       "      <th>20</th>\n",
       "      <td>Japan</td>\n",
       "      <td>12858</td>\n",
       "      <td>3.39940</td>\n",
       "    </tr>\n",
       "    <tr>\n",
       "      <th>44</th>\n",
       "      <td>Finland</td>\n",
       "      <td>1506</td>\n",
       "      <td>3.17663</td>\n",
       "    </tr>\n",
       "    <tr>\n",
       "      <th>28</th>\n",
       "      <td>Sweden</td>\n",
       "      <td>5500</td>\n",
       "      <td>3.14335</td>\n",
       "    </tr>\n",
       "    <tr>\n",
       "      <th>30</th>\n",
       "      <td>Austria</td>\n",
       "      <td>4669</td>\n",
       "      <td>3.06054</td>\n",
       "    </tr>\n",
       "  </tbody>\n",
       "</table>\n",
       "</div>"
      ],
      "text/plain": [
       "    country  Downloads  R&D 2014 (% of GDP)\n",
       "36   Israel       2521              4.28852\n",
       "20    Japan      12858              3.39940\n",
       "44  Finland       1506              3.17663\n",
       "28   Sweden       5500              3.14335\n",
       "30  Austria       4669              3.06054"
      ]
     },
     "execution_count": 6,
     "metadata": {},
     "output_type": "execute_result"
    }
   ],
   "source": [
    "statistics2017 = pd.merge(statistics2017, df, left_on=\"country\", right_on=\"Country Name\")\n",
    "statistics2017 = statistics2017.drop(columns=\"Country Name\")\n",
    "statistics2017 = statistics2017.sort_values(by=\"R&D 2014 (% of GDP)\", ascending=False)\n",
    "statistics2017.head()"
   ]
  },
  {
   "cell_type": "markdown",
   "metadata": {},
   "source": [
    "## Import DataFrame"
   ]
  },
  {
   "cell_type": "code",
   "execution_count": 7,
   "metadata": {},
   "outputs": [],
   "source": [
    "#NOTICE: Manually Unzip downloaded files from world bank and delete Introductory rows.\n",
    "worldpop = pd.read_csv(\"./../../data/outsrc/API_SP.POP.TOTL_DS2_en_csv_v2_10058048.csv\", usecols=[0,58])"
   ]
  },
  {
   "cell_type": "code",
   "execution_count": 8,
   "metadata": {},
   "outputs": [
    {
     "data": {
      "text/html": [
       "<div>\n",
       "<style scoped>\n",
       "    .dataframe tbody tr th:only-of-type {\n",
       "        vertical-align: middle;\n",
       "    }\n",
       "\n",
       "    .dataframe tbody tr th {\n",
       "        vertical-align: top;\n",
       "    }\n",
       "\n",
       "    .dataframe thead th {\n",
       "        text-align: right;\n",
       "    }\n",
       "</style>\n",
       "<table border=\"1\" class=\"dataframe\">\n",
       "  <thead>\n",
       "    <tr style=\"text-align: right;\">\n",
       "      <th></th>\n",
       "      <th>Country Name</th>\n",
       "      <th>2014</th>\n",
       "    </tr>\n",
       "  </thead>\n",
       "  <tbody>\n",
       "    <tr>\n",
       "      <th>0</th>\n",
       "      <td>Aruba</td>\n",
       "      <td>103795.0</td>\n",
       "    </tr>\n",
       "    <tr>\n",
       "      <th>1</th>\n",
       "      <td>Afghanistan</td>\n",
       "      <td>32758020.0</td>\n",
       "    </tr>\n",
       "    <tr>\n",
       "      <th>2</th>\n",
       "      <td>Angola</td>\n",
       "      <td>26920466.0</td>\n",
       "    </tr>\n",
       "    <tr>\n",
       "      <th>3</th>\n",
       "      <td>Albania</td>\n",
       "      <td>2889104.0</td>\n",
       "    </tr>\n",
       "    <tr>\n",
       "      <th>4</th>\n",
       "      <td>Andorra</td>\n",
       "      <td>79223.0</td>\n",
       "    </tr>\n",
       "  </tbody>\n",
       "</table>\n",
       "</div>"
      ],
      "text/plain": [
       "  Country Name        2014\n",
       "0        Aruba    103795.0\n",
       "1  Afghanistan  32758020.0\n",
       "2       Angola  26920466.0\n",
       "3      Albania   2889104.0\n",
       "4      Andorra     79223.0"
      ]
     },
     "execution_count": 8,
     "metadata": {},
     "output_type": "execute_result"
    }
   ],
   "source": [
    "worldpop.head()"
   ]
  },
  {
   "cell_type": "markdown",
   "metadata": {},
   "source": [
    "## Merge DataFrame"
   ]
  },
  {
   "cell_type": "code",
   "execution_count": 9,
   "metadata": {},
   "outputs": [
    {
     "data": {
      "text/html": [
       "<div>\n",
       "<style scoped>\n",
       "    .dataframe tbody tr th:only-of-type {\n",
       "        vertical-align: middle;\n",
       "    }\n",
       "\n",
       "    .dataframe tbody tr th {\n",
       "        vertical-align: top;\n",
       "    }\n",
       "\n",
       "    .dataframe thead th {\n",
       "        text-align: right;\n",
       "    }\n",
       "</style>\n",
       "<table border=\"1\" class=\"dataframe\">\n",
       "  <thead>\n",
       "    <tr style=\"text-align: right;\">\n",
       "      <th></th>\n",
       "      <th>country</th>\n",
       "      <th>Downloads</th>\n",
       "      <th>R&amp;D 2014 (% of GDP)</th>\n",
       "      <th>2014 population</th>\n",
       "    </tr>\n",
       "  </thead>\n",
       "  <tbody>\n",
       "    <tr>\n",
       "      <th>0</th>\n",
       "      <td>Israel</td>\n",
       "      <td>2521</td>\n",
       "      <td>4.28852</td>\n",
       "      <td>8215700.0</td>\n",
       "    </tr>\n",
       "    <tr>\n",
       "      <th>1</th>\n",
       "      <td>Japan</td>\n",
       "      <td>12858</td>\n",
       "      <td>3.39940</td>\n",
       "      <td>127276000.0</td>\n",
       "    </tr>\n",
       "    <tr>\n",
       "      <th>2</th>\n",
       "      <td>Finland</td>\n",
       "      <td>1506</td>\n",
       "      <td>3.17663</td>\n",
       "      <td>5461512.0</td>\n",
       "    </tr>\n",
       "    <tr>\n",
       "      <th>3</th>\n",
       "      <td>Sweden</td>\n",
       "      <td>5500</td>\n",
       "      <td>3.14335</td>\n",
       "      <td>9696110.0</td>\n",
       "    </tr>\n",
       "    <tr>\n",
       "      <th>4</th>\n",
       "      <td>Austria</td>\n",
       "      <td>4669</td>\n",
       "      <td>3.06054</td>\n",
       "      <td>8546356.0</td>\n",
       "    </tr>\n",
       "  </tbody>\n",
       "</table>\n",
       "</div>"
      ],
      "text/plain": [
       "   country  Downloads  R&D 2014 (% of GDP)  2014 population\n",
       "0   Israel       2521              4.28852        8215700.0\n",
       "1    Japan      12858              3.39940      127276000.0\n",
       "2  Finland       1506              3.17663        5461512.0\n",
       "3   Sweden       5500              3.14335        9696110.0\n",
       "4  Austria       4669              3.06054        8546356.0"
      ]
     },
     "execution_count": 9,
     "metadata": {},
     "output_type": "execute_result"
    }
   ],
   "source": [
    "statistics2017 = pd.merge(statistics2017, worldpop, left_on=\"country\", right_on=\"Country Name\")\n",
    "statistics2017 = statistics2017.drop(columns=\"Country Name\")\n",
    "statistics2017 = statistics2017.rename({\"2014\": \"2014 population\"}, axis = \"columns\")\n",
    "statistics2017.head()"
   ]
  },
  {
   "cell_type": "markdown",
   "metadata": {},
   "source": [
    "## Import Dataframe"
   ]
  },
  {
   "cell_type": "code",
   "execution_count": 10,
   "metadata": {},
   "outputs": [],
   "source": [
    "#http://uis.unesco.org/apps/visualisations/research-and-development-spending/\n",
    "#We went for the year of 2015 here, because of missing data for Asutralia in other years;\n",
    "randUNESCO = pd.read_csv(\"./../../data/outsrc/SCN_DS_28082018131737663.csv\")"
   ]
  },
  {
   "cell_type": "code",
   "execution_count": 11,
   "metadata": {},
   "outputs": [
    {
     "name": "stdout",
     "output_type": "stream",
     "text": [
      "<class 'pandas.core.frame.DataFrame'>\n",
      "RangeIndex: 751 entries, 0 to 750\n",
      "Data columns (total 9 columns):\n",
      "INDICATOR     751 non-null object\n",
      "Indicator     751 non-null object\n",
      "LOCATION      751 non-null object\n",
      "Country       751 non-null object\n",
      "TIME          751 non-null int64\n",
      "Time          751 non-null int64\n",
      "Value         751 non-null float64\n",
      "Flag Codes    4 non-null object\n",
      "Flags         4 non-null object\n",
      "dtypes: float64(1), int64(2), object(6)\n",
      "memory usage: 52.9+ KB\n"
     ]
    }
   ],
   "source": [
    "randUNESCO.info()"
   ]
  },
  {
   "cell_type": "code",
   "execution_count": 12,
   "metadata": {},
   "outputs": [
    {
     "data": {
      "text/html": [
       "<div>\n",
       "<style scoped>\n",
       "    .dataframe tbody tr th:only-of-type {\n",
       "        vertical-align: middle;\n",
       "    }\n",
       "\n",
       "    .dataframe tbody tr th {\n",
       "        vertical-align: top;\n",
       "    }\n",
       "\n",
       "    .dataframe thead th {\n",
       "        text-align: right;\n",
       "    }\n",
       "</style>\n",
       "<table border=\"1\" class=\"dataframe\">\n",
       "  <thead>\n",
       "    <tr style=\"text-align: right;\">\n",
       "      <th></th>\n",
       "      <th>Country</th>\n",
       "      <th>2015 GERD (billions of US$PPP)</th>\n",
       "    </tr>\n",
       "  </thead>\n",
       "  <tbody>\n",
       "    <tr>\n",
       "      <th>2</th>\n",
       "      <td>Australia</td>\n",
       "      <td>21.318581</td>\n",
       "    </tr>\n",
       "    <tr>\n",
       "      <th>7</th>\n",
       "      <td>Austria</td>\n",
       "      <td>13.178773</td>\n",
       "    </tr>\n",
       "    <tr>\n",
       "      <th>13</th>\n",
       "      <td>Belgium</td>\n",
       "      <td>12.682023</td>\n",
       "    </tr>\n",
       "    <tr>\n",
       "      <th>19</th>\n",
       "      <td>Canada</td>\n",
       "      <td>26.250891</td>\n",
       "    </tr>\n",
       "    <tr>\n",
       "      <th>25</th>\n",
       "      <td>Denmark</td>\n",
       "      <td>8.232641</td>\n",
       "    </tr>\n",
       "  </tbody>\n",
       "</table>\n",
       "</div>"
      ],
      "text/plain": [
       "      Country  2015 GERD (billions of US$PPP)\n",
       "2   Australia                       21.318581\n",
       "7     Austria                       13.178773\n",
       "13    Belgium                       12.682023\n",
       "19     Canada                       26.250891\n",
       "25    Denmark                        8.232641"
      ]
     },
     "execution_count": 12,
     "metadata": {},
     "output_type": "execute_result"
    }
   ],
   "source": [
    "randUNESCO = randUNESCO.loc[randUNESCO.TIME == 2015,(\"Country\", \"Value\")]\n",
    "randUNESCO = randUNESCO.rename({\"Value\": \"2015 GERD\"}, axis = \"columns\")\n",
    "randUNESCO[\"2015 GERD (billions of US$PPP)\"] = randUNESCO[\"2015 GERD\"] / 1000000\n",
    "randUNESCO = randUNESCO.drop(columns=\"2015 GERD\")\n",
    "randUNESCO.sort_values(by=\"2015 GERD (billions of US$PPP)\", ascending=False)\n",
    "randUNESCO.head()"
   ]
  },
  {
   "cell_type": "markdown",
   "metadata": {},
   "source": [
    "## Merge Dataframe"
   ]
  },
  {
   "cell_type": "code",
   "execution_count": 13,
   "metadata": {},
   "outputs": [
    {
     "data": {
      "text/html": [
       "<div>\n",
       "<style scoped>\n",
       "    .dataframe tbody tr th:only-of-type {\n",
       "        vertical-align: middle;\n",
       "    }\n",
       "\n",
       "    .dataframe tbody tr th {\n",
       "        vertical-align: top;\n",
       "    }\n",
       "\n",
       "    .dataframe thead th {\n",
       "        text-align: right;\n",
       "    }\n",
       "</style>\n",
       "<table border=\"1\" class=\"dataframe\">\n",
       "  <thead>\n",
       "    <tr style=\"text-align: right;\">\n",
       "      <th></th>\n",
       "      <th>country</th>\n",
       "      <th>Downloads</th>\n",
       "      <th>R&amp;D 2014 (% of GDP)</th>\n",
       "      <th>2014 population</th>\n",
       "      <th>2015 GERD (billions of US$PPP)</th>\n",
       "    </tr>\n",
       "  </thead>\n",
       "  <tbody>\n",
       "    <tr>\n",
       "      <th>0</th>\n",
       "      <td>Israel</td>\n",
       "      <td>2521</td>\n",
       "      <td>4.28852</td>\n",
       "      <td>8215700.0</td>\n",
       "      <td>13.059990</td>\n",
       "    </tr>\n",
       "    <tr>\n",
       "      <th>1</th>\n",
       "      <td>Japan</td>\n",
       "      <td>12858</td>\n",
       "      <td>3.39940</td>\n",
       "      <td>127276000.0</td>\n",
       "      <td>170.003023</td>\n",
       "    </tr>\n",
       "    <tr>\n",
       "      <th>2</th>\n",
       "      <td>Finland</td>\n",
       "      <td>1506</td>\n",
       "      <td>3.17663</td>\n",
       "      <td>5461512.0</td>\n",
       "      <td>6.712367</td>\n",
       "    </tr>\n",
       "    <tr>\n",
       "      <th>3</th>\n",
       "      <td>Sweden</td>\n",
       "      <td>5500</td>\n",
       "      <td>3.14335</td>\n",
       "      <td>9696110.0</td>\n",
       "      <td>15.371697</td>\n",
       "    </tr>\n",
       "    <tr>\n",
       "      <th>4</th>\n",
       "      <td>Austria</td>\n",
       "      <td>4669</td>\n",
       "      <td>3.06054</td>\n",
       "      <td>8546356.0</td>\n",
       "      <td>13.178773</td>\n",
       "    </tr>\n",
       "  </tbody>\n",
       "</table>\n",
       "</div>"
      ],
      "text/plain": [
       "   country  Downloads  R&D 2014 (% of GDP)  2014 population  \\\n",
       "0   Israel       2521              4.28852        8215700.0   \n",
       "1    Japan      12858              3.39940      127276000.0   \n",
       "2  Finland       1506              3.17663        5461512.0   \n",
       "3   Sweden       5500              3.14335        9696110.0   \n",
       "4  Austria       4669              3.06054        8546356.0   \n",
       "\n",
       "   2015 GERD (billions of US$PPP)  \n",
       "0                       13.059990  \n",
       "1                      170.003023  \n",
       "2                        6.712367  \n",
       "3                       15.371697  \n",
       "4                       13.178773  "
      ]
     },
     "execution_count": 13,
     "metadata": {},
     "output_type": "execute_result"
    }
   ],
   "source": [
    "statistics2017 = pd.merge(statistics2017, randUNESCO, left_on=\"country\", right_on=\"Country\")\n",
    "statistics2017 = statistics2017.drop(columns=\"Country\")\n",
    "statistics2017.head()"
   ]
  },
  {
   "cell_type": "code",
   "execution_count": 14,
   "metadata": {},
   "outputs": [],
   "source": [
    "statistics2017[\"2015 GERD_per1000hab\"] = statistics2017[\"2015 GERD (billions of US$PPP)\"] / statistics2017[\"2014 population\"] *1000"
   ]
  },
  {
   "cell_type": "code",
   "execution_count": 15,
   "metadata": {},
   "outputs": [],
   "source": [
    "statistics2017[\"Downloads_per1000hab\"] = statistics2017.Downloads / statistics2017[\"2014 population\"] * 1000"
   ]
  },
  {
   "cell_type": "code",
   "execution_count": 16,
   "metadata": {},
   "outputs": [],
   "source": [
    "statistics2017.to_csv(\"./../../data/RD-investment-downloads.csv\", index=None)"
   ]
  },
  {
   "cell_type": "code",
   "execution_count": 17,
   "metadata": {},
   "outputs": [],
   "source": [
    "statistics2017 = pd.read_csv(\"./../../data/RD-investment-downloads.csv\")"
   ]
  },
  {
   "cell_type": "code",
   "execution_count": 18,
   "metadata": {},
   "outputs": [
    {
     "data": {
      "text/html": [
       "<div>\n",
       "<style scoped>\n",
       "    .dataframe tbody tr th:only-of-type {\n",
       "        vertical-align: middle;\n",
       "    }\n",
       "\n",
       "    .dataframe tbody tr th {\n",
       "        vertical-align: top;\n",
       "    }\n",
       "\n",
       "    .dataframe thead th {\n",
       "        text-align: right;\n",
       "    }\n",
       "</style>\n",
       "<table border=\"1\" class=\"dataframe\">\n",
       "  <thead>\n",
       "    <tr style=\"text-align: right;\">\n",
       "      <th></th>\n",
       "      <th>country</th>\n",
       "      <th>Downloads</th>\n",
       "      <th>R&amp;D 2014 (% of GDP)</th>\n",
       "      <th>2014 population</th>\n",
       "      <th>2015 GERD (billions of US$PPP)</th>\n",
       "      <th>2015 GERD_per1000hab</th>\n",
       "      <th>Downloads_per1000hab</th>\n",
       "    </tr>\n",
       "  </thead>\n",
       "  <tbody>\n",
       "    <tr>\n",
       "      <th>0</th>\n",
       "      <td>Israel</td>\n",
       "      <td>2521</td>\n",
       "      <td>4.28852</td>\n",
       "      <td>8215700.0</td>\n",
       "      <td>13.059990</td>\n",
       "      <td>0.001590</td>\n",
       "      <td>0.306852</td>\n",
       "    </tr>\n",
       "    <tr>\n",
       "      <th>1</th>\n",
       "      <td>Japan</td>\n",
       "      <td>12858</td>\n",
       "      <td>3.39940</td>\n",
       "      <td>127276000.0</td>\n",
       "      <td>170.003023</td>\n",
       "      <td>0.001336</td>\n",
       "      <td>0.101025</td>\n",
       "    </tr>\n",
       "    <tr>\n",
       "      <th>2</th>\n",
       "      <td>Finland</td>\n",
       "      <td>1506</td>\n",
       "      <td>3.17663</td>\n",
       "      <td>5461512.0</td>\n",
       "      <td>6.712367</td>\n",
       "      <td>0.001229</td>\n",
       "      <td>0.275748</td>\n",
       "    </tr>\n",
       "    <tr>\n",
       "      <th>3</th>\n",
       "      <td>Sweden</td>\n",
       "      <td>5500</td>\n",
       "      <td>3.14335</td>\n",
       "      <td>9696110.0</td>\n",
       "      <td>15.371697</td>\n",
       "      <td>0.001585</td>\n",
       "      <td>0.567238</td>\n",
       "    </tr>\n",
       "    <tr>\n",
       "      <th>4</th>\n",
       "      <td>Austria</td>\n",
       "      <td>4669</td>\n",
       "      <td>3.06054</td>\n",
       "      <td>8546356.0</td>\n",
       "      <td>13.178773</td>\n",
       "      <td>0.001542</td>\n",
       "      <td>0.546315</td>\n",
       "    </tr>\n",
       "  </tbody>\n",
       "</table>\n",
       "</div>"
      ],
      "text/plain": [
       "   country  Downloads  R&D 2014 (% of GDP)  2014 population  \\\n",
       "0   Israel       2521              4.28852        8215700.0   \n",
       "1    Japan      12858              3.39940      127276000.0   \n",
       "2  Finland       1506              3.17663        5461512.0   \n",
       "3   Sweden       5500              3.14335        9696110.0   \n",
       "4  Austria       4669              3.06054        8546356.0   \n",
       "\n",
       "   2015 GERD (billions of US$PPP)  2015 GERD_per1000hab  Downloads_per1000hab  \n",
       "0                       13.059990              0.001590              0.306852  \n",
       "1                      170.003023              0.001336              0.101025  \n",
       "2                        6.712367              0.001229              0.275748  \n",
       "3                       15.371697              0.001585              0.567238  \n",
       "4                       13.178773              0.001542              0.546315  "
      ]
     },
     "execution_count": 18,
     "metadata": {},
     "output_type": "execute_result"
    }
   ],
   "source": [
    "statistics2017.head()"
   ]
  }
 ],
 "metadata": {
  "kernelspec": {
   "display_name": "Python 3",
   "language": "python",
   "name": "python3"
  },
  "language_info": {
   "codemirror_mode": {
    "name": "ipython",
    "version": 3
   },
   "file_extension": ".py",
   "mimetype": "text/x-python",
   "name": "python",
   "nbconvert_exporter": "python",
   "pygments_lexer": "ipython3",
   "version": "3.6.5"
  }
 },
 "nbformat": 4,
 "nbformat_minor": 2
}
