{
 "cells": [
  {
   "cell_type": "markdown",
   "metadata": {},
   "source": [
    "## 2017.statistics.tab Wrangling"
   ]
  },
  {
   "cell_type": "code",
   "execution_count": 1,
   "metadata": {},
   "outputs": [],
   "source": [
    "import pandas as pd\n",
    "import random \n",
    "import os, errno\n",
    "import gzip\n",
    "import shutil\n",
    "from os import path\n",
    "from random import random"
   ]
  },
  {
   "cell_type": "code",
   "execution_count": 2,
   "metadata": {},
   "outputs": [],
   "source": [
    "def get_filename(asset):\n",
    "    return path.realpath(path.join(\"./../../data/full/\", asset))"
   ]
  },
  {
   "cell_type": "code",
   "execution_count": 11,
   "metadata": {},
   "outputs": [],
   "source": [
    "INPUT_FILES = (\n",
    "    (gzip.open, \"2017.statistics.tab.gz\"),\n",
    "    (open, \"2017.statistics.1016.j.tab\"),\n",
    ")\n",
    "\n",
    "OUTPUT_FILE = \"2017.statistics.sample.tab\"\n",
    "\n",
    "\n",
    "TARGET_SIZE = 1.5e6"
   ]
  },
  {
   "cell_type": "code",
   "execution_count": 4,
   "metadata": {},
   "outputs": [],
   "source": [
    "def iterate_files(input_files=INPUT_FILES):\n",
    "    for open_func, asset in input_files:\n",
    "        with open_func(get_filename(asset), \"rt\", encoding=\"utf8\") as f:\n",
    "            for line in f:\n",
    "                yield line"
   ]
  },
  {
   "cell_type": "code",
   "execution_count": 5,
   "metadata": {},
   "outputs": [
    {
     "data": {
      "text/plain": [
       "194499727"
      ]
     },
     "execution_count": 5,
     "metadata": {},
     "output_type": "execute_result"
    }
   ],
   "source": [
    "# Count number of lines\n",
    "LINE_COUNT = sum(1 for _ in iterate_files())\n",
    "LINE_COUNT"
   ]
  },
  {
   "cell_type": "code",
   "execution_count": 6,
   "metadata": {},
   "outputs": [],
   "source": [
    "def probabilistic_sampler(iterable, dataset_size, sample_size, margin=0.001):\n",
    "    acceptance_ratio = (sample_size + (sample_size * margin)) / dataset_size \n",
    "    n_items = 0\n",
    "    \n",
    "    for item in iterable:\n",
    "        if random() < acceptance_ratio:\n",
    "            n_items += 1\n",
    "            yield item\n",
    "        \n",
    "        if n_items >= sample_size:\n",
    "            break"
   ]
  },
  {
   "cell_type": "code",
   "execution_count": 7,
   "metadata": {},
   "outputs": [],
   "source": [
    "def write_file(iterable, output_file=OUTPUT_FILE):\n",
    "    with open(get_filename(output_file), \"wt\", encoding=\"utf8\") as f:\n",
    "        for line in iterable:\n",
    "            f.write(line)"
   ]
  },
  {
   "cell_type": "code",
   "execution_count": 8,
   "metadata": {},
   "outputs": [],
   "source": [
    "write_file(\n",
    "    probabilistic_sampler(iterate_files(), LINE_COUNT, TARGET_SIZE)\n",
    ")"
   ]
  },
  {
   "cell_type": "code",
   "execution_count": 9,
   "metadata": {},
   "outputs": [],
   "source": [
    "data = pd.read_table(get_filename(OUTPUT_FILE), header=None)\n",
    "data.columns = [\"date\", \"DOI\", \"IPID\", \"userID\", \"country\", \"city\", \"lat\", \"lon\"]\n"
   ]
  },
  {
   "cell_type": "code",
   "execution_count": 10,
   "metadata": {},
   "outputs": [
    {
     "name": "stdout",
     "output_type": "stream",
     "text": [
      "<class 'pandas.core.frame.DataFrame'>\n",
      "RangeIndex: 1500000 entries, 0 to 1499999\n",
      "Data columns (total 8 columns):\n",
      "date       1500000 non-null object\n",
      "DOI        1500000 non-null object\n",
      "IPID       1500000 non-null int64\n",
      "userID     1500000 non-null int64\n",
      "country    1468636 non-null object\n",
      "city       1246490 non-null object\n",
      "lat        1386835 non-null float64\n",
      "lon        1386835 non-null float64\n",
      "dtypes: float64(2), int64(2), object(4)\n",
      "memory usage: 91.6+ MB\n"
     ]
    }
   ],
   "source": [
    "data.info()"
   ]
  },
  {
   "cell_type": "code",
   "execution_count": null,
   "metadata": {},
   "outputs": [],
   "source": []
  }
 ],
 "metadata": {
  "kernelspec": {
   "display_name": "Python 3",
   "language": "python",
   "name": "python3"
  },
  "language_info": {
   "codemirror_mode": {
    "name": "ipython",
    "version": 3
   },
   "file_extension": ".py",
   "mimetype": "text/x-python",
   "name": "python",
   "nbconvert_exporter": "python",
   "pygments_lexer": "ipython3",
   "version": "3.6.5"
  }
 },
 "nbformat": 4,
 "nbformat_minor": 2
}
