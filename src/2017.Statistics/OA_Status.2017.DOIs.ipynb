{
 "cells": [
  {
   "cell_type": "code",
   "execution_count": 12,
   "metadata": {},
   "outputs": [],
   "source": [
    "import pandas as pd"
   ]
  },
  {
   "cell_type": "markdown",
   "metadata": {},
   "source": [
    "### Import Dataframe"
   ]
  },
  {
   "cell_type": "code",
   "execution_count": 13,
   "metadata": {},
   "outputs": [],
   "source": [
    "statistics2017 = pd.read_table(\"./../../data/sample/2017.statistics.sample.tab\", header=None)"
   ]
  },
  {
   "cell_type": "code",
   "execution_count": 15,
   "metadata": {},
   "outputs": [],
   "source": [
    "#give columns names\n",
    "statistics2017.columns = [\"date\", \"DOI\", \"IPID\", \"userID\", \"country\", \"city\", \"lat\", \"lon\"]"
   ]
  },
  {
   "cell_type": "code",
   "execution_count": 16,
   "metadata": {},
   "outputs": [],
   "source": [
    "#Lowercase DOI:\n",
    "statistics2017.DOI = statistics2017[\"DOI\"].str.lower()"
   ]
  },
  {
   "cell_type": "code",
   "execution_count": 17,
   "metadata": {},
   "outputs": [],
   "source": [
    "#remove parenthesis and special characters\n",
    "statistics2017[\"country\"] = statistics2017[\"country\"].str.replace(r\" *\\(.*\\)\", \"\")"
   ]
  },
  {
   "cell_type": "code",
   "execution_count": 18,
   "metadata": {},
   "outputs": [
    {
     "name": "stdout",
     "output_type": "stream",
     "text": [
      "<class 'pandas.core.frame.DataFrame'>\n",
      "RangeIndex: 1500000 entries, 0 to 1499999\n",
      "Data columns (total 8 columns):\n",
      "date       1500000 non-null object\n",
      "DOI        1500000 non-null object\n",
      "IPID       1500000 non-null int64\n",
      "userID     1500000 non-null int64\n",
      "country    1468489 non-null object\n",
      "city       1245788 non-null object\n",
      "lat        1386787 non-null float64\n",
      "lon        1386787 non-null float64\n",
      "dtypes: float64(2), int64(2), object(4)\n",
      "memory usage: 91.6+ MB\n"
     ]
    }
   ],
   "source": [
    "statistics2017.info()"
   ]
  },
  {
   "cell_type": "markdown",
   "metadata": {},
   "source": [
    "## Import OA_status"
   ]
  },
  {
   "cell_type": "code",
   "execution_count": 19,
   "metadata": {},
   "outputs": [],
   "source": [
    "#iteration list:\n",
    "OA_list = [\"oa_status00\",\"oa_status01\",\"oa_status02\",\n",
    "           \"oa_status03\",\"oa_status04\",\"oa_status05\",\n",
    "           \"oa_status06\",\"oa_status07\",\"oa_status08\",\n",
    "           \"oa_status09\",\"oa_status10\",\"oa_status11\",\n",
    "           \"oa_status12\",\"oa_status13\",\"oa_status14\",\n",
    "           \"oa_status15\",\"oa_status16\",\"oa_status17\",\n",
    "           \"oa_status18\",\"oa_status19\",\"oa_status20\",\n",
    "           \"oa_status21\",\"oa_status22\",\"oa_status23\",\n",
    "           \"oa_status24\",\"oa_status25\",\"oa_status26\",\n",
    "           \"oa_status27\",\"oa_status28\",\"oa_status29\"]"
   ]
  },
  {
   "cell_type": "code",
   "execution_count": 20,
   "metadata": {},
   "outputs": [],
   "source": [
    "def oa_status_read(in_path):\n",
    "    with open(in_path, encoding=\"UTF-8\") as f:\n",
    "        oa_status = pd.read_csv(f,low_memory=False, header=0)\n",
    "        return oa_status\n",
    "    \n",
    "def merge_them(DataFrame, in_path):\n",
    "    oa_status = oa_status_read(in_path)\n",
    "    scihub_oa_status = pd.merge(DataFrame, oa_status,left_on = \"DOI\", right_on = \"doi\", how = \"left\")\n",
    "    scihub_oa_status = scihub_oa_status.drop(columns=\"doi\")   \n",
    "    return scihub_oa_status\n",
    "    \n",
    "def generate_file(base_in_path, DataFrame, file_list): \n",
    "    for file in file_list:\n",
    "        in_path = base_in_path + file\n",
    "        DataFrame = merge_them(DataFrame, in_path)\n",
    "    return DataFrame"
   ]
  },
  {
   "cell_type": "code",
   "execution_count": 21,
   "metadata": {},
   "outputs": [
    {
     "name": "stdout",
     "output_type": "stream",
     "text": [
      "Wall time: 4min 50s\n"
     ]
    }
   ],
   "source": [
    "%%time\n",
    "scihub_oa_status = generate_file(\"./../../data/full/OA_status/\", statistics2017, OA_list)"
   ]
  },
  {
   "cell_type": "code",
   "execution_count": 22,
   "metadata": {},
   "outputs": [
    {
     "name": "stdout",
     "output_type": "stream",
     "text": [
      "signal 1\n",
      "signal 2\n",
      "signal 3\n",
      "signal 4\n",
      "Wall time: 11min 52s\n"
     ]
    }
   ],
   "source": [
    "%%time\n",
    "p = scihub_oa_status.set_index(\"DOI\")\n",
    "print(\"signal 1\")\n",
    "p = p.drop(columns=[\"date\",\"IPID\",\"userID\",\"country\",\"city\",\"lat\",\"lon\"]).dropna(how='all')\n",
    "print(\"signal 2\")\n",
    "p = (p.apply(lambda x: pd.Series(x[~x.isnull()].values), axis=1))\n",
    "print(\"signal 3\")\n",
    "p.columns=['is_oa']\n",
    "print(\"signal 4\")\n",
    "p.describe()"
   ]
  },
  {
   "cell_type": "code",
   "execution_count": 23,
   "metadata": {},
   "outputs": [],
   "source": [
    "p.to_csv(\"./../../data/sample/2017.statistics.oa_status.csv\")"
   ]
  },
  {
   "cell_type": "code",
   "execution_count": 24,
   "metadata": {},
   "outputs": [],
   "source": [
    "p = pd.read_csv(\"./../../data/sample/2017.statistics.oa_status.csv\", index_col=\"DOI\")"
   ]
  },
  {
   "cell_type": "code",
   "execution_count": 25,
   "metadata": {},
   "outputs": [
    {
     "data": {
      "text/html": [
       "<div>\n",
       "<style scoped>\n",
       "    .dataframe tbody tr th:only-of-type {\n",
       "        vertical-align: middle;\n",
       "    }\n",
       "\n",
       "    .dataframe tbody tr th {\n",
       "        vertical-align: top;\n",
       "    }\n",
       "\n",
       "    .dataframe thead th {\n",
       "        text-align: right;\n",
       "    }\n",
       "</style>\n",
       "<table border=\"1\" class=\"dataframe\">\n",
       "  <thead>\n",
       "    <tr style=\"text-align: right;\">\n",
       "      <th></th>\n",
       "      <th>is_oa</th>\n",
       "    </tr>\n",
       "  </thead>\n",
       "  <tbody>\n",
       "    <tr>\n",
       "      <th>count</th>\n",
       "      <td>1480851</td>\n",
       "    </tr>\n",
       "    <tr>\n",
       "      <th>unique</th>\n",
       "      <td>2</td>\n",
       "    </tr>\n",
       "    <tr>\n",
       "      <th>top</th>\n",
       "      <td>f</td>\n",
       "    </tr>\n",
       "    <tr>\n",
       "      <th>freq</th>\n",
       "      <td>1230736</td>\n",
       "    </tr>\n",
       "  </tbody>\n",
       "</table>\n",
       "</div>"
      ],
      "text/plain": [
       "          is_oa\n",
       "count   1480851\n",
       "unique        2\n",
       "top           f\n",
       "freq    1230736"
      ]
     },
     "execution_count": 25,
     "metadata": {},
     "output_type": "execute_result"
    }
   ],
   "source": [
    "p.describe()"
   ]
  },
  {
   "cell_type": "markdown",
   "metadata": {},
   "source": [
    "### SAMPLE FILE - 1480851 out of 1500000 articles were found in Unpaywall;"
   ]
  },
  {
   "cell_type": "code",
   "execution_count": null,
   "metadata": {},
   "outputs": [],
   "source": []
  }
 ],
 "metadata": {
  "kernelspec": {
   "display_name": "Python 3",
   "language": "python",
   "name": "python3"
  },
  "language_info": {
   "codemirror_mode": {
    "name": "ipython",
    "version": 3
   },
   "file_extension": ".py",
   "mimetype": "text/x-python",
   "name": "python",
   "nbconvert_exporter": "python",
   "pygments_lexer": "ipython3",
   "version": "3.6.4"
  }
 },
 "nbformat": 4,
 "nbformat_minor": 2
}
