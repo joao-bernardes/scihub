{
 "cells": [
  {
   "cell_type": "code",
   "execution_count": 1,
   "metadata": {},
   "outputs": [],
   "source": [
    "import pandas as pd\n",
    "import numpy as np\n",
    "import matplotlib.pyplot as plt\n",
    "import seaborn as sns"
   ]
  },
  {
   "cell_type": "markdown",
   "metadata": {},
   "source": [
    "### Import DataFrame"
   ]
  },
  {
   "cell_type": "code",
   "execution_count": 2,
   "metadata": {},
   "outputs": [],
   "source": [
    "world_pop = pd.read_csv(\"./../../data/outsrc/API_SP.POP.TOTL_DS2_en_csv_v2_10058048.csv\")"
   ]
  },
  {
   "cell_type": "code",
   "execution_count": 3,
   "metadata": {},
   "outputs": [],
   "source": [
    "world_pop = world_pop.loc[:,(\"Country Name\", \"2014\")]\n",
    "world_pop = world_pop.rename({\"2014\": \"2014 Population\"}, axis = \"columns\")\n",
    "world_pop = world_pop.dropna(how=\"any\")"
   ]
  },
  {
   "cell_type": "code",
   "execution_count": 4,
   "metadata": {},
   "outputs": [
    {
     "name": "stdout",
     "output_type": "stream",
     "text": [
      "<class 'pandas.core.frame.DataFrame'>\n",
      "Int64Index: 262 entries, 0 to 263\n",
      "Data columns (total 2 columns):\n",
      "Country Name       262 non-null object\n",
      "2014 Population    262 non-null float64\n",
      "dtypes: float64(1), object(1)\n",
      "memory usage: 6.1+ KB\n"
     ]
    }
   ],
   "source": [
    "world_pop.info()"
   ]
  },
  {
   "cell_type": "markdown",
   "metadata": {},
   "source": [
    "### Import DataFrame"
   ]
  },
  {
   "cell_type": "code",
   "execution_count": 19,
   "metadata": {},
   "outputs": [
    {
     "name": "stdout",
     "output_type": "stream",
     "text": [
      "<class 'pandas.core.frame.DataFrame'>\n",
      "RangeIndex: 213 entries, 0 to 212\n",
      "Data columns (total 4 columns):\n",
      "continent    213 non-null object\n",
      "country      213 non-null object\n",
      "Downloads    213 non-null int64\n",
      "city         213 non-null int64\n",
      "dtypes: int64(2), object(2)\n",
      "memory usage: 6.7+ KB\n"
     ]
    }
   ],
   "source": [
    "statistics2017 = pd.read_csv(\"./../../data/sample/2017.statistics.sample.with_missing_cities_continents.csv\")\n",
    "statistics2017 = statistics2017.loc[:,(\"DOI\",\"city\",\"country\",\"continent\")]\n",
    "statistics2017 = statistics2017.rename({\"DOI\": \"Downloads\"}, axis = \"columns\")\n",
    "statistics2017 = statistics2017.groupby([\"continent\",'country']).count().sort_values(by=\"Downloads\", ascending=False)\n",
    "statistics2017 = statistics2017.reset_index()\n",
    "statistics2017.info()"
   ]
  },
  {
   "cell_type": "markdown",
   "metadata": {},
   "source": [
    "### Merge DataFrame"
   ]
  },
  {
   "cell_type": "code",
   "execution_count": 20,
   "metadata": {},
   "outputs": [],
   "source": [
    "statistics2017 = pd.merge(statistics2017, world_pop, left_on=\"country\", right_on=\"Country Name\")\n",
    "statistics2017 = statistics2017.drop(columns=\"Country Name\")"
   ]
  },
  {
   "cell_type": "code",
   "execution_count": 7,
   "metadata": {},
   "outputs": [
    {
     "data": {
      "text/html": [
       "<div>\n",
       "<style scoped>\n",
       "    .dataframe tbody tr th:only-of-type {\n",
       "        vertical-align: middle;\n",
       "    }\n",
       "\n",
       "    .dataframe tbody tr th {\n",
       "        vertical-align: top;\n",
       "    }\n",
       "\n",
       "    .dataframe thead th {\n",
       "        text-align: right;\n",
       "    }\n",
       "</style>\n",
       "<table border=\"1\" class=\"dataframe\">\n",
       "  <thead>\n",
       "    <tr style=\"text-align: right;\">\n",
       "      <th></th>\n",
       "      <th>continent</th>\n",
       "      <th>country</th>\n",
       "      <th>Downloads</th>\n",
       "      <th>city</th>\n",
       "      <th>2014 Population</th>\n",
       "    </tr>\n",
       "  </thead>\n",
       "  <tbody>\n",
       "    <tr>\n",
       "      <th>0</th>\n",
       "      <td>Asia</td>\n",
       "      <td>China</td>\n",
       "      <td>243363</td>\n",
       "      <td>243250</td>\n",
       "      <td>1.364270e+09</td>\n",
       "    </tr>\n",
       "    <tr>\n",
       "      <th>1</th>\n",
       "      <td>Asia</td>\n",
       "      <td>India</td>\n",
       "      <td>132886</td>\n",
       "      <td>132886</td>\n",
       "      <td>1.293859e+09</td>\n",
       "    </tr>\n",
       "    <tr>\n",
       "      <th>2</th>\n",
       "      <td>North America</td>\n",
       "      <td>United States</td>\n",
       "      <td>110440</td>\n",
       "      <td>109912</td>\n",
       "      <td>3.186225e+08</td>\n",
       "    </tr>\n",
       "    <tr>\n",
       "      <th>3</th>\n",
       "      <td>South America</td>\n",
       "      <td>Brazil</td>\n",
       "      <td>71323</td>\n",
       "      <td>71322</td>\n",
       "      <td>2.042131e+08</td>\n",
       "    </tr>\n",
       "    <tr>\n",
       "      <th>4</th>\n",
       "      <td>Asia</td>\n",
       "      <td>Indonesia</td>\n",
       "      <td>59517</td>\n",
       "      <td>55160</td>\n",
       "      <td>2.551311e+08</td>\n",
       "    </tr>\n",
       "  </tbody>\n",
       "</table>\n",
       "</div>"
      ],
      "text/plain": [
       "       continent        country  Downloads    city  2014 Population\n",
       "0           Asia          China     243363  243250     1.364270e+09\n",
       "1           Asia          India     132886  132886     1.293859e+09\n",
       "2  North America  United States     110440  109912     3.186225e+08\n",
       "3  South America         Brazil      71323   71322     2.042131e+08\n",
       "4           Asia      Indonesia      59517   55160     2.551311e+08"
      ]
     },
     "execution_count": 7,
     "metadata": {},
     "output_type": "execute_result"
    }
   ],
   "source": [
    "statistics2017.head()"
   ]
  },
  {
   "cell_type": "code",
   "execution_count": 8,
   "metadata": {},
   "outputs": [
    {
     "data": {
      "text/html": [
       "<div>\n",
       "<style scoped>\n",
       "    .dataframe tbody tr th:only-of-type {\n",
       "        vertical-align: middle;\n",
       "    }\n",
       "\n",
       "    .dataframe tbody tr th {\n",
       "        vertical-align: top;\n",
       "    }\n",
       "\n",
       "    .dataframe thead th {\n",
       "        text-align: right;\n",
       "    }\n",
       "</style>\n",
       "<table border=\"1\" class=\"dataframe\">\n",
       "  <thead>\n",
       "    <tr style=\"text-align: right;\">\n",
       "      <th></th>\n",
       "      <th>continent</th>\n",
       "      <th>country</th>\n",
       "      <th>Downloads</th>\n",
       "      <th>city</th>\n",
       "      <th>2014 Population</th>\n",
       "      <th>Downloads_1000hb</th>\n",
       "    </tr>\n",
       "  </thead>\n",
       "  <tbody>\n",
       "    <tr>\n",
       "      <th>0</th>\n",
       "      <td>Asia</td>\n",
       "      <td>China</td>\n",
       "      <td>243363</td>\n",
       "      <td>243250</td>\n",
       "      <td>1.364270e+09</td>\n",
       "      <td>0.178383</td>\n",
       "    </tr>\n",
       "    <tr>\n",
       "      <th>1</th>\n",
       "      <td>Asia</td>\n",
       "      <td>India</td>\n",
       "      <td>132886</td>\n",
       "      <td>132886</td>\n",
       "      <td>1.293859e+09</td>\n",
       "      <td>0.102705</td>\n",
       "    </tr>\n",
       "    <tr>\n",
       "      <th>2</th>\n",
       "      <td>North America</td>\n",
       "      <td>United States</td>\n",
       "      <td>110440</td>\n",
       "      <td>109912</td>\n",
       "      <td>3.186225e+08</td>\n",
       "      <td>0.346617</td>\n",
       "    </tr>\n",
       "    <tr>\n",
       "      <th>3</th>\n",
       "      <td>South America</td>\n",
       "      <td>Brazil</td>\n",
       "      <td>71323</td>\n",
       "      <td>71322</td>\n",
       "      <td>2.042131e+08</td>\n",
       "      <td>0.349258</td>\n",
       "    </tr>\n",
       "    <tr>\n",
       "      <th>4</th>\n",
       "      <td>Asia</td>\n",
       "      <td>Indonesia</td>\n",
       "      <td>59517</td>\n",
       "      <td>55160</td>\n",
       "      <td>2.551311e+08</td>\n",
       "      <td>0.233280</td>\n",
       "    </tr>\n",
       "  </tbody>\n",
       "</table>\n",
       "</div>"
      ],
      "text/plain": [
       "       continent        country  Downloads    city  2014 Population  \\\n",
       "0           Asia          China     243363  243250     1.364270e+09   \n",
       "1           Asia          India     132886  132886     1.293859e+09   \n",
       "2  North America  United States     110440  109912     3.186225e+08   \n",
       "3  South America         Brazil      71323   71322     2.042131e+08   \n",
       "4           Asia      Indonesia      59517   55160     2.551311e+08   \n",
       "\n",
       "   Downloads_1000hb  \n",
       "0          0.178383  \n",
       "1          0.102705  \n",
       "2          0.346617  \n",
       "3          0.349258  \n",
       "4          0.233280  "
      ]
     },
     "execution_count": 8,
     "metadata": {},
     "output_type": "execute_result"
    }
   ],
   "source": [
    "statistics2017[\"Downloads_1000hb\"] = statistics2017.Downloads / statistics2017[\"2014 Population\"] *1000\n",
    "statistics2017.head()"
   ]
  },
  {
   "cell_type": "code",
   "execution_count": 9,
   "metadata": {},
   "outputs": [],
   "source": [
    "country_list = [\"Mexico\",\"Cuba\",\"Dominican Republic\",\"Haiti\",\"Guadeloupe\",\"Martinique\", \"Saint-Barthélemy\",\n",
    "                \"Puerto Rico\",\"Belize\",\"Costa Rica\",\"El Salvador\",\"Guatemala\",\"Honduras\",\"Nicaragua\",\"Panama\"]"
   ]
  },
  {
   "cell_type": "code",
   "execution_count": 10,
   "metadata": {},
   "outputs": [],
   "source": [
    "list_1 = [statistics2017.loc[statistics2017.continent == \"North America\"].country.unique()]\n",
    "list_2 = country_list\n",
    "NA_list = np.setdiff1d(list_1,list_2)"
   ]
  },
  {
   "cell_type": "code",
   "execution_count": 11,
   "metadata": {},
   "outputs": [],
   "source": [
    "NA = statistics2017.loc[statistics2017.country == \"United States\",:]\n",
    "for i in NA_list:\n",
    "    NA2 = statistics2017.loc[statistics2017.country == i,:]\n",
    "    NA = NA.append(NA2)"
   ]
  },
  {
   "cell_type": "code",
   "execution_count": 12,
   "metadata": {},
   "outputs": [],
   "source": [
    "NA = NA.drop_duplicates()"
   ]
  },
  {
   "cell_type": "code",
   "execution_count": 13,
   "metadata": {},
   "outputs": [
    {
     "data": {
      "text/html": [
       "<div>\n",
       "<style scoped>\n",
       "    .dataframe tbody tr th:only-of-type {\n",
       "        vertical-align: middle;\n",
       "    }\n",
       "\n",
       "    .dataframe tbody tr th {\n",
       "        vertical-align: top;\n",
       "    }\n",
       "\n",
       "    .dataframe thead th {\n",
       "        text-align: right;\n",
       "    }\n",
       "</style>\n",
       "<table border=\"1\" class=\"dataframe\">\n",
       "  <thead>\n",
       "    <tr style=\"text-align: right;\">\n",
       "      <th></th>\n",
       "      <th>continent</th>\n",
       "      <th>country</th>\n",
       "      <th>Downloads</th>\n",
       "      <th>city</th>\n",
       "      <th>2014 Population</th>\n",
       "      <th>Downloads_1000hb</th>\n",
       "    </tr>\n",
       "  </thead>\n",
       "  <tbody>\n",
       "    <tr>\n",
       "      <th>126</th>\n",
       "      <td>North America</td>\n",
       "      <td>British Virgin Islands</td>\n",
       "      <td>54</td>\n",
       "      <td>46</td>\n",
       "      <td>29588.0</td>\n",
       "      <td>1.825064</td>\n",
       "    </tr>\n",
       "    <tr>\n",
       "      <th>11</th>\n",
       "      <td>North America</td>\n",
       "      <td>Canada</td>\n",
       "      <td>25237</td>\n",
       "      <td>25236</td>\n",
       "      <td>35535348.0</td>\n",
       "      <td>0.710194</td>\n",
       "    </tr>\n",
       "    <tr>\n",
       "      <th>2</th>\n",
       "      <td>North America</td>\n",
       "      <td>United States</td>\n",
       "      <td>110440</td>\n",
       "      <td>109912</td>\n",
       "      <td>318622525.0</td>\n",
       "      <td>0.346617</td>\n",
       "    </tr>\n",
       "    <tr>\n",
       "      <th>131</th>\n",
       "      <td>North America</td>\n",
       "      <td>Barbados</td>\n",
       "      <td>44</td>\n",
       "      <td>44</td>\n",
       "      <td>283385.0</td>\n",
       "      <td>0.155266</td>\n",
       "    </tr>\n",
       "    <tr>\n",
       "      <th>151</th>\n",
       "      <td>North America</td>\n",
       "      <td>Antigua and Barbuda</td>\n",
       "      <td>9</td>\n",
       "      <td>9</td>\n",
       "      <td>98875.0</td>\n",
       "      <td>0.091024</td>\n",
       "    </tr>\n",
       "  </tbody>\n",
       "</table>\n",
       "</div>"
      ],
      "text/plain": [
       "         continent                 country  Downloads    city  \\\n",
       "126  North America  British Virgin Islands         54      46   \n",
       "11   North America                  Canada      25237   25236   \n",
       "2    North America           United States     110440  109912   \n",
       "131  North America                Barbados         44      44   \n",
       "151  North America     Antigua and Barbuda          9       9   \n",
       "\n",
       "     2014 Population  Downloads_1000hb  \n",
       "126          29588.0          1.825064  \n",
       "11        35535348.0          0.710194  \n",
       "2        318622525.0          0.346617  \n",
       "131         283385.0          0.155266  \n",
       "151          98875.0          0.091024  "
      ]
     },
     "execution_count": 13,
     "metadata": {},
     "output_type": "execute_result"
    }
   ],
   "source": [
    "NA.sort_values(by=\"Downloads_1000hb\", ascending=False).head()"
   ]
  },
  {
   "cell_type": "code",
   "execution_count": 14,
   "metadata": {},
   "outputs": [
    {
     "data": {
      "text/plain": [
       "<matplotlib.axes._subplots.AxesSubplot at 0x14afdd7fe10>"
      ]
     },
     "execution_count": 14,
     "metadata": {},
     "output_type": "execute_result"
    },
    {
     "data": {
      "image/png": "[encoded data removed]",
      "text/plain": [
       "<Figure size 720x720 with 1 Axes>"
      ]
     },
     "metadata": {},
     "output_type": "display_data"
    }
   ],
   "source": [
    "pie1 = NA.sort_values(by='2014 Population', ascending=False).head(15)\n",
    "pie1 = pie1.set_index(\"country\")\n",
    "pie1 = pie1.loc[:,(\"2014 Population\")]\n",
    "pie1.plot.pie( figsize=(10,10),autopct='%.f%%')\n"
   ]
  },
  {
   "cell_type": "code",
   "execution_count": 15,
   "metadata": {},
   "outputs": [
    {
     "data": {
      "text/plain": [
       "Text(0.5,1,'World Pop')"
      ]
     },
     "execution_count": 15,
     "metadata": {},
     "output_type": "execute_result"
    },
    {
     "data": {
      "image/png": "[encoded data removed]",
      "text/plain": [
       "<Figure size 720x360 with 1 Axes>"
      ]
     },
     "metadata": {},
     "output_type": "display_data"
    }
   ],
   "source": [
    "plotable = NA.sort_values(by='2014 Population', ascending=False)\n",
    "plt.subplots(figsize=(10, 5))\n",
    "oa = sns.barplot('country', '2014 Population', data=plotable)\n",
    "sns.set_style('darkgrid')\n",
    "plt.xticks(rotation=90)\n",
    "plt.title(\"World Pop\")"
   ]
  },
  {
   "cell_type": "code",
   "execution_count": 16,
   "metadata": {},
   "outputs": [
    {
     "data": {
      "text/plain": [
       "Text(0.5,0,' ')"
      ]
     },
     "execution_count": 16,
     "metadata": {},
     "output_type": "execute_result"
    },
    {
     "data": {
      "image/png": "[encoded data removed]",
      "text/plain": [
       "<Figure size 720x360 with 1 Axes>"
      ]
     },
     "metadata": {},
     "output_type": "display_data"
    }
   ],
   "source": [
    "plot = NA.sort_values(by=\"Downloads_1000hb\", ascending=False).head(50)\n",
    "plt.subplots(figsize=(10, 5))\n",
    "plot = sns.barplot('country', 'Downloads_1000hb', data=plot)\n",
    "sns.axes_style('darkgrid')\n",
    "plt.xticks(rotation=90)\n",
    "plot.set_ylabel(\"Nº of Articles per 1000 hab.\", fontsize=10)\n",
    "plot.set_xlabel(\" \", fontsize=10)\n",
    "\n",
    "#plt.title(\"Fig. 8.1 - Top 50 Countries Requesting Articles | Normalized Values for Population\", fontsize=14)\n",
    "#plt.tight_layout()\n",
    "#plt.savefig('./../../../charts and figures/'+ \"Fig. 8.2 - Downloads.Country.Top50.Norm_Values\" + \".pdf\")"
   ]
  },
  {
   "cell_type": "markdown",
   "metadata": {},
   "source": [
    "### Import DataFrame"
   ]
  },
  {
   "cell_type": "code",
   "execution_count": 25,
   "metadata": {},
   "outputs": [],
   "source": [
    "statistics2017 = pd.read_csv(\"./../../data/sample/2017.statistics.sample.with_missing_cities_continents.csv\")"
   ]
  },
  {
   "cell_type": "code",
   "execution_count": 24,
   "metadata": {},
   "outputs": [
    {
     "data": {
      "text/plain": [
       "DOI           54\n",
       "IPID          54\n",
       "city          46\n",
       "country       54\n",
       "date          54\n",
       "is_oa         54\n",
       "lat           46\n",
       "lon           46\n",
       "userID        54\n",
       "continent     54\n",
       "DOI_prefix    54\n",
       "dtype: int64"
      ]
     },
     "execution_count": 24,
     "metadata": {},
     "output_type": "execute_result"
    }
   ],
   "source": [
    "statistics2017.loc[statistics2017.country == \"British Virgin Islands\",:].count()"
   ]
  },
  {
   "cell_type": "code",
   "execution_count": 22,
   "metadata": {},
   "outputs": [
    {
     "data": {
      "text/html": [
       "<div>\n",
       "<style scoped>\n",
       "    .dataframe tbody tr th:only-of-type {\n",
       "        vertical-align: middle;\n",
       "    }\n",
       "\n",
       "    .dataframe tbody tr th {\n",
       "        vertical-align: top;\n",
       "    }\n",
       "\n",
       "    .dataframe thead th {\n",
       "        text-align: right;\n",
       "    }\n",
       "</style>\n",
       "<table border=\"1\" class=\"dataframe\">\n",
       "  <thead>\n",
       "    <tr style=\"text-align: right;\">\n",
       "      <th></th>\n",
       "      <th>DOI</th>\n",
       "      <th>IPID</th>\n",
       "      <th>city</th>\n",
       "      <th>country</th>\n",
       "      <th>date</th>\n",
       "      <th>is_oa</th>\n",
       "      <th>lat</th>\n",
       "      <th>lon</th>\n",
       "      <th>userID</th>\n",
       "      <th>continent</th>\n",
       "      <th>DOI_prefix</th>\n",
       "    </tr>\n",
       "  </thead>\n",
       "  <tbody>\n",
       "    <tr>\n",
       "      <th>379035</th>\n",
       "      <td>10.1007/s00709-015-0922-2</td>\n",
       "      <td>5573903</td>\n",
       "      <td>NaN</td>\n",
       "      <td>British Virgin Islands</td>\n",
       "      <td>2017-04-13 14:30:43</td>\n",
       "      <td>f</td>\n",
       "      <td>NaN</td>\n",
       "      <td>NaN</td>\n",
       "      <td>8232801</td>\n",
       "      <td>North America</td>\n",
       "      <td>10.1007</td>\n",
       "    </tr>\n",
       "    <tr>\n",
       "      <th>379393</th>\n",
       "      <td>10.1007/s10886-016-0730-y</td>\n",
       "      <td>5573903</td>\n",
       "      <td>NaN</td>\n",
       "      <td>British Virgin Islands</td>\n",
       "      <td>2017-04-13 16:02:47</td>\n",
       "      <td>f</td>\n",
       "      <td>NaN</td>\n",
       "      <td>NaN</td>\n",
       "      <td>8242386</td>\n",
       "      <td>North America</td>\n",
       "      <td>10.1007</td>\n",
       "    </tr>\n",
       "    <tr>\n",
       "      <th>379968</th>\n",
       "      <td>10.1016/j.phymed.2016.06.016</td>\n",
       "      <td>5573903</td>\n",
       "      <td>NaN</td>\n",
       "      <td>British Virgin Islands</td>\n",
       "      <td>2017-04-13 18:20:45</td>\n",
       "      <td>f</td>\n",
       "      <td>NaN</td>\n",
       "      <td>NaN</td>\n",
       "      <td>8256640</td>\n",
       "      <td>North America</td>\n",
       "      <td>10.1016</td>\n",
       "    </tr>\n",
       "    <tr>\n",
       "      <th>381447</th>\n",
       "      <td>10.1890/14-1761.1</td>\n",
       "      <td>5573903</td>\n",
       "      <td>NaN</td>\n",
       "      <td>British Virgin Islands</td>\n",
       "      <td>2017-04-14 05:45:08</td>\n",
       "      <td>f</td>\n",
       "      <td>NaN</td>\n",
       "      <td>NaN</td>\n",
       "      <td>8289094</td>\n",
       "      <td>North America</td>\n",
       "      <td>10.1890</td>\n",
       "    </tr>\n",
       "    <tr>\n",
       "      <th>382012</th>\n",
       "      <td>10.1105/tpc.114.133496</td>\n",
       "      <td>5573903</td>\n",
       "      <td>NaN</td>\n",
       "      <td>British Virgin Islands</td>\n",
       "      <td>2017-04-14 09:44:27</td>\n",
       "      <td>t</td>\n",
       "      <td>NaN</td>\n",
       "      <td>NaN</td>\n",
       "      <td>8301693</td>\n",
       "      <td>North America</td>\n",
       "      <td>10.1105</td>\n",
       "    </tr>\n",
       "    <tr>\n",
       "      <th>385484</th>\n",
       "      <td>10.1242/dev.120774</td>\n",
       "      <td>5573903</td>\n",
       "      <td>NaN</td>\n",
       "      <td>British Virgin Islands</td>\n",
       "      <td>2017-04-15 09:13:35</td>\n",
       "      <td>t</td>\n",
       "      <td>NaN</td>\n",
       "      <td>NaN</td>\n",
       "      <td>8373107</td>\n",
       "      <td>North America</td>\n",
       "      <td>10.1242</td>\n",
       "    </tr>\n",
       "    <tr>\n",
       "      <th>390383</th>\n",
       "      <td>10.1016/j.jplph.2015.12.002</td>\n",
       "      <td>5573903</td>\n",
       "      <td>NaN</td>\n",
       "      <td>British Virgin Islands</td>\n",
       "      <td>2017-04-16 18:10:48</td>\n",
       "      <td>t</td>\n",
       "      <td>NaN</td>\n",
       "      <td>NaN</td>\n",
       "      <td>8479482</td>\n",
       "      <td>North America</td>\n",
       "      <td>10.1016</td>\n",
       "    </tr>\n",
       "  </tbody>\n",
       "</table>\n",
       "</div>"
      ],
      "text/plain": [
       "                                 DOI     IPID city                 country  \\\n",
       "379035     10.1007/s00709-015-0922-2  5573903  NaN  British Virgin Islands   \n",
       "379393     10.1007/s10886-016-0730-y  5573903  NaN  British Virgin Islands   \n",
       "379968  10.1016/j.phymed.2016.06.016  5573903  NaN  British Virgin Islands   \n",
       "381447             10.1890/14-1761.1  5573903  NaN  British Virgin Islands   \n",
       "382012        10.1105/tpc.114.133496  5573903  NaN  British Virgin Islands   \n",
       "385484            10.1242/dev.120774  5573903  NaN  British Virgin Islands   \n",
       "390383   10.1016/j.jplph.2015.12.002  5573903  NaN  British Virgin Islands   \n",
       "\n",
       "                       date is_oa  lat  lon   userID      continent  \\\n",
       "379035  2017-04-13 14:30:43     f  NaN  NaN  8232801  North America   \n",
       "379393  2017-04-13 16:02:47     f  NaN  NaN  8242386  North America   \n",
       "379968  2017-04-13 18:20:45     f  NaN  NaN  8256640  North America   \n",
       "381447  2017-04-14 05:45:08     f  NaN  NaN  8289094  North America   \n",
       "382012  2017-04-14 09:44:27     t  NaN  NaN  8301693  North America   \n",
       "385484  2017-04-15 09:13:35     t  NaN  NaN  8373107  North America   \n",
       "390383  2017-04-16 18:10:48     t  NaN  NaN  8479482  North America   \n",
       "\n",
       "        DOI_prefix  \n",
       "379035     10.1007  \n",
       "379393     10.1007  \n",
       "379968     10.1016  \n",
       "381447     10.1890  \n",
       "382012     10.1105  \n",
       "385484     10.1242  \n",
       "390383     10.1016  "
      ]
     },
     "execution_count": 22,
     "metadata": {},
     "output_type": "execute_result"
    }
   ],
   "source": [
    "statistics2017.loc[statistics2017.IPID == 5573903,:]"
   ]
  },
  {
   "cell_type": "code",
   "execution_count": null,
   "metadata": {},
   "outputs": [],
   "source": []
  }
 ],
 "metadata": {
  "kernelspec": {
   "display_name": "Python 3",
   "language": "python",
   "name": "python3"
  },
  "language_info": {
   "codemirror_mode": {
    "name": "ipython",
    "version": 3
   },
   "file_extension": ".py",
   "mimetype": "text/x-python",
   "name": "python",
   "nbconvert_exporter": "python",
   "pygments_lexer": "ipython3",
   "version": "3.6.5"
  }
 },
 "nbformat": 4,
 "nbformat_minor": 2
}
