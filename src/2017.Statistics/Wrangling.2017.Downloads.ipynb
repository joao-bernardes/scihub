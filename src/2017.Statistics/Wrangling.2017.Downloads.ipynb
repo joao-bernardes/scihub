{
 "cells": [
  {
   "cell_type": "markdown",
   "metadata": {},
   "source": [
    "## ANALYSIS"
   ]
  },
  {
   "cell_type": "code",
   "execution_count": 1,
   "metadata": {},
   "outputs": [],
   "source": [
    "import pandas as pd\n",
    "import numpy as np"
   ]
  },
  {
   "cell_type": "code",
   "execution_count": 2,
   "metadata": {},
   "outputs": [
    {
     "name": "stdout",
     "output_type": "stream",
     "text": [
      "<class 'pandas.core.frame.DataFrame'>\n",
      "RangeIndex: 1500000 entries, 0 to 1499999\n",
      "Data columns (total 9 columns):\n",
      "DOI        1500000 non-null object\n",
      "IPID       1500000 non-null int64\n",
      "city       1394066 non-null object\n",
      "country    1468489 non-null object\n",
      "date       1500000 non-null object\n",
      "is_oa      1480851 non-null object\n",
      "lat        1386787 non-null float64\n",
      "lon        1386787 non-null float64\n",
      "userID     1500000 non-null int64\n",
      "dtypes: float64(2), int64(2), object(5)\n",
      "memory usage: 103.0+ MB\n"
     ]
    }
   ],
   "source": [
    "statistics2017 = pd.read_csv(\"./../../data/sample/2017.statistics.sample.with_missing_cities.csv\")\n",
    "#give columns names\n",
    "#statistics2017.columns = [\"DOI\", \"DOI\", \"IPID\", \"userID\", \"country\", \"city\", \"lat\", \"lon\"]\n",
    "statistics2017.info()"
   ]
  },
  {
   "cell_type": "code",
   "execution_count": 3,
   "metadata": {},
   "outputs": [
    {
     "data": {
      "text/html": [
       "<div>\n",
       "<style scoped>\n",
       "    .dataframe tbody tr th:only-of-type {\n",
       "        vertical-align: middle;\n",
       "    }\n",
       "\n",
       "    .dataframe tbody tr th {\n",
       "        vertical-align: top;\n",
       "    }\n",
       "\n",
       "    .dataframe thead th {\n",
       "        text-align: right;\n",
       "    }\n",
       "</style>\n",
       "<table border=\"1\" class=\"dataframe\">\n",
       "  <thead>\n",
       "    <tr style=\"text-align: right;\">\n",
       "      <th></th>\n",
       "      <th>DOI</th>\n",
       "      <th>IPID</th>\n",
       "      <th>city</th>\n",
       "      <th>country</th>\n",
       "      <th>date</th>\n",
       "      <th>is_oa</th>\n",
       "      <th>lat</th>\n",
       "      <th>lon</th>\n",
       "      <th>userID</th>\n",
       "    </tr>\n",
       "  </thead>\n",
       "  <tbody>\n",
       "    <tr>\n",
       "      <th>0</th>\n",
       "      <td>10.1111/j.1755-6724.2011.00377.x</td>\n",
       "      <td>177</td>\n",
       "      <td>Guangzhou Shi</td>\n",
       "      <td>China</td>\n",
       "      <td>2017-01-01 00:02:06</td>\n",
       "      <td>f</td>\n",
       "      <td>23.129110</td>\n",
       "      <td>113.264385</td>\n",
       "      <td>191</td>\n",
       "    </tr>\n",
       "    <tr>\n",
       "      <th>1</th>\n",
       "      <td>10.1111/j.1755-6724.2011.00378.x</td>\n",
       "      <td>177</td>\n",
       "      <td>Guangzhou Shi</td>\n",
       "      <td>China</td>\n",
       "      <td>2017-01-01 00:03:29</td>\n",
       "      <td>f</td>\n",
       "      <td>23.129110</td>\n",
       "      <td>113.264385</td>\n",
       "      <td>191</td>\n",
       "    </tr>\n",
       "    <tr>\n",
       "      <th>2</th>\n",
       "      <td>10.2514/1.b34382</td>\n",
       "      <td>57</td>\n",
       "      <td>Milano</td>\n",
       "      <td>Italy</td>\n",
       "      <td>2017-01-01 00:06:12</td>\n",
       "      <td>f</td>\n",
       "      <td>45.465422</td>\n",
       "      <td>9.185924</td>\n",
       "      <td>60</td>\n",
       "    </tr>\n",
       "    <tr>\n",
       "      <th>3</th>\n",
       "      <td>10.1073/pnas.0902793106</td>\n",
       "      <td>19</td>\n",
       "      <td>NaN</td>\n",
       "      <td>NaN</td>\n",
       "      <td>2017-01-01 00:08:49</td>\n",
       "      <td>t</td>\n",
       "      <td>NaN</td>\n",
       "      <td>NaN</td>\n",
       "      <td>637</td>\n",
       "    </tr>\n",
       "    <tr>\n",
       "      <th>4</th>\n",
       "      <td>10.1007/978-3-540-39923-0_12</td>\n",
       "      <td>310</td>\n",
       "      <td>Concepción</td>\n",
       "      <td>Chile</td>\n",
       "      <td>2017-01-01 00:08:51</td>\n",
       "      <td>f</td>\n",
       "      <td>-36.820135</td>\n",
       "      <td>-73.044390</td>\n",
       "      <td>340</td>\n",
       "    </tr>\n",
       "  </tbody>\n",
       "</table>\n",
       "</div>"
      ],
      "text/plain": [
       "                                DOI  IPID           city country  \\\n",
       "0  10.1111/j.1755-6724.2011.00377.x   177  Guangzhou Shi   China   \n",
       "1  10.1111/j.1755-6724.2011.00378.x   177  Guangzhou Shi   China   \n",
       "2                  10.2514/1.b34382    57         Milano   Italy   \n",
       "3           10.1073/pnas.0902793106    19            NaN     NaN   \n",
       "4      10.1007/978-3-540-39923-0_12   310     Concepción   Chile   \n",
       "\n",
       "                  date is_oa        lat         lon  userID  \n",
       "0  2017-01-01 00:02:06     f  23.129110  113.264385     191  \n",
       "1  2017-01-01 00:03:29     f  23.129110  113.264385     191  \n",
       "2  2017-01-01 00:06:12     f  45.465422    9.185924      60  \n",
       "3  2017-01-01 00:08:49     t        NaN         NaN     637  \n",
       "4  2017-01-01 00:08:51     f -36.820135  -73.044390     340  "
      ]
     },
     "execution_count": 3,
     "metadata": {},
     "output_type": "execute_result"
    }
   ],
   "source": [
    "statistics2017.head()"
   ]
  },
  {
   "cell_type": "code",
   "execution_count": 4,
   "metadata": {},
   "outputs": [],
   "source": [
    "#remove parenthsis and special characters\n",
    "statistics2017[\"country\"] = statistics2017[\"country\"].str.replace(r\" *\\(.*\\)\", \"\")"
   ]
  },
  {
   "cell_type": "code",
   "execution_count": 5,
   "metadata": {},
   "outputs": [],
   "source": [
    "#Giving coontinents to countries:\n",
    "\n",
    "countries_continent = pd.read_csv('./../../data/Countries-Continents.csv')"
   ]
  },
  {
   "cell_type": "code",
   "execution_count": 6,
   "metadata": {},
   "outputs": [],
   "source": [
    "statistics2017 = pd.merge(statistics2017, countries_continent,\n",
    "         left_on = \"country\", right_on = \"Country\", how = \"left\")\n",
    "statistics2017 = statistics2017.drop(columns=\"Country\")\n",
    "statistics2017 = statistics2017.rename({\"Continent\": \"continent\"}, axis = \"columns\")\n",
    "#isolate the prefix of the DOI \n",
    "statistics2017[\"DOI_prefix\"] = statistics2017[\"DOI\"].map(lambda x: str(x).split(\"/\")[0])"
   ]
  },
  {
   "cell_type": "code",
   "execution_count": 7,
   "metadata": {},
   "outputs": [],
   "source": [
    "statistics2017.to_csv(\"./../../data/sample/2017.statistics.sample.with_missing_cities_continents.csv\", index=None)"
   ]
  },
  {
   "cell_type": "code",
   "execution_count": 8,
   "metadata": {},
   "outputs": [],
   "source": [
    "statistics2017 = pd.read_csv(\"./../../data/sample/2017.statistics.sample.with_missing_cities_continents.csv\")"
   ]
  },
  {
   "cell_type": "code",
   "execution_count": 9,
   "metadata": {},
   "outputs": [
    {
     "data": {
      "text/html": [
       "<div>\n",
       "<style scoped>\n",
       "    .dataframe tbody tr th:only-of-type {\n",
       "        vertical-align: middle;\n",
       "    }\n",
       "\n",
       "    .dataframe tbody tr th {\n",
       "        vertical-align: top;\n",
       "    }\n",
       "\n",
       "    .dataframe thead th {\n",
       "        text-align: right;\n",
       "    }\n",
       "</style>\n",
       "<table border=\"1\" class=\"dataframe\">\n",
       "  <thead>\n",
       "    <tr style=\"text-align: right;\">\n",
       "      <th></th>\n",
       "      <th>DOI</th>\n",
       "      <th>IPID</th>\n",
       "      <th>city</th>\n",
       "      <th>country</th>\n",
       "      <th>date</th>\n",
       "      <th>is_oa</th>\n",
       "      <th>lat</th>\n",
       "      <th>lon</th>\n",
       "      <th>userID</th>\n",
       "      <th>continent</th>\n",
       "      <th>DOI_prefix</th>\n",
       "    </tr>\n",
       "  </thead>\n",
       "  <tbody>\n",
       "    <tr>\n",
       "      <th>0</th>\n",
       "      <td>10.1111/j.1755-6724.2011.00377.x</td>\n",
       "      <td>177</td>\n",
       "      <td>Guangzhou Shi</td>\n",
       "      <td>China</td>\n",
       "      <td>2017-01-01 00:02:06</td>\n",
       "      <td>f</td>\n",
       "      <td>23.129110</td>\n",
       "      <td>113.264385</td>\n",
       "      <td>191</td>\n",
       "      <td>Asia</td>\n",
       "      <td>10.1111</td>\n",
       "    </tr>\n",
       "    <tr>\n",
       "      <th>1</th>\n",
       "      <td>10.1111/j.1755-6724.2011.00378.x</td>\n",
       "      <td>177</td>\n",
       "      <td>Guangzhou Shi</td>\n",
       "      <td>China</td>\n",
       "      <td>2017-01-01 00:03:29</td>\n",
       "      <td>f</td>\n",
       "      <td>23.129110</td>\n",
       "      <td>113.264385</td>\n",
       "      <td>191</td>\n",
       "      <td>Asia</td>\n",
       "      <td>10.1111</td>\n",
       "    </tr>\n",
       "    <tr>\n",
       "      <th>2</th>\n",
       "      <td>10.2514/1.b34382</td>\n",
       "      <td>57</td>\n",
       "      <td>Milano</td>\n",
       "      <td>Italy</td>\n",
       "      <td>2017-01-01 00:06:12</td>\n",
       "      <td>f</td>\n",
       "      <td>45.465422</td>\n",
       "      <td>9.185924</td>\n",
       "      <td>60</td>\n",
       "      <td>Europe</td>\n",
       "      <td>10.2514</td>\n",
       "    </tr>\n",
       "    <tr>\n",
       "      <th>3</th>\n",
       "      <td>10.1073/pnas.0902793106</td>\n",
       "      <td>19</td>\n",
       "      <td>NaN</td>\n",
       "      <td>NaN</td>\n",
       "      <td>2017-01-01 00:08:49</td>\n",
       "      <td>t</td>\n",
       "      <td>NaN</td>\n",
       "      <td>NaN</td>\n",
       "      <td>637</td>\n",
       "      <td>NaN</td>\n",
       "      <td>10.1073</td>\n",
       "    </tr>\n",
       "    <tr>\n",
       "      <th>4</th>\n",
       "      <td>10.1007/978-3-540-39923-0_12</td>\n",
       "      <td>310</td>\n",
       "      <td>Concepción</td>\n",
       "      <td>Chile</td>\n",
       "      <td>2017-01-01 00:08:51</td>\n",
       "      <td>f</td>\n",
       "      <td>-36.820135</td>\n",
       "      <td>-73.044390</td>\n",
       "      <td>340</td>\n",
       "      <td>South America</td>\n",
       "      <td>10.1007</td>\n",
       "    </tr>\n",
       "  </tbody>\n",
       "</table>\n",
       "</div>"
      ],
      "text/plain": [
       "                                DOI  IPID           city country  \\\n",
       "0  10.1111/j.1755-6724.2011.00377.x   177  Guangzhou Shi   China   \n",
       "1  10.1111/j.1755-6724.2011.00378.x   177  Guangzhou Shi   China   \n",
       "2                  10.2514/1.b34382    57         Milano   Italy   \n",
       "3           10.1073/pnas.0902793106    19            NaN     NaN   \n",
       "4      10.1007/978-3-540-39923-0_12   310     Concepción   Chile   \n",
       "\n",
       "                  date is_oa        lat         lon  userID      continent  \\\n",
       "0  2017-01-01 00:02:06     f  23.129110  113.264385     191           Asia   \n",
       "1  2017-01-01 00:03:29     f  23.129110  113.264385     191           Asia   \n",
       "2  2017-01-01 00:06:12     f  45.465422    9.185924      60         Europe   \n",
       "3  2017-01-01 00:08:49     t        NaN         NaN     637            NaN   \n",
       "4  2017-01-01 00:08:51     f -36.820135  -73.044390     340  South America   \n",
       "\n",
       "   DOI_prefix  \n",
       "0     10.1111  \n",
       "1     10.1111  \n",
       "2     10.2514  \n",
       "3     10.1073  \n",
       "4     10.1007  "
      ]
     },
     "execution_count": 9,
     "metadata": {},
     "output_type": "execute_result"
    }
   ],
   "source": [
    "statistics2017.head()"
   ]
  },
  {
   "cell_type": "code",
   "execution_count": 10,
   "metadata": {},
   "outputs": [
    {
     "name": "stdout",
     "output_type": "stream",
     "text": [
      "<class 'pandas.core.frame.DataFrame'>\n",
      "RangeIndex: 1500000 entries, 0 to 1499999\n",
      "Data columns (total 11 columns):\n",
      "DOI           1500000 non-null object\n",
      "IPID          1500000 non-null int64\n",
      "city          1394066 non-null object\n",
      "country       1468489 non-null object\n",
      "date          1500000 non-null object\n",
      "is_oa         1480851 non-null object\n",
      "lat           1386787 non-null float64\n",
      "lon           1386787 non-null float64\n",
      "userID        1500000 non-null int64\n",
      "continent     1467987 non-null object\n",
      "DOI_prefix    1500000 non-null float64\n",
      "dtypes: float64(3), int64(2), object(6)\n",
      "memory usage: 125.9+ MB\n"
     ]
    }
   ],
   "source": [
    "statistics2017.info()"
   ]
  },
  {
   "cell_type": "code",
   "execution_count": null,
   "metadata": {},
   "outputs": [],
   "source": []
  }
 ],
 "metadata": {
  "kernelspec": {
   "display_name": "Python 3",
   "language": "python",
   "name": "python3"
  },
  "language_info": {
   "codemirror_mode": {
    "name": "ipython",
    "version": 3
   },
   "file_extension": ".py",
   "mimetype": "text/x-python",
   "name": "python",
   "nbconvert_exporter": "python",
   "pygments_lexer": "ipython3",
   "version": "3.6.5"
  }
 },
 "nbformat": 4,
 "nbformat_minor": 2
}
