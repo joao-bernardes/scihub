{
 "cells": [
  {
   "cell_type": "code",
   "execution_count": 1,
   "metadata": {},
   "outputs": [],
   "source": [
    "import pandas as pd\n",
    "import numpy as np\n",
    "import matplotlib.pyplot as plt\n",
    "import seaborn as sns"
   ]
  },
  {
   "cell_type": "markdown",
   "metadata": {},
   "source": [
    "### Import DataFrame"
   ]
  },
  {
   "cell_type": "code",
   "execution_count": 2,
   "metadata": {},
   "outputs": [],
   "source": [
    "world_pop = pd.read_csv(\"./../../data/outsrc/API_SP.POP.TOTL_DS2_en_csv_v2_10058048.csv\")"
   ]
  },
  {
   "cell_type": "code",
   "execution_count": 3,
   "metadata": {},
   "outputs": [],
   "source": [
    "world_pop = world_pop.loc[:,(\"Country Name\", \"2014\")]\n",
    "world_pop = world_pop.rename({\"2014\": \"2014 Population\"}, axis = \"columns\")\n",
    "world_pop = world_pop.dropna(how=\"any\")"
   ]
  },
  {
   "cell_type": "code",
   "execution_count": 4,
   "metadata": {},
   "outputs": [
    {
     "name": "stdout",
     "output_type": "stream",
     "text": [
      "<class 'pandas.core.frame.DataFrame'>\n",
      "Int64Index: 262 entries, 0 to 263\n",
      "Data columns (total 2 columns):\n",
      "Country Name       262 non-null object\n",
      "2014 Population    262 non-null float64\n",
      "dtypes: float64(1), object(1)\n",
      "memory usage: 6.1+ KB\n"
     ]
    }
   ],
   "source": [
    "world_pop.info()"
   ]
  },
  {
   "cell_type": "markdown",
   "metadata": {},
   "source": [
    "### Import DataFrame"
   ]
  },
  {
   "cell_type": "code",
   "execution_count": 5,
   "metadata": {},
   "outputs": [
    {
     "name": "stdout",
     "output_type": "stream",
     "text": [
      "<class 'pandas.core.frame.DataFrame'>\n",
      "RangeIndex: 213 entries, 0 to 212\n",
      "Data columns (total 4 columns):\n",
      "continent    213 non-null object\n",
      "country      213 non-null object\n",
      "Downloads    213 non-null int64\n",
      "city         213 non-null int64\n",
      "dtypes: int64(2), object(2)\n",
      "memory usage: 6.7+ KB\n"
     ]
    }
   ],
   "source": [
    "statistics2017 = pd.read_csv(\"./../../data/sample/2017.statistics.sample.with_missing_cities_continents.csv\")\n",
    "statistics2017 = statistics2017.loc[:,(\"DOI\",\"city\",\"country\",\"continent\")]\n",
    "statistics2017 = statistics2017.rename({\"DOI\": \"Downloads\"}, axis = \"columns\")\n",
    "statistics2017 = statistics2017.groupby([\"continent\",'country']).count().sort_values(by=\"Downloads\", ascending=False)\n",
    "statistics2017 = statistics2017.reset_index()\n",
    "statistics2017.info()"
   ]
  },
  {
   "cell_type": "markdown",
   "metadata": {},
   "source": [
    "### Merge DataFrame"
   ]
  },
  {
   "cell_type": "code",
   "execution_count": 6,
   "metadata": {},
   "outputs": [],
   "source": [
    "statistics2017 = pd.merge(statistics2017, world_pop, left_on=\"country\", right_on=\"Country Name\")\n",
    "statistics2017 = statistics2017.drop(columns=\"Country Name\")"
   ]
  },
  {
   "cell_type": "code",
   "execution_count": 7,
   "metadata": {},
   "outputs": [
    {
     "data": {
      "text/html": [
       "<div>\n",
       "<style scoped>\n",
       "    .dataframe tbody tr th:only-of-type {\n",
       "        vertical-align: middle;\n",
       "    }\n",
       "\n",
       "    .dataframe tbody tr th {\n",
       "        vertical-align: top;\n",
       "    }\n",
       "\n",
       "    .dataframe thead th {\n",
       "        text-align: right;\n",
       "    }\n",
       "</style>\n",
       "<table border=\"1\" class=\"dataframe\">\n",
       "  <thead>\n",
       "    <tr style=\"text-align: right;\">\n",
       "      <th></th>\n",
       "      <th>continent</th>\n",
       "      <th>country</th>\n",
       "      <th>Downloads</th>\n",
       "      <th>city</th>\n",
       "      <th>2014 Population</th>\n",
       "    </tr>\n",
       "  </thead>\n",
       "  <tbody>\n",
       "    <tr>\n",
       "      <th>0</th>\n",
       "      <td>Asia</td>\n",
       "      <td>China</td>\n",
       "      <td>243363</td>\n",
       "      <td>243250</td>\n",
       "      <td>1.364270e+09</td>\n",
       "    </tr>\n",
       "    <tr>\n",
       "      <th>1</th>\n",
       "      <td>Asia</td>\n",
       "      <td>India</td>\n",
       "      <td>132886</td>\n",
       "      <td>132886</td>\n",
       "      <td>1.293859e+09</td>\n",
       "    </tr>\n",
       "    <tr>\n",
       "      <th>2</th>\n",
       "      <td>North America</td>\n",
       "      <td>United States</td>\n",
       "      <td>110440</td>\n",
       "      <td>109912</td>\n",
       "      <td>3.186225e+08</td>\n",
       "    </tr>\n",
       "    <tr>\n",
       "      <th>3</th>\n",
       "      <td>South America</td>\n",
       "      <td>Brazil</td>\n",
       "      <td>71323</td>\n",
       "      <td>71322</td>\n",
       "      <td>2.042131e+08</td>\n",
       "    </tr>\n",
       "    <tr>\n",
       "      <th>4</th>\n",
       "      <td>Asia</td>\n",
       "      <td>Indonesia</td>\n",
       "      <td>59517</td>\n",
       "      <td>55160</td>\n",
       "      <td>2.551311e+08</td>\n",
       "    </tr>\n",
       "  </tbody>\n",
       "</table>\n",
       "</div>"
      ],
      "text/plain": [
       "       continent        country  Downloads    city  2014 Population\n",
       "0           Asia          China     243363  243250     1.364270e+09\n",
       "1           Asia          India     132886  132886     1.293859e+09\n",
       "2  North America  United States     110440  109912     3.186225e+08\n",
       "3  South America         Brazil      71323   71322     2.042131e+08\n",
       "4           Asia      Indonesia      59517   55160     2.551311e+08"
      ]
     },
     "execution_count": 7,
     "metadata": {},
     "output_type": "execute_result"
    }
   ],
   "source": [
    "statistics2017.head()"
   ]
  },
  {
   "cell_type": "code",
   "execution_count": 8,
   "metadata": {},
   "outputs": [
    {
     "data": {
      "text/html": [
       "<div>\n",
       "<style scoped>\n",
       "    .dataframe tbody tr th:only-of-type {\n",
       "        vertical-align: middle;\n",
       "    }\n",
       "\n",
       "    .dataframe tbody tr th {\n",
       "        vertical-align: top;\n",
       "    }\n",
       "\n",
       "    .dataframe thead th {\n",
       "        text-align: right;\n",
       "    }\n",
       "</style>\n",
       "<table border=\"1\" class=\"dataframe\">\n",
       "  <thead>\n",
       "    <tr style=\"text-align: right;\">\n",
       "      <th></th>\n",
       "      <th>continent</th>\n",
       "      <th>country</th>\n",
       "      <th>Downloads</th>\n",
       "      <th>city</th>\n",
       "      <th>2014 Population</th>\n",
       "      <th>Downloads_1000hb</th>\n",
       "    </tr>\n",
       "  </thead>\n",
       "  <tbody>\n",
       "    <tr>\n",
       "      <th>0</th>\n",
       "      <td>Asia</td>\n",
       "      <td>China</td>\n",
       "      <td>243363</td>\n",
       "      <td>243250</td>\n",
       "      <td>1.364270e+09</td>\n",
       "      <td>0.178383</td>\n",
       "    </tr>\n",
       "    <tr>\n",
       "      <th>1</th>\n",
       "      <td>Asia</td>\n",
       "      <td>India</td>\n",
       "      <td>132886</td>\n",
       "      <td>132886</td>\n",
       "      <td>1.293859e+09</td>\n",
       "      <td>0.102705</td>\n",
       "    </tr>\n",
       "    <tr>\n",
       "      <th>2</th>\n",
       "      <td>North America</td>\n",
       "      <td>United States</td>\n",
       "      <td>110440</td>\n",
       "      <td>109912</td>\n",
       "      <td>3.186225e+08</td>\n",
       "      <td>0.346617</td>\n",
       "    </tr>\n",
       "    <tr>\n",
       "      <th>3</th>\n",
       "      <td>South America</td>\n",
       "      <td>Brazil</td>\n",
       "      <td>71323</td>\n",
       "      <td>71322</td>\n",
       "      <td>2.042131e+08</td>\n",
       "      <td>0.349258</td>\n",
       "    </tr>\n",
       "    <tr>\n",
       "      <th>4</th>\n",
       "      <td>Asia</td>\n",
       "      <td>Indonesia</td>\n",
       "      <td>59517</td>\n",
       "      <td>55160</td>\n",
       "      <td>2.551311e+08</td>\n",
       "      <td>0.233280</td>\n",
       "    </tr>\n",
       "  </tbody>\n",
       "</table>\n",
       "</div>"
      ],
      "text/plain": [
       "       continent        country  Downloads    city  2014 Population  \\\n",
       "0           Asia          China     243363  243250     1.364270e+09   \n",
       "1           Asia          India     132886  132886     1.293859e+09   \n",
       "2  North America  United States     110440  109912     3.186225e+08   \n",
       "3  South America         Brazil      71323   71322     2.042131e+08   \n",
       "4           Asia      Indonesia      59517   55160     2.551311e+08   \n",
       "\n",
       "   Downloads_1000hb  \n",
       "0          0.178383  \n",
       "1          0.102705  \n",
       "2          0.346617  \n",
       "3          0.349258  \n",
       "4          0.233280  "
      ]
     },
     "execution_count": 8,
     "metadata": {},
     "output_type": "execute_result"
    }
   ],
   "source": [
    "statistics2017[\"Downloads_1000hb\"] = statistics2017.Downloads / statistics2017[\"2014 Population\"] *1000\n",
    "statistics2017.head()"
   ]
  },
  {
   "cell_type": "code",
   "execution_count": 9,
   "metadata": {},
   "outputs": [],
   "source": [
    "country_list = [\"Mexico\",\"Cuba\",\"Dominican Republic\",\"Haiti\",\"Guadeloupe\",\"Martinique\", \"Saint-Barthélemy\",\n",
    "                \"Puerto Rico\",\"Belize\",\"Costa Rica\",\"El Salvador\",\"Guatemala\",\"Honduras\",\"Nicaragua\",\"Panama\"]"
   ]
  },
  {
   "cell_type": "code",
   "execution_count": 10,
   "metadata": {},
   "outputs": [],
   "source": [
    "list_1 = [statistics2017.loc[statistics2017.continent == \"North America\"].country.unique()]\n",
    "list_2 = country_list\n",
    "N_list = np.setdiff1d(list_1,list_2)"
   ]
  },
  {
   "cell_type": "code",
   "execution_count": 11,
   "metadata": {},
   "outputs": [],
   "source": [
    "N = statistics2017.loc[statistics2017.continent == \"Europe\",:]\n",
    "for i in N_list:\n",
    "    N2 = statistics2017.loc[statistics2017.country == i,:]\n",
    "    N = N.append(N2)"
   ]
  },
  {
   "cell_type": "code",
   "execution_count": 35,
   "metadata": {},
   "outputs": [
    {
     "name": "stdout",
     "output_type": "stream",
     "text": [
      "\\begin{tabular}{llr}\n",
      "\\toprule\n",
      "{} &                 country &  Downloads \\\\\n",
      "\\midrule\n",
      "65  &              Luxembourg &       1403 \\\\\n",
      "126 &  British Virgin Islands &         54 \\\\\n",
      "86  &                 Iceland &        536 \\\\\n",
      "18  &                Portugal &      16859 \\\\\n",
      "14  &             Netherlands &      20280 \\\\\n",
      "\\bottomrule\n",
      "\\end{tabular}\n",
      "\n"
     ]
    }
   ],
   "source": [
    "table1 = N.sort_values(by=\"Downloads_1000hb\", ascending=False).head()\n",
    "table1 = table1.loc[:,(\"country\", \"Downloads\")]\n",
    "print (table1.to_latex())"
   ]
  },
  {
   "cell_type": "code",
   "execution_count": 42,
   "metadata": {},
   "outputs": [
    {
     "data": {
      "text/plain": [
       "<matplotlib.axes._subplots.AxesSubplot at 0x1cd815aa208>"
      ]
     },
     "execution_count": 42,
     "metadata": {},
     "output_type": "execute_result"
    },
    {
     "data": {
      "image/png": "[encoded data removed]",
      "text/plain": [
       "<Figure size 720x720 with 1 Axes>"
      ]
     },
     "metadata": {},
     "output_type": "display_data"
    }
   ],
   "source": [
    "bar1 = N.sort_values(by='2014 Population', ascending=False).head(15)\n",
    "bar1 = bar1.set_index(\"country\")\n",
    "bar1 = bar1.loc[:,(\"2014 Population\")]\n",
    "pie1.plot.bar( figsize=(10,10))\n"
   ]
  },
  {
   "cell_type": "code",
   "execution_count": 21,
   "metadata": {},
   "outputs": [
    {
     "data": {
      "text/plain": [
       "Text(0.5,0,' ')"
      ]
     },
     "execution_count": 21,
     "metadata": {},
     "output_type": "execute_result"
    },
    {
     "data": {
      "image/png": "[encoded data removed]",
      "text/plain": [
       "<Figure size 720x360 with 1 Axes>"
      ]
     },
     "metadata": {},
     "output_type": "display_data"
    }
   ],
   "source": [
    "plot = N.sort_values(by=\"Downloads_1000hb\", ascending=False).head(50)\n",
    "plt.subplots(figsize=(10, 5))\n",
    "plot = sns.barplot('country', 'Downloads_1000hb', data=plot)\n",
    "sns.axes_style('darkgrid')\n",
    "plt.xticks(rotation=90)\n",
    "plot.set_ylabel(\"Nº of Articles per 1000 hab.\", fontsize=10)\n",
    "plot.set_xlabel(\" \", fontsize=10)"
   ]
  },
  {
   "cell_type": "markdown",
   "metadata": {},
   "source": [
    "### Import DataFrame"
   ]
  },
  {
   "cell_type": "code",
   "execution_count": 23,
   "metadata": {},
   "outputs": [],
   "source": [
    "statistics2017 = pd.read_csv(\"./../../data/sample/2017.statistics.sample.with_missing_cities_continents.csv\")"
   ]
  }
 ],
 "metadata": {
  "kernelspec": {
   "display_name": "Python 3",
   "language": "python",
   "name": "python3"
  },
  "language_info": {
   "codemirror_mode": {
    "name": "ipython",
    "version": 3
   },
   "file_extension": ".py",
   "mimetype": "text/x-python",
   "name": "python",
   "nbconvert_exporter": "python",
   "pygments_lexer": "ipython3",
   "version": "3.6.5"
  }
 },
 "nbformat": 4,
 "nbformat_minor": 2
}
