{
 "cells": [
  {
   "cell_type": "markdown",
   "metadata": {},
   "source": [
    "## 2017.statistics.tab Wrangling"
   ]
  },
  {
   "cell_type": "code",
   "execution_count": 1,
   "metadata": {},
   "outputs": [],
   "source": [
    "import pandas as pd\n",
    "import random \n",
    "import os, errno"
   ]
  },
  {
   "cell_type": "code",
   "execution_count": 111,
   "metadata": {},
   "outputs": [],
   "source": [
    "with open(\"./../../data/full/2017.statistics.tab\", \"a\", encoding=\"utf8\") as g:\n",
    "\n",
    "    with open(\"./../../data/full/2017.statistics.1016.j.tab\", \"r\",  encoding=\"utf8\") as f:\n",
    "        for lines in f:\n",
    "            g.write(lines)"
   ]
  },
  {
   "cell_type": "code",
   "execution_count": 112,
   "metadata": {},
   "outputs": [
    {
     "data": {
      "text/plain": [
       "194499727"
      ]
     },
     "execution_count": 112,
     "metadata": {},
     "output_type": "execute_result"
    }
   ],
   "source": [
    "#First count the total lines in order to divide it into usable sizes\n",
    "def file_len(filename):\n",
    "    with open(filename, encoding=\"utf8\") as f:\n",
    "        for i, l in enumerate(f):\n",
    "            pass\n",
    "    return i + 1\n",
    "file_len(\"./../../data/full/2017.statistics.tab\")"
   ]
  },
  {
   "cell_type": "code",
   "execution_count": 177,
   "metadata": {},
   "outputs": [],
   "source": [
    "import random\n",
    "# def yetanother(sample,out_file=\"./../../data/full/tryme.statistics.tab\"):\n",
    "#     with open(out_file,\"wb\")as g:\n",
    "#         for lines in sample:\n",
    "#             g.write(lines)\n",
    "\n",
    "def random_sampler(in_file,out_file, k):\n",
    "    with open(out_file,\"wb\")as g:\n",
    "        #sample = []\n",
    "        with open(in_file, 'rb') as f:\n",
    "            linecount = sum(1 for line in f)\n",
    "            f.seek(0)\n",
    "\n",
    "            random_linenos = sorted(random.sample(range(linecount), k), reverse = True)\n",
    "            lineno = random_linenos.pop()\n",
    "            for n, line in enumerate(f):\n",
    "                if n == lineno:\n",
    "                    g.write(line)\n",
    "                    #sample.append(line.rstrip())\n",
    "                    if len(random_linenos) > 0:\n",
    "                        lineno = random_linenos.pop()\n",
    "                    else:\n",
    "                        break\n",
    "        #yetanother(sample)\n",
    "    #http://metadatascience.com/2014/02/27/random-sampling-from-very-large-files/"
   ]
  },
  {
   "cell_type": "code",
   "execution_count": 178,
   "metadata": {},
   "outputs": [],
   "source": [
    "random_sampler(\"./../../data/full/2017.statistics.tab\", \"./../../data/sample/2017.statistics.sample.tab\", 1650000)"
   ]
  },
  {
   "cell_type": "code",
   "execution_count": 4,
   "metadata": {},
   "outputs": [
    {
     "ename": "TypeError",
     "evalue": "'DataFrame' object is not callable",
     "output_type": "error",
     "traceback": [
      "\u001b[1;31m---------------------------------------------------------------------------\u001b[0m",
      "\u001b[1;31mTypeError\u001b[0m                                 Traceback (most recent call last)",
      "\u001b[1;32m<ipython-input-4-01ab500b218a>\u001b[0m in \u001b[0;36m<module>\u001b[1;34m()\u001b[0m\n\u001b[0;32m      1\u001b[0m \u001b[0masd\u001b[0m \u001b[1;33m=\u001b[0m \u001b[0mpd\u001b[0m\u001b[1;33m.\u001b[0m\u001b[0mread_table\u001b[0m\u001b[1;33m(\u001b[0m\u001b[1;34m\"./../../data/sample/2017.statistics.sample.tab\"\u001b[0m\u001b[1;33m,\u001b[0m\u001b[0mheader\u001b[0m\u001b[1;33m=\u001b[0m\u001b[1;32mNone\u001b[0m\u001b[1;33m)\u001b[0m\u001b[1;33m\u001b[0m\u001b[0m\n\u001b[0;32m      2\u001b[0m \u001b[0masd\u001b[0m\u001b[1;33m.\u001b[0m\u001b[0mcolumns\u001b[0m \u001b[1;33m=\u001b[0m \u001b[1;33m[\u001b[0m\u001b[1;34m\"date\"\u001b[0m\u001b[1;33m,\u001b[0m \u001b[1;34m\"DOI\"\u001b[0m\u001b[1;33m,\u001b[0m \u001b[1;34m\"IPID\"\u001b[0m\u001b[1;33m,\u001b[0m \u001b[1;34m\"userID\"\u001b[0m\u001b[1;33m,\u001b[0m \u001b[1;34m\"country\"\u001b[0m\u001b[1;33m,\u001b[0m \u001b[1;34m\"city\"\u001b[0m\u001b[1;33m,\u001b[0m \u001b[1;34m\"lat\"\u001b[0m\u001b[1;33m,\u001b[0m \u001b[1;34m\"lon\"\u001b[0m\u001b[1;33m]\u001b[0m\u001b[1;33m\u001b[0m\u001b[0m\n\u001b[1;32m----> 3\u001b[1;33m \u001b[0masd\u001b[0m\u001b[1;33m.\u001b[0m\u001b[0mhead\u001b[0m\u001b[1;33m(\u001b[0m\u001b[1;33m)\u001b[0m\u001b[1;33m(\u001b[0m\u001b[1;36m705\u001b[0m\u001b[1;33m)\u001b[0m\u001b[1;33m\u001b[0m\u001b[0m\n\u001b[0m",
      "\u001b[1;31mTypeError\u001b[0m: 'DataFrame' object is not callable"
     ]
    }
   ],
   "source": [
    "asd = pd.read_table(\"./../../data/sample/2017.statistics.sample.tab\",header=None)\n",
    "asd.columns = [\"date\", \"DOI\", \"IPID\", \"userID\", \"country\", \"city\", \"lat\", \"lon\"]\n"
   ]
  },
  {
   "cell_type": "code",
   "execution_count": 6,
   "metadata": {},
   "outputs": [
    {
     "data": {
      "text/html": [
       "<div>\n",
       "<style scoped>\n",
       "    .dataframe tbody tr th:only-of-type {\n",
       "        vertical-align: middle;\n",
       "    }\n",
       "\n",
       "    .dataframe tbody tr th {\n",
       "        vertical-align: top;\n",
       "    }\n",
       "\n",
       "    .dataframe thead th {\n",
       "        text-align: right;\n",
       "    }\n",
       "</style>\n",
       "<table border=\"1\" class=\"dataframe\">\n",
       "  <thead>\n",
       "    <tr style=\"text-align: right;\">\n",
       "      <th></th>\n",
       "      <th>date</th>\n",
       "      <th>DOI</th>\n",
       "      <th>IPID</th>\n",
       "      <th>userID</th>\n",
       "      <th>country</th>\n",
       "      <th>city</th>\n",
       "      <th>lat</th>\n",
       "      <th>lon</th>\n",
       "    </tr>\n",
       "  </thead>\n",
       "  <tbody>\n",
       "    <tr>\n",
       "      <th>0</th>\n",
       "      <td>2017-01-01 00:01:01</td>\n",
       "      <td>10.1109/MED.2014.6961475</td>\n",
       "      <td>91</td>\n",
       "      <td>95</td>\n",
       "      <td>Iran</td>\n",
       "      <td>NaN</td>\n",
       "      <td>NaN</td>\n",
       "      <td>NaN</td>\n",
       "    </tr>\n",
       "    <tr>\n",
       "      <th>1</th>\n",
       "      <td>2017-01-01 00:02:33</td>\n",
       "      <td>10.1300/J035v20n01_07</td>\n",
       "      <td>38</td>\n",
       "      <td>39</td>\n",
       "      <td>Philippines</td>\n",
       "      <td>Hagonoy</td>\n",
       "      <td>14.791933</td>\n",
       "      <td>120.734995</td>\n",
       "    </tr>\n",
       "    <tr>\n",
       "      <th>2</th>\n",
       "      <td>2017-01-01 00:02:36</td>\n",
       "      <td>10.1016/0376-0421(91)90004-n</td>\n",
       "      <td>216</td>\n",
       "      <td>239</td>\n",
       "      <td>Turkey</td>\n",
       "      <td>NaN</td>\n",
       "      <td>40.146995</td>\n",
       "      <td>26.429717</td>\n",
       "    </tr>\n",
       "    <tr>\n",
       "      <th>3</th>\n",
       "      <td>2017-01-01 00:03:40</td>\n",
       "      <td>10.1258/1357633981931560</td>\n",
       "      <td>287</td>\n",
       "      <td>315</td>\n",
       "      <td>Greece</td>\n",
       "      <td>Nafplio</td>\n",
       "      <td>37.567317</td>\n",
       "      <td>22.801553</td>\n",
       "    </tr>\n",
       "    <tr>\n",
       "      <th>4</th>\n",
       "      <td>2017-01-01 00:03:41</td>\n",
       "      <td>10.1016/s0378-7753(98)00242-0</td>\n",
       "      <td>168</td>\n",
       "      <td>181</td>\n",
       "      <td>Belgium</td>\n",
       "      <td>Hasselt</td>\n",
       "      <td>50.930690</td>\n",
       "      <td>5.332480</td>\n",
       "    </tr>\n",
       "  </tbody>\n",
       "</table>\n",
       "</div>"
      ],
      "text/plain": [
       "                  date                            DOI  IPID  userID  \\\n",
       "0  2017-01-01 00:01:01       10.1109/MED.2014.6961475    91      95   \n",
       "1  2017-01-01 00:02:33          10.1300/J035v20n01_07    38      39   \n",
       "2  2017-01-01 00:02:36   10.1016/0376-0421(91)90004-n   216     239   \n",
       "3  2017-01-01 00:03:40       10.1258/1357633981931560   287     315   \n",
       "4  2017-01-01 00:03:41  10.1016/s0378-7753(98)00242-0   168     181   \n",
       "\n",
       "       country     city        lat         lon  \n",
       "0         Iran      NaN        NaN         NaN  \n",
       "1  Philippines  Hagonoy  14.791933  120.734995  \n",
       "2       Turkey      NaN  40.146995   26.429717  \n",
       "3       Greece  Nafplio  37.567317   22.801553  \n",
       "4      Belgium  Hasselt  50.930690    5.332480  "
      ]
     },
     "execution_count": 6,
     "metadata": {},
     "output_type": "execute_result"
    }
   ],
   "source": [
    "asd.head()"
   ]
  }
 ],
 "metadata": {
  "kernelspec": {
   "display_name": "Python 3",
   "language": "python",
   "name": "python3"
  },
  "language_info": {
   "codemirror_mode": {
    "name": "ipython",
    "version": 3
   },
   "file_extension": ".py",
   "mimetype": "text/x-python",
   "name": "python",
   "nbconvert_exporter": "python",
   "pygments_lexer": "ipython3",
   "version": "3.6.4"
  }
 },
 "nbformat": 4,
 "nbformat_minor": 2
}
