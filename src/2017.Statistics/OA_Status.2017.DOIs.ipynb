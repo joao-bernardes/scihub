{
 "cells": [
  {
   "cell_type": "code",
   "execution_count": 1,
   "metadata": {},
   "outputs": [],
   "source": [
    "import pandas as pd\n",
    "import matplotlib.pyplot as plt"
   ]
  },
  {
   "cell_type": "markdown",
   "metadata": {},
   "source": [
    "### Import Dataframe"
   ]
  },
  {
   "cell_type": "code",
   "execution_count": 2,
   "metadata": {},
   "outputs": [],
   "source": [
    "statistics2017 = pd.read_table(\"./../../data/sample/2017.statistics.sample.csv\", header=None)"
   ]
  },
  {
   "cell_type": "code",
   "execution_count": 3,
   "metadata": {},
   "outputs": [],
   "source": [
    "#give columns names\n",
    "statistics2017.columns = [\"date\", \"DOI\", \"IPID\", \"userID\", \"country\", \"city\", \"lat\", \"lon\"]"
   ]
  },
  {
   "cell_type": "code",
   "execution_count": 4,
   "metadata": {},
   "outputs": [],
   "source": [
    "#Lowercase DOI:\n",
    "statistics2017.DOI = statistics2017[\"DOI\"].str.lower()"
   ]
  },
  {
   "cell_type": "code",
   "execution_count": null,
   "metadata": {},
   "outputs": [],
   "source": [
    "#remove parenthsis and special characters\n",
    "statistics2017[\"country\"] = statistics2017[\"country\"].str.replace(r\" *\\(.*\\)\", \"\")"
   ]
  },
  {
   "cell_type": "code",
   "execution_count": null,
   "metadata": {},
   "outputs": [],
   "source": [
    "statistics2017.head(3)"
   ]
  },
  {
   "cell_type": "markdown",
   "metadata": {},
   "source": [
    "## Import OA_status"
   ]
  },
  {
   "cell_type": "code",
   "execution_count": null,
   "metadata": {},
   "outputs": [],
   "source": [
    "#iteration list:\n",
    "OA_list = [\"oa_status00\",\"oa_status01\",\"oa_status02\",\n",
    "           \"oa_status03\",\"oa_status04\",\"oa_status05\",\n",
    "           \"oa_status06\",\"oa_status07\",\"oa_status08\",\n",
    "           \"oa_status09\",\"oa_status10\",\"oa_status11\",\n",
    "           \"oa_status12\",\"oa_status13\",\"oa_status14\",\n",
    "           \"oa_status15\",\"oa_status16\",\"oa_status17\",\n",
    "           \"oa_status18\",\"oa_status19\",\"oa_status20\",\n",
    "           \"oa_status21\",\"oa_status22\",\"oa_status23\",\n",
    "           \"oa_status24\",\"oa_status25\",\"oa_status26\",\n",
    "           \"oa_status27\",\"oa_status28\",\"oa_status29\"]"
   ]
  },
  {
   "cell_type": "code",
   "execution_count": null,
   "metadata": {},
   "outputs": [],
   "source": [
    "def oa_status_read(in_path):\n",
    "    with open(in_path, encoding=\"UTF-8\") as f:\n",
    "        oa_status = pd.read_csv(f,low_memory=False, header=0)\n",
    "        return oa_status\n",
    "    \n",
    "def merge_them(DataFrame, in_path):\n",
    "    oa_status = oa_status_read(in_path)\n",
    "    scihub_oa_status = pd.merge(DataFrame, oa_status,left_on = \"DOI\", right_on = \"doi\", how = \"left\")\n",
    "    scihub_oa_status = scihub_oa_status.drop(columns=\"doi\")   \n",
    "    return scihub_oa_status\n",
    "    \n",
    "def generate_file(base_in_path, DataFrame, file_list): \n",
    "    for file in file_list:\n",
    "        in_path = base_in_path + file\n",
    "        DataFrame = merge_them(DataFrame, in_path)\n",
    "    return DataFrame"
   ]
  },
  {
   "cell_type": "code",
   "execution_count": null,
   "metadata": {},
   "outputs": [],
   "source": [
    "%%time\n",
    "scihub_oa_status = generate_file(\"./../../data/full/OA_status/\", statistics2017, OA_list)"
   ]
  },
  {
   "cell_type": "code",
   "execution_count": null,
   "metadata": {},
   "outputs": [],
   "source": [
    "%%time\n",
    "p = scihub_oa_status.set_index(\"DOI\")\n",
    "print(\"signal 1\")\n",
    "p = p.drop(columns=[\"date\",\"IPID\",\"userID\",\"country\",\"city\",\"lat\",\"lon\"]).dropna(how='all')\n",
    "print(\"signal 2\")\n",
    "p = (p.apply(lambda x: pd.Series(x[~x.isnull()].values), axis=1))\n",
    "print(\"signal 3\")\n",
    "p.columns=['is_oa']\n",
    "print(\"signal 4\")\n",
    "p.describe()"
   ]
  },
  {
   "cell_type": "code",
   "execution_count": null,
   "metadata": {},
   "outputs": [],
   "source": [
    "p.to_csv(\"./../../data/sample/2017.statistics.oa_status.csv\")"
   ]
  },
  {
   "cell_type": "code",
   "execution_count": null,
   "metadata": {},
   "outputs": [],
   "source": [
    "p = pd.read_csv(\"./../../data/sample/2017.statistics.oa_status.csv\", index_col=\"DOI\")"
   ]
  },
  {
   "cell_type": "code",
   "execution_count": null,
   "metadata": {},
   "outputs": [],
   "source": [
    "p.describe()"
   ]
  },
  {
   "cell_type": "markdown",
   "metadata": {},
   "source": [
    "### SAMPLE FILE - 1621170 out of 1645950 articles were found in Unpaywall;"
   ]
  }
 ],
 "metadata": {
  "kernelspec": {
   "display_name": "Python 3",
   "language": "python",
   "name": "python3"
  },
  "language_info": {
   "codemirror_mode": {
    "name": "ipython",
    "version": 3
   },
   "file_extension": ".py",
   "mimetype": "text/x-python",
   "name": "python",
   "nbconvert_exporter": "python",
   "pygments_lexer": "ipython3",
   "version": "3.6.4"
  }
 },
 "nbformat": 4,
 "nbformat_minor": 2
}
