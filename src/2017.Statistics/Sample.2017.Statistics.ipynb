{
 "cells": [
  {
   "cell_type": "markdown",
   "metadata": {},
   "source": [
    "## 2017.statistics.tab Wrangling"
   ]
  },
  {
   "cell_type": "code",
   "execution_count": 5,
   "metadata": {},
   "outputs": [],
   "source": [
    "import pandas as pd\n",
    "import numpy as np\n",
    "import cartopy.crs as ccrs\n",
    "import matplotlib.pyplot as plt"
   ]
  },
  {
   "cell_type": "code",
   "execution_count": null,
   "metadata": {},
   "outputs": [],
   "source": [
    "#First count the total lines in order to divide it into usable sizes\n",
    "\n",
    "def file_len(filename):\n",
    "    with open(filename, encoding=\"utf8\") as f:\n",
    "        for i, l in enumerate(f):\n",
    "            pass\n",
    "    return i + 1\n",
    "file_len(\"./data/full/2017.statistics.tab\")"
   ]
  },
  {
   "cell_type": "code",
   "execution_count": 20,
   "metadata": {},
   "outputs": [],
   "source": [
    "#Spliting the file in 30175173 lines each, 5 files.\n",
    "\n",
    "def split_file(in_path, base_out_path):\n",
    "    N=30175173\n",
    "    with open(in_path, encoding=\"UTF8\") as fin:\n",
    "        fout = open(base_out_path + \"statistics2017_0\",\"w\", encoding=\"UTF8\")\n",
    "        for i,line in enumerate(fin):\n",
    "            fout.write(line)\n",
    "            if (i+1)%N == 0:\n",
    "                fout.close()\n",
    "                fout = open(base_out_path + \"statistics2017_0%d\"%(i/N+1),\"w\", encoding=\"UTF8\")"
   ]
  },
  {
   "cell_type": "code",
   "execution_count": 21,
   "metadata": {},
   "outputs": [],
   "source": [
    "split_file(\"./data/full/2017.statistics.tab\", \"./data/full/statistics2017/\")"
   ]
  },
  {
   "cell_type": "code",
   "execution_count": 5,
   "metadata": {},
   "outputs": [],
   "source": [
    "#Sampling into a single 'statistiscs2017_sample' file:\n",
    "\n",
    "def sampleData(in_file, out_file):\n",
    "    with open(in_file, 'r', encoding=\"utf8\") as f:\n",
    "        res = random.sample(f.readlines(),1250)\n",
    "    with open(out_file,\"a\", encoding=\"utf8\")as g:\n",
    "        for lines in res:\n",
    "            g.write(lines)\n",
    "            \n",
    "def list_all(in_path,out_file, stat_list):\n",
    "    \n",
    "    for file in stat_list:\n",
    "        in_file = in_path + file\n",
    "        sampleData(in_file, out_file)"
   ]
  },
  {
   "cell_type": "code",
   "execution_count": 6,
   "metadata": {},
   "outputs": [],
   "source": [
    "stat_list = [\"statistics2017_0\",\"statistics2017_01\",\"statistics2017_02\",\"statistics2017_03\",\"statistics2017_04\"]\n",
    "list_all(\"./data/full/statistics2017/\", \"./data/sample/statistics2017_sample\", stat_list)"
   ]
  }
 ],
 "metadata": {
  "kernelspec": {
   "display_name": "Python 3",
   "language": "python",
   "name": "python3"
  },
  "language_info": {
   "codemirror_mode": {
    "name": "ipython",
    "version": 3
   },
   "file_extension": ".py",
   "mimetype": "text/x-python",
   "name": "python",
   "nbconvert_exporter": "python",
   "pygments_lexer": "ipython3",
   "version": "3.6.4"
  }
 },
 "nbformat": 4,
 "nbformat_minor": 2
}
