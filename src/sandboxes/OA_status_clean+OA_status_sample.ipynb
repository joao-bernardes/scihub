{
 "cells": [
  {
   "cell_type": "code",
   "execution_count": 16,
   "metadata": {},
   "outputs": [],
   "source": [
    "import pandas as pd"
   ]
  },
  {
   "cell_type": "code",
   "execution_count": 17,
   "metadata": {},
   "outputs": [],
   "source": [
    "OA_list = [\"oa_status00\",\"oa_status01\",\"oa_status02\",\"oa_status03\",\"oa_status04\",\"oa_status05\",\"oa_status06\",\"oa_status07\",\"oa_status08\",\"oa_status09\",\"oa_status10\",\"oa_status11\",\"oa_status12\",\"oa_status13\",\"oa_status15\",\"oa_status16\",\"oa_status17\",\"oa_status18\",\"oa_status19\"]"
   ]
  },
  {
   "cell_type": "code",
   "execution_count": 18,
   "metadata": {},
   "outputs": [],
   "source": [
    "path = \"./../data/full/OA_status_raw/\""
   ]
  },
  {
   "cell_type": "code",
   "execution_count": null,
   "metadata": {},
   "outputs": [],
   "source": [
    "path = \"./../data/full/OA_status_raw/\"\n",
    "def clean_raw():\n",
    "    n = 0\n",
    "    while n < 20:\n",
    "     #import from (path + list), 'doi' and 'is_oa' columns. \n",
    "        with open(path + OA_list[n], encoding=\"Latin-1\") as f:\n",
    "            data = pd.read_csv(f,usecols=[0,1], index_col=0,header=None)\n",
    "            data.columns = [\"is_oa\"]\n",
    "            #After column rename, replace same column with boolean values.\n",
    "            data = data.replace({\"is_oa\":{\"f\":False,\"t\":True}})\n",
    "            #Export to new directory, full, clean, dataframe.\n",
    "            data.to_csv(\"./../data/full/OA_status/\" + OA_list[n])\n",
    "        n = n + 1 \n",
    "clean_raw()"
   ]
  },
  {
   "cell_type": "code",
   "execution_count": null,
   "metadata": {},
   "outputs": [],
   "source": [
    "path = \"./../data/full/OA_status/\"\n",
    "def get_sample():\n",
    "    n = 0\n",
    "    while n < 20:\n",
    "        #import dataframes. \n",
    "        with open(path + OA_list[n], encoding=\"Latin-1\") as f:\n",
    "            data = pd.read_csv(f, index_col=0)\n",
    "            #Extract 25 line sample.\n",
    "            sample = data.head(25)\n",
    "            #Export sample keeping name, changing path.\n",
    "            sample.to_csv(\"./../data/data_sample/OA_status_sample/\" + OA_list[n])\n",
    "        n = n + 1 \n",
    "get_sample()"
   ]
  },
  {
   "cell_type": "code",
   "execution_count": 14,
   "metadata": {},
   "outputs": [
    {
     "ename": "KeyboardInterrupt",
     "evalue": "",
     "output_type": "error",
     "traceback": [
      "\u001b[1;31m---------------------------------------------------------------------------\u001b[0m",
      "\u001b[1;31mKeyboardInterrupt\u001b[0m                         Traceback (most recent call last)",
      "\u001b[1;32m<ipython-input-14-a58cdf09dd9a>\u001b[0m in \u001b[0;36m<module>\u001b[1;34m()\u001b[0m\n\u001b[0;32m     18\u001b[0m         \u001b[0mclean_raw_file\u001b[0m\u001b[1;33m(\u001b[0m\u001b[0min_path\u001b[0m\u001b[1;33m,\u001b[0m \u001b[0mout_path\u001b[0m\u001b[1;33m)\u001b[0m\u001b[1;33m\u001b[0m\u001b[0m\n\u001b[0;32m     19\u001b[0m \u001b[1;33m\u001b[0m\u001b[0m\n\u001b[1;32m---> 20\u001b[1;33m \u001b[0mclean_raw\u001b[0m\u001b[1;33m(\u001b[0m\u001b[1;33m)\u001b[0m\u001b[1;33m\u001b[0m\u001b[0m\n\u001b[0m",
      "\u001b[1;32m<ipython-input-14-a58cdf09dd9a>\u001b[0m in \u001b[0;36mclean_raw\u001b[1;34m()\u001b[0m\n\u001b[0;32m     16\u001b[0m         \u001b[0min_path\u001b[0m \u001b[1;33m=\u001b[0m \u001b[0mpath\u001b[0m \u001b[1;33m+\u001b[0m \u001b[0mOA_list\u001b[0m\u001b[1;33m[\u001b[0m\u001b[0mn\u001b[0m\u001b[1;33m]\u001b[0m\u001b[1;33m\u001b[0m\u001b[0m\n\u001b[0;32m     17\u001b[0m         \u001b[0mout_path\u001b[0m \u001b[1;33m=\u001b[0m \u001b[1;34m\"./../data/full/OA_status/\"\u001b[0m \u001b[1;33m+\u001b[0m \u001b[0mOA_list\u001b[0m\u001b[1;33m[\u001b[0m\u001b[0mn\u001b[0m\u001b[1;33m]\u001b[0m\u001b[1;33m\u001b[0m\u001b[0m\n\u001b[1;32m---> 18\u001b[1;33m         \u001b[0mclean_raw_file\u001b[0m\u001b[1;33m(\u001b[0m\u001b[0min_path\u001b[0m\u001b[1;33m,\u001b[0m \u001b[0mout_path\u001b[0m\u001b[1;33m)\u001b[0m\u001b[1;33m\u001b[0m\u001b[0m\n\u001b[0m\u001b[0;32m     19\u001b[0m \u001b[1;33m\u001b[0m\u001b[0m\n\u001b[0;32m     20\u001b[0m \u001b[0mclean_raw\u001b[0m\u001b[1;33m(\u001b[0m\u001b[1;33m)\u001b[0m\u001b[1;33m\u001b[0m\u001b[0m\n",
      "\u001b[1;32m<ipython-input-14-a58cdf09dd9a>\u001b[0m in \u001b[0;36mclean_raw_file\u001b[1;34m(in_path, out_path)\u001b[0m\n\u001b[0;32m      4\u001b[0m     \u001b[1;31m#import from (path + list), 'doi' and 'is_oa' columns.\u001b[0m\u001b[1;33m\u001b[0m\u001b[1;33m\u001b[0m\u001b[0m\n\u001b[0;32m      5\u001b[0m     \u001b[1;32mwith\u001b[0m \u001b[0mopen\u001b[0m\u001b[1;33m(\u001b[0m\u001b[0min_path\u001b[0m\u001b[1;33m,\u001b[0m \u001b[0mencoding\u001b[0m\u001b[1;33m=\u001b[0m\u001b[1;34m\"Latin-1\"\u001b[0m\u001b[1;33m)\u001b[0m \u001b[1;32mas\u001b[0m \u001b[0mf\u001b[0m\u001b[1;33m:\u001b[0m\u001b[1;33m\u001b[0m\u001b[0m\n\u001b[1;32m----> 6\u001b[1;33m         \u001b[0mdata\u001b[0m \u001b[1;33m=\u001b[0m \u001b[0mpd\u001b[0m\u001b[1;33m.\u001b[0m\u001b[0mread_csv\u001b[0m\u001b[1;33m(\u001b[0m\u001b[0mf\u001b[0m\u001b[1;33m,\u001b[0m\u001b[0musecols\u001b[0m\u001b[1;33m=\u001b[0m\u001b[1;33m[\u001b[0m\u001b[1;36m0\u001b[0m\u001b[1;33m,\u001b[0m\u001b[1;36m1\u001b[0m\u001b[1;33m]\u001b[0m\u001b[1;33m,\u001b[0m \u001b[0mindex_col\u001b[0m\u001b[1;33m=\u001b[0m\u001b[1;36m0\u001b[0m\u001b[1;33m,\u001b[0m\u001b[0mheader\u001b[0m\u001b[1;33m=\u001b[0m\u001b[1;32mNone\u001b[0m\u001b[1;33m)\u001b[0m\u001b[1;33m\u001b[0m\u001b[0m\n\u001b[0m\u001b[0;32m      7\u001b[0m         \u001b[0mdata\u001b[0m\u001b[1;33m.\u001b[0m\u001b[0mcolumns\u001b[0m \u001b[1;33m=\u001b[0m \u001b[1;33m[\u001b[0m\u001b[1;34m\"is_oa\"\u001b[0m\u001b[1;33m]\u001b[0m\u001b[1;33m\u001b[0m\u001b[0m\n\u001b[0;32m      8\u001b[0m         \u001b[1;31m#After column rename, replace same column with boolean values.\u001b[0m\u001b[1;33m\u001b[0m\u001b[1;33m\u001b[0m\u001b[0m\n",
      "\u001b[1;32mC:\\anaconda\\lib\\site-packages\\pandas\\io\\parsers.py\u001b[0m in \u001b[0;36mparser_f\u001b[1;34m(filepath_or_buffer, sep, delimiter, header, names, index_col, usecols, squeeze, prefix, mangle_dupe_cols, dtype, engine, converters, true_values, false_values, skipinitialspace, skiprows, nrows, na_values, keep_default_na, na_filter, verbose, skip_blank_lines, parse_dates, infer_datetime_format, keep_date_col, date_parser, dayfirst, iterator, chunksize, compression, thousands, decimal, lineterminator, quotechar, quoting, escapechar, comment, encoding, dialect, tupleize_cols, error_bad_lines, warn_bad_lines, skipfooter, skip_footer, doublequote, delim_whitespace, as_recarray, compact_ints, use_unsigned, low_memory, buffer_lines, memory_map, float_precision)\u001b[0m\n\u001b[0;32m    707\u001b[0m                     skip_blank_lines=skip_blank_lines)\n\u001b[0;32m    708\u001b[0m \u001b[1;33m\u001b[0m\u001b[0m\n\u001b[1;32m--> 709\u001b[1;33m         \u001b[1;32mreturn\u001b[0m \u001b[0m_read\u001b[0m\u001b[1;33m(\u001b[0m\u001b[0mfilepath_or_buffer\u001b[0m\u001b[1;33m,\u001b[0m \u001b[0mkwds\u001b[0m\u001b[1;33m)\u001b[0m\u001b[1;33m\u001b[0m\u001b[0m\n\u001b[0m\u001b[0;32m    710\u001b[0m \u001b[1;33m\u001b[0m\u001b[0m\n\u001b[0;32m    711\u001b[0m     \u001b[0mparser_f\u001b[0m\u001b[1;33m.\u001b[0m\u001b[0m__name__\u001b[0m \u001b[1;33m=\u001b[0m \u001b[0mname\u001b[0m\u001b[1;33m\u001b[0m\u001b[0m\n",
      "\u001b[1;32mC:\\anaconda\\lib\\site-packages\\pandas\\io\\parsers.py\u001b[0m in \u001b[0;36m_read\u001b[1;34m(filepath_or_buffer, kwds)\u001b[0m\n\u001b[0;32m    453\u001b[0m \u001b[1;33m\u001b[0m\u001b[0m\n\u001b[0;32m    454\u001b[0m     \u001b[1;32mtry\u001b[0m\u001b[1;33m:\u001b[0m\u001b[1;33m\u001b[0m\u001b[0m\n\u001b[1;32m--> 455\u001b[1;33m         \u001b[0mdata\u001b[0m \u001b[1;33m=\u001b[0m \u001b[0mparser\u001b[0m\u001b[1;33m.\u001b[0m\u001b[0mread\u001b[0m\u001b[1;33m(\u001b[0m\u001b[0mnrows\u001b[0m\u001b[1;33m)\u001b[0m\u001b[1;33m\u001b[0m\u001b[0m\n\u001b[0m\u001b[0;32m    456\u001b[0m     \u001b[1;32mfinally\u001b[0m\u001b[1;33m:\u001b[0m\u001b[1;33m\u001b[0m\u001b[0m\n\u001b[0;32m    457\u001b[0m         \u001b[0mparser\u001b[0m\u001b[1;33m.\u001b[0m\u001b[0mclose\u001b[0m\u001b[1;33m(\u001b[0m\u001b[1;33m)\u001b[0m\u001b[1;33m\u001b[0m\u001b[0m\n",
      "\u001b[1;32mC:\\anaconda\\lib\\site-packages\\pandas\\io\\parsers.py\u001b[0m in \u001b[0;36mread\u001b[1;34m(self, nrows)\u001b[0m\n\u001b[0;32m   1067\u001b[0m                 \u001b[1;32mraise\u001b[0m \u001b[0mValueError\u001b[0m\u001b[1;33m(\u001b[0m\u001b[1;34m'skipfooter not supported for iteration'\u001b[0m\u001b[1;33m)\u001b[0m\u001b[1;33m\u001b[0m\u001b[0m\n\u001b[0;32m   1068\u001b[0m \u001b[1;33m\u001b[0m\u001b[0m\n\u001b[1;32m-> 1069\u001b[1;33m         \u001b[0mret\u001b[0m \u001b[1;33m=\u001b[0m \u001b[0mself\u001b[0m\u001b[1;33m.\u001b[0m\u001b[0m_engine\u001b[0m\u001b[1;33m.\u001b[0m\u001b[0mread\u001b[0m\u001b[1;33m(\u001b[0m\u001b[0mnrows\u001b[0m\u001b[1;33m)\u001b[0m\u001b[1;33m\u001b[0m\u001b[0m\n\u001b[0m\u001b[0;32m   1070\u001b[0m \u001b[1;33m\u001b[0m\u001b[0m\n\u001b[0;32m   1071\u001b[0m         \u001b[1;32mif\u001b[0m \u001b[0mself\u001b[0m\u001b[1;33m.\u001b[0m\u001b[0moptions\u001b[0m\u001b[1;33m.\u001b[0m\u001b[0mget\u001b[0m\u001b[1;33m(\u001b[0m\u001b[1;34m'as_recarray'\u001b[0m\u001b[1;33m)\u001b[0m\u001b[1;33m:\u001b[0m\u001b[1;33m\u001b[0m\u001b[0m\n",
      "\u001b[1;32mC:\\anaconda\\lib\\site-packages\\pandas\\io\\parsers.py\u001b[0m in \u001b[0;36mread\u001b[1;34m(self, nrows)\u001b[0m\n\u001b[0;32m   1837\u001b[0m     \u001b[1;32mdef\u001b[0m \u001b[0mread\u001b[0m\u001b[1;33m(\u001b[0m\u001b[0mself\u001b[0m\u001b[1;33m,\u001b[0m \u001b[0mnrows\u001b[0m\u001b[1;33m=\u001b[0m\u001b[1;32mNone\u001b[0m\u001b[1;33m)\u001b[0m\u001b[1;33m:\u001b[0m\u001b[1;33m\u001b[0m\u001b[0m\n\u001b[0;32m   1838\u001b[0m         \u001b[1;32mtry\u001b[0m\u001b[1;33m:\u001b[0m\u001b[1;33m\u001b[0m\u001b[0m\n\u001b[1;32m-> 1839\u001b[1;33m             \u001b[0mdata\u001b[0m \u001b[1;33m=\u001b[0m \u001b[0mself\u001b[0m\u001b[1;33m.\u001b[0m\u001b[0m_reader\u001b[0m\u001b[1;33m.\u001b[0m\u001b[0mread\u001b[0m\u001b[1;33m(\u001b[0m\u001b[0mnrows\u001b[0m\u001b[1;33m)\u001b[0m\u001b[1;33m\u001b[0m\u001b[0m\n\u001b[0m\u001b[0;32m   1840\u001b[0m         \u001b[1;32mexcept\u001b[0m \u001b[0mStopIteration\u001b[0m\u001b[1;33m:\u001b[0m\u001b[1;33m\u001b[0m\u001b[0m\n\u001b[0;32m   1841\u001b[0m             \u001b[1;32mif\u001b[0m \u001b[0mself\u001b[0m\u001b[1;33m.\u001b[0m\u001b[0m_first_chunk\u001b[0m\u001b[1;33m:\u001b[0m\u001b[1;33m\u001b[0m\u001b[0m\n",
      "\u001b[1;32mpandas/_libs/parsers.pyx\u001b[0m in \u001b[0;36mpandas._libs.parsers.TextReader.read\u001b[1;34m()\u001b[0m\n",
      "\u001b[1;32mpandas/_libs/parsers.pyx\u001b[0m in \u001b[0;36mpandas._libs.parsers.TextReader._read_low_memory\u001b[1;34m()\u001b[0m\n",
      "\u001b[1;32mpandas/_libs/parsers.pyx\u001b[0m in \u001b[0;36mpandas._libs.parsers.TextReader._read_rows\u001b[1;34m()\u001b[0m\n",
      "\u001b[1;32mpandas/_libs/parsers.pyx\u001b[0m in \u001b[0;36mpandas._libs.parsers.TextReader._convert_column_data\u001b[1;34m()\u001b[0m\n",
      "\u001b[1;32mpandas/_libs/parsers.pyx\u001b[0m in \u001b[0;36mpandas._libs.parsers.TextReader._convert_tokens\u001b[1;34m()\u001b[0m\n",
      "\u001b[1;32mpandas/_libs/parsers.pyx\u001b[0m in \u001b[0;36mpandas._libs.parsers.TextReader._convert_with_dtype\u001b[1;34m()\u001b[0m\n",
      "\u001b[1;32mC:\\anaconda\\lib\\site-packages\\pandas\\core\\dtypes\\common.py\u001b[0m in \u001b[0;36mis_integer_dtype\u001b[1;34m(arr_or_dtype)\u001b[0m\n\u001b[0;32m    817\u001b[0m     \u001b[1;32mif\u001b[0m \u001b[0marr_or_dtype\u001b[0m \u001b[1;32mis\u001b[0m \u001b[1;32mNone\u001b[0m\u001b[1;33m:\u001b[0m\u001b[1;33m\u001b[0m\u001b[0m\n\u001b[0;32m    818\u001b[0m         \u001b[1;32mreturn\u001b[0m \u001b[1;32mFalse\u001b[0m\u001b[1;33m\u001b[0m\u001b[0m\n\u001b[1;32m--> 819\u001b[1;33m     \u001b[0mtipo\u001b[0m \u001b[1;33m=\u001b[0m \u001b[0m_get_dtype_type\u001b[0m\u001b[1;33m(\u001b[0m\u001b[0marr_or_dtype\u001b[0m\u001b[1;33m)\u001b[0m\u001b[1;33m\u001b[0m\u001b[0m\n\u001b[0m\u001b[0;32m    820\u001b[0m     return (issubclass(tipo, np.integer) and\n\u001b[0;32m    821\u001b[0m             not issubclass(tipo, (np.datetime64, np.timedelta64)))\n",
      "\u001b[1;31mKeyboardInterrupt\u001b[0m: "
     ]
    }
   ],
   "source": [
    "def clean_raw_file(in_path, out_path):\n",
    "    #import from (path + list), 'doi' and 'is_oa' columns.\n",
    "    with open(in_path, encoding=\"Latin-1\") as f:\n",
    "        data = pd.read_csv(f,usecols=[0,1], index_col=0,header=None)\n",
    "        data.columns = [\"is_oa\"]\n",
    "        #After column rename, replace same column with boolean values.\n",
    "        data = data.replace({\"is_oa\":{\"f\":False,\"t\":True}})\n",
    "        #Export to new directory, full, clean, dataframe.\n",
    "        data.to_csv(out_path)\n",
    "    \n",
    "\n",
    "def clean_raw(base_in_path, base_out_path, file_list):\n",
    "    for file in file_list:\n",
    "        in_path = base_in_path + file\n",
    "        out_path = base_out_path + file\n",
    "        \n",
    "        clean_raw_file(in_path, out_path)\n",
    "        \n",
    "clean_raw(\"./../data/full/OA_status_raw/\",\n",
    "          \"./../data/full/OA_status/\",\n",
    "          OA_list)"
   ]
  },
  {
   "cell_type": "code",
   "execution_count": 20,
   "metadata": {},
   "outputs": [],
   "source": [
    "def read_doi_oa(in_path):\n",
    "    #import from (path + list), 'doi' and 'is_oa' columns.\n",
    "    with open(in_path, encoding=\"Latin-1\") as f:\n",
    "        data = pd.read_csv(f,usecols=[0,1], index_col=0,header=None)\n",
    "        data.columns = [\"is_oa\"]\n",
    "        #After column rename, replace same column with boolean values.\n",
    "        data = data.replace({\"is_oa\":{\"f\":False,\"t\":True}})\n",
    "        return data\n",
    "    \n",
    "\n",
    "def clean_raw(base_in_path, base_out_path, file_list):\n",
    "    for file in file_list:\n",
    "        in_path = base_in_path + file\n",
    "        out_path = base_out_path + file\n",
    "        \n",
    "        data = read_doi_oa(in_path)\n",
    "        \n",
    "        #Export to new directory, full, clean, dataframe.\n",
    "        data.to_csv(out_path)\n",
    "\n",
    "clean_raw(\"./../data/data_sample/OA_status_raw/\",\n",
    "          \"./../data/full/OA_status/\",\n",
    "          OA_list)"
   ]
  },
  {
   "cell_type": "code",
   "execution_count": null,
   "metadata": {},
   "outputs": [],
   "source": [
    "def read_doi_oa(in_path):\n",
    "    #import from (path + list), 'doi' and 'is_oa' columns.\n",
    "    with open(in_path, encoding=\"Latin-1\") as f:\n",
    "        data = pd.read_csv(f, usecols=[\"doi\", \"is_oa\"], header=0)\n",
    "        #After column rename, replace same column with boolean values.\n",
    "        data = data.replace({\"is_oa\":{\"f\":False,\"t\":True}})\n",
    "        \n",
    "        return data\n",
    "\n",
    "def clean_raw(base_in_path, base_out_path, file_list):\n",
    "    for file in file_list:\n",
    "        in_path = base_in_path + file\n",
    "        out_path = base_out_path + file\n",
    "        \n",
    "        data = read_doi_oa(in_path)\n",
    "        \n",
    "        #Export to new directory, full, clean, dataframe.\n",
    "        data.to_csv(out_path)\n",
    "\n",
    "clean_raw(\"./../data/full/OA_status_raw/,\n",
    "          \"./../data/full/OA_status/\",\n",
    "          OA_list)"
   ]
  },
  {
   "cell_type": "code",
   "execution_count": null,
   "metadata": {},
   "outputs": [],
   "source": [
    "def read_doi_oa(in_path):\n",
    "    #import from (path + list), 'doi' and 'is_oa' columns.\n",
    "    with open(in_path, encoding=\"Latin-1\") as f:\n",
    "        data = pd.read_csv(f, usecols=[\"doi\", \"is_oa\"], header=0)\n",
    "        #After column rename, replace same column with boolean values.\n",
    "        data = data.replace({\"is_oa\":{\"f\":False,\"t\":True}})\n",
    "        \n",
    "        return data\n",
    "\n",
    "def read_sample(in_path):\n",
    "    with open(in_path, encoding=\"Latin-1\") as f:\n",
    "        data = pd.read_csv(f, header=0, index_col=0)\n",
    "        \n",
    "        #Extract 25 line sample.\n",
    "        return data.sample(25)\n",
    "\n",
    "def apply_func(file_list, func,\n",
    "               base_out_path,\n",
    "               base_in_path=\"../data/full/OA_status_raw/\"):\n",
    "    for file in file_list:\n",
    "        in_path = base_in_path + file\n",
    "        out_path = base_out_path + file\n",
    "        \n",
    "        data = func(in_path)\n",
    "        \n",
    "        #Export to new directory, full, clean, dataframe.\n",
    "        data.to_csv(out_path)\n",
    "\n",
    "apply_func(OA_list, read_doi_oa, \"./../data/full/OA_status/\")\n",
    "apply_func(OA_list, read_sample, \"./../data/sample/OA_status/\")"
   ]
  }
 ],
 "metadata": {
  "kernelspec": {
   "display_name": "Python 3",
   "language": "python",
   "name": "python3"
  },
  "language_info": {
   "codemirror_mode": {
    "name": "ipython",
    "version": 3
   },
   "file_extension": ".py",
   "mimetype": "text/x-python",
   "name": "python",
   "nbconvert_exporter": "python",
   "pygments_lexer": "ipython3",
   "version": "3.6.4"
  }
 },
 "nbformat": 4,
 "nbformat_minor": 2
}
