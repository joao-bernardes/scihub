{
 "cells": [
  {
   "cell_type": "code",
   "execution_count": 2,
   "metadata": {},
   "outputs": [],
   "source": [
    "import pandas as pd\n",
    "import matplotlib.pyplot as plt"
   ]
  },
  {
   "cell_type": "markdown",
   "metadata": {},
   "source": [
    "### Import DataFrame"
   ]
  },
  {
   "cell_type": "code",
   "execution_count": 3,
   "metadata": {},
   "outputs": [],
   "source": [
    "statistics2017 = pd.read_table(\"./../../data/sample/2017.statistics.sample.csv\", header=None)"
   ]
  },
  {
   "cell_type": "code",
   "execution_count": 4,
   "metadata": {},
   "outputs": [],
   "source": [
    "#give columns names\n",
    "statistics2017.columns = [\"date\", \"DOI\", \"IPID\", \"userID\", \"country\", \"city\", \"lat\", \"lon\"]"
   ]
  },
  {
   "cell_type": "code",
   "execution_count": 5,
   "metadata": {},
   "outputs": [],
   "source": [
    "#Lowercase DOI:\n",
    "statistics2017.DOI = statistics2017[\"DOI\"].str.lower()"
   ]
  },
  {
   "cell_type": "code",
   "execution_count": 6,
   "metadata": {},
   "outputs": [],
   "source": [
    "#remove parenthsis and special characters\n",
    "statistics2017[\"country\"] = statistics2017[\"country\"].str.replace(r\" *\\(.*\\)\", \"\")"
   ]
  },
  {
   "cell_type": "markdown",
   "metadata": {},
   "source": [
    "### Import DataFrame"
   ]
  },
  {
   "cell_type": "code",
   "execution_count": 7,
   "metadata": {},
   "outputs": [],
   "source": [
    "p = pd.read_csv(\"./../../data/sample/2017.statistics.oa_status.csv\", index_col=\"DOI\")"
   ]
  },
  {
   "cell_type": "code",
   "execution_count": 8,
   "metadata": {},
   "outputs": [
    {
     "data": {
      "text/html": [
       "<div>\n",
       "<style scoped>\n",
       "    .dataframe tbody tr th:only-of-type {\n",
       "        vertical-align: middle;\n",
       "    }\n",
       "\n",
       "    .dataframe tbody tr th {\n",
       "        vertical-align: top;\n",
       "    }\n",
       "\n",
       "    .dataframe thead th {\n",
       "        text-align: right;\n",
       "    }\n",
       "</style>\n",
       "<table border=\"1\" class=\"dataframe\">\n",
       "  <thead>\n",
       "    <tr style=\"text-align: right;\">\n",
       "      <th></th>\n",
       "      <th>is_oa</th>\n",
       "    </tr>\n",
       "  </thead>\n",
       "  <tbody>\n",
       "    <tr>\n",
       "      <th>count</th>\n",
       "      <td>1629438</td>\n",
       "    </tr>\n",
       "    <tr>\n",
       "      <th>unique</th>\n",
       "      <td>2</td>\n",
       "    </tr>\n",
       "    <tr>\n",
       "      <th>top</th>\n",
       "      <td>False</td>\n",
       "    </tr>\n",
       "    <tr>\n",
       "      <th>freq</th>\n",
       "      <td>1358121</td>\n",
       "    </tr>\n",
       "  </tbody>\n",
       "</table>\n",
       "</div>"
      ],
      "text/plain": [
       "          is_oa\n",
       "count   1629438\n",
       "unique        2\n",
       "top       False\n",
       "freq    1358121"
      ]
     },
     "execution_count": 8,
     "metadata": {},
     "output_type": "execute_result"
    }
   ],
   "source": [
    "p.describe()"
   ]
  },
  {
   "cell_type": "markdown",
   "metadata": {},
   "source": [
    "### SAMPLE FILE - 1629438 out of 1649984 articles were found in Unpaywall;"
   ]
  },
  {
   "cell_type": "code",
   "execution_count": 9,
   "metadata": {},
   "outputs": [],
   "source": [
    "#adding OA_status to out dataframe\n",
    "statistics2017 = pd.merge(statistics2017.loc[:,\"date\":\"lon\"],p, left_on = \"DOI\", \n",
    "                          right_on = \"doi\", right_index=True, how = \"outer\")"
   ]
  },
  {
   "cell_type": "code",
   "execution_count": 10,
   "metadata": {},
   "outputs": [],
   "source": [
    "statistics2017 = statistics2017.drop_duplicates()"
   ]
  },
  {
   "cell_type": "code",
   "execution_count": 11,
   "metadata": {},
   "outputs": [
    {
     "name": "stdout",
     "output_type": "stream",
     "text": [
      "<class 'pandas.core.frame.DataFrame'>\n",
      "Int64Index: 1649984 entries, 0 to 1649983\n",
      "Data columns (total 9 columns):\n",
      "date       1649984 non-null object\n",
      "DOI        1649984 non-null object\n",
      "IPID       1649984 non-null int64\n",
      "userID     1649984 non-null int64\n",
      "country    1615396 non-null object\n",
      "city       1364384 non-null object\n",
      "lat        1526127 non-null float64\n",
      "lon        1526127 non-null float64\n",
      "is_oa      1629438 non-null object\n",
      "dtypes: float64(2), int64(2), object(5)\n",
      "memory usage: 125.9+ MB\n"
     ]
    }
   ],
   "source": [
    "statistics2017.info()"
   ]
  },
  {
   "cell_type": "code",
   "execution_count": 12,
   "metadata": {},
   "outputs": [],
   "source": [
    "#marking unlisted DOIs so they show up in the plot\n",
    "oa_plot = statistics2017.fillna(value=\"Unlisted\")"
   ]
  },
  {
   "cell_type": "code",
   "execution_count": 13,
   "metadata": {},
   "outputs": [],
   "source": [
    "oa_plot = oa_plot.groupby([\"is_oa\"]).count().userID"
   ]
  },
  {
   "cell_type": "code",
   "execution_count": 14,
   "metadata": {},
   "outputs": [
    {
     "data": {
      "image/png": "[encoded data removed]",
      "text/plain": [
       "<matplotlib.figure.Figure at 0x20f4e68c550>"
      ]
     },
     "metadata": {},
     "output_type": "display_data"
    }
   ],
   "source": [
    "oa_plot = oa_plot.plot(\"pie\", figsize=(10,10), autopct='%.2f')\n",
    "oa_plot.set_ylabel(\"\")\n",
    "plt.title(\"Fig. 2 - OA Status of downloaded articles\", fontsize=20)\n",
    "plt.savefig('./../../charts and figures/' + \"Fig.2 - OA Status of downloaded articles.pdf\")"
   ]
  },
  {
   "cell_type": "code",
   "execution_count": 15,
   "metadata": {},
   "outputs": [],
   "source": [
    "statistics2017 = statistics2017.set_index(\"date\")"
   ]
  },
  {
   "cell_type": "code",
   "execution_count": 16,
   "metadata": {},
   "outputs": [],
   "source": [
    "statistics2017.to_csv(\"./../../data/sample/2017.statistics.sample.oa_status.csv\")"
   ]
  },
  {
   "cell_type": "markdown",
   "metadata": {},
   "source": [
    "### Import DataFrame"
   ]
  },
  {
   "cell_type": "code",
   "execution_count": 17,
   "metadata": {},
   "outputs": [],
   "source": [
    "statistics2017 = pd.read_csv(\"./../../data/sample/2017.statistics.sample.oa_status.csv\")"
   ]
  },
  {
   "cell_type": "code",
   "execution_count": 48,
   "metadata": {},
   "outputs": [
    {
     "data": {
      "text/plain": [
       "3725807     4224\n",
       "19          4004\n",
       "12247800    2641\n",
       "5893065     1930\n",
       "1269428     1530\n",
       "16          1466\n",
       "5570        1404\n",
       "10          1118\n",
       "8516297     1031\n",
       "948          844\n",
       "643          842\n",
       "2792608      811\n",
       "2682340      805\n",
       "11109653     653\n",
       "153619       648\n",
       "1054691      582\n",
       "11256        568\n",
       "6820398      533\n",
       "8961462      519\n",
       "21056        518\n",
       "1953136      511\n",
       "65513        499\n",
       "8422935      488\n",
       "81155        460\n",
       "6615         444\n",
       "442          439\n",
       "7798         412\n",
       "181715       412\n",
       "113542       405\n",
       "66131        389\n",
       "            ... \n",
       "15183485       1\n",
       "15181436       1\n",
       "77865          1\n",
       "11003508       1\n",
       "15742834       1\n",
       "2176686        1\n",
       "6409905        1\n",
       "6411954        1\n",
       "167641         1\n",
       "8601327        1\n",
       "4400876        1\n",
       "4396778        1\n",
       "13146734       1\n",
       "6906919        1\n",
       "14859999       1\n",
       "177886         1\n",
       "171739         1\n",
       "2266842        1\n",
       "10505885       1\n",
       "4316851        1\n",
       "10671826       1\n",
       "8570576        1\n",
       "132808         1\n",
       "8552135        1\n",
       "2258630        1\n",
       "112318         1\n",
       "110269         1\n",
       "12682936       1\n",
       "4318900        1\n",
       "12584961       1\n",
       "Name: IPID, Length: 904308, dtype: int64"
      ]
     },
     "execution_count": 48,
     "metadata": {},
     "output_type": "execute_result"
    }
   ],
   "source": [
    "statistics2017.IPID.value_counts()"
   ]
  },
  {
   "cell_type": "code",
   "execution_count": null,
   "metadata": {},
   "outputs": [],
   "source": []
  }
 ],
 "metadata": {
  "kernelspec": {
   "display_name": "Python 3",
   "language": "python",
   "name": "python3"
  },
  "language_info": {
   "codemirror_mode": {
    "name": "ipython",
    "version": 3
   },
   "file_extension": ".py",
   "mimetype": "text/x-python",
   "name": "python",
   "nbconvert_exporter": "python",
   "pygments_lexer": "ipython3",
   "version": "3.6.4"
  }
 },
 "nbformat": 4,
 "nbformat_minor": 2
}
