{
 "cells": [
  {
   "cell_type": "code",
   "execution_count": 1,
   "metadata": {},
   "outputs": [
    {
     "name": "stdout",
     "output_type": "stream",
     "text": [
      "1\n",
      "4\n",
      "9\n",
      "16\n",
      "25\n"
     ]
    }
   ],
   "source": [
    "from multiprocessing.dummy import Pool as ThreadPool\n",
    "\n",
    "def squareNumber(n):\n",
    "    return n ** 2\n",
    "\n",
    "# function to be mapped over\n",
    "def calculateParallel(numbers, threads=2):\n",
    "    pool = ThreadPool(threads)\n",
    "    results = pool.map(squareNumber, numbers)\n",
    "    pool.close()\n",
    "    pool.join()\n",
    "    return results\n",
    "\n",
    "if __name__ == \"__main__\":\n",
    "    numbers = [1, 2, 3, 4, 5]\n",
    "    squaredNumbers = calculateParallel(numbers, 4)\n",
    "    for n in squaredNumbers:\n",
    "        print(n)\n",
    "    \n"
   ]
  },
  {
   "cell_type": "code",
   "execution_count": null,
   "metadata": {},
   "outputs": [],
   "source": []
  },
  {
   "cell_type": "code",
   "execution_count": null,
   "metadata": {},
   "outputs": [],
   "source": []
  }
 ],
 "metadata": {
  "kernelspec": {
   "display_name": "Python 3",
   "language": "python",
   "name": "python3"
  },
  "language_info": {
   "codemirror_mode": {
    "name": "ipython",
    "version": 3
   },
   "file_extension": ".py",
   "mimetype": "text/x-python",
   "name": "python",
   "nbconvert_exporter": "python",
   "pygments_lexer": "ipython3",
   "version": "3.6.4"
  }
 },
 "nbformat": 4,
 "nbformat_minor": 2
}
