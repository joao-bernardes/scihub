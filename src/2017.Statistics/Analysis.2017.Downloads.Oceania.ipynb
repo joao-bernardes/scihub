{
 "cells": [
  {
   "cell_type": "code",
   "execution_count": 2,
   "metadata": {},
   "outputs": [],
   "source": [
    "import pandas as pd\n",
    "import numpy as np\n",
    "import matplotlib.pyplot as plt\n",
    "import seaborn as sns"
   ]
  },
  {
   "cell_type": "code",
   "execution_count": 3,
   "metadata": {},
   "outputs": [],
   "source": [
    "world_pop = pd.read_csv(\"./../../data/outsrc/API_SP.POP.TOTL_DS2_en_csv_v2_10058048.csv\")"
   ]
  },
  {
   "cell_type": "code",
   "execution_count": 4,
   "metadata": {},
   "outputs": [],
   "source": [
    "world_pop = world_pop.loc[:,(\"Country Name\", \"2014\")]\n",
    "world_pop = world_pop.rename({\"2014\": \"2014 Population\"}, axis = \"columns\")\n",
    "world_pop = world_pop.dropna(how=\"any\")"
   ]
  },
  {
   "cell_type": "code",
   "execution_count": 5,
   "metadata": {},
   "outputs": [
    {
     "name": "stdout",
     "output_type": "stream",
     "text": [
      "<class 'pandas.core.frame.DataFrame'>\n",
      "Int64Index: 262 entries, 0 to 263\n",
      "Data columns (total 2 columns):\n",
      "Country Name       262 non-null object\n",
      "2014 Population    262 non-null float64\n",
      "dtypes: float64(1), object(1)\n",
      "memory usage: 6.1+ KB\n"
     ]
    }
   ],
   "source": [
    "world_pop.info()"
   ]
  },
  {
   "cell_type": "markdown",
   "metadata": {},
   "source": [
    "### Import DataFrame"
   ]
  },
  {
   "cell_type": "code",
   "execution_count": 6,
   "metadata": {},
   "outputs": [
    {
     "name": "stdout",
     "output_type": "stream",
     "text": [
      "<class 'pandas.core.frame.DataFrame'>\n",
      "RangeIndex: 1500000 entries, 0 to 1499999\n",
      "Data columns (total 11 columns):\n",
      "Downloads     1500000 non-null object\n",
      "IPID          1500000 non-null int64\n",
      "city          1394066 non-null object\n",
      "country       1468489 non-null object\n",
      "date          1500000 non-null object\n",
      "is_oa         1480851 non-null object\n",
      "lat           1386787 non-null float64\n",
      "lon           1386787 non-null float64\n",
      "userID        1500000 non-null int64\n",
      "continent     1467987 non-null object\n",
      "DOI_prefix    1500000 non-null float64\n",
      "dtypes: float64(3), int64(2), object(6)\n",
      "memory usage: 125.9+ MB\n"
     ]
    }
   ],
   "source": [
    "statistics2017 = pd.read_csv(\"./../../data/sample/2017.statistics.sample.with_missing_cities_continents.csv\")\n",
    "statistics2017 = statistics2017.rename({\"DOI\": \"Downloads\"}, axis = \"columns\")\n",
    "statistics2017.info()"
   ]
  },
  {
   "cell_type": "code",
   "execution_count": 9,
   "metadata": {},
   "outputs": [
    {
     "data": {
      "text/html": [
       "<div>\n",
       "<style scoped>\n",
       "    .dataframe tbody tr th:only-of-type {\n",
       "        vertical-align: middle;\n",
       "    }\n",
       "\n",
       "    .dataframe tbody tr th {\n",
       "        vertical-align: top;\n",
       "    }\n",
       "\n",
       "    .dataframe thead th {\n",
       "        text-align: right;\n",
       "    }\n",
       "</style>\n",
       "<table border=\"1\" class=\"dataframe\">\n",
       "  <thead>\n",
       "    <tr style=\"text-align: right;\">\n",
       "      <th></th>\n",
       "      <th>Downloads</th>\n",
       "    </tr>\n",
       "    <tr>\n",
       "      <th>country</th>\n",
       "      <th></th>\n",
       "    </tr>\n",
       "  </thead>\n",
       "  <tbody>\n",
       "    <tr>\n",
       "      <th>Australia</th>\n",
       "      <td>6041</td>\n",
       "    </tr>\n",
       "    <tr>\n",
       "      <th>New Zealand</th>\n",
       "      <td>1053</td>\n",
       "    </tr>\n",
       "    <tr>\n",
       "      <th>New Caledonia</th>\n",
       "      <td>80</td>\n",
       "    </tr>\n",
       "    <tr>\n",
       "      <th>Fiji</th>\n",
       "      <td>42</td>\n",
       "    </tr>\n",
       "    <tr>\n",
       "      <th>French Polynesia</th>\n",
       "      <td>36</td>\n",
       "    </tr>\n",
       "    <tr>\n",
       "      <th>Guam</th>\n",
       "      <td>26</td>\n",
       "    </tr>\n",
       "    <tr>\n",
       "      <th>Papua New Guinea</th>\n",
       "      <td>9</td>\n",
       "    </tr>\n",
       "    <tr>\n",
       "      <th>Vanuatu</th>\n",
       "      <td>4</td>\n",
       "    </tr>\n",
       "    <tr>\n",
       "      <th>Northern Mariana Islands</th>\n",
       "      <td>1</td>\n",
       "    </tr>\n",
       "    <tr>\n",
       "      <th>Solomon Islands</th>\n",
       "      <td>1</td>\n",
       "    </tr>\n",
       "    <tr>\n",
       "      <th>Tonga</th>\n",
       "      <td>1</td>\n",
       "    </tr>\n",
       "  </tbody>\n",
       "</table>\n",
       "</div>"
      ],
      "text/plain": [
       "                          Downloads\n",
       "country                            \n",
       "Australia                      6041\n",
       "New Zealand                    1053\n",
       "New Caledonia                    80\n",
       "Fiji                             42\n",
       "French Polynesia                 36\n",
       "Guam                             26\n",
       "Papua New Guinea                  9\n",
       "Vanuatu                           4\n",
       "Northern Mariana Islands          1\n",
       "Solomon Islands                   1\n",
       "Tonga                             1"
      ]
     },
     "execution_count": 9,
     "metadata": {},
     "output_type": "execute_result"
    }
   ],
   "source": [
    "table1 = statistics2017.loc[statistics2017.continent == \"Oceania\",(\"country\",\"Downloads\")].groupby(['country']).count().sort_values(by='Downloads',ascending = False).head(15)\n",
    "table1"
   ]
  },
  {
   "cell_type": "code",
   "execution_count": 8,
   "metadata": {},
   "outputs": [
    {
     "data": {
      "text/html": [
       "<div>\n",
       "<style scoped>\n",
       "    .dataframe tbody tr th:only-of-type {\n",
       "        vertical-align: middle;\n",
       "    }\n",
       "\n",
       "    .dataframe tbody tr th {\n",
       "        vertical-align: top;\n",
       "    }\n",
       "\n",
       "    .dataframe thead th {\n",
       "        text-align: right;\n",
       "    }\n",
       "</style>\n",
       "<table border=\"1\" class=\"dataframe\">\n",
       "  <thead>\n",
       "    <tr style=\"text-align: right;\">\n",
       "      <th></th>\n",
       "      <th></th>\n",
       "      <th>Downloads</th>\n",
       "    </tr>\n",
       "    <tr>\n",
       "      <th>country</th>\n",
       "      <th>city</th>\n",
       "      <th></th>\n",
       "    </tr>\n",
       "  </thead>\n",
       "  <tbody>\n",
       "    <tr>\n",
       "      <th>Australia</th>\n",
       "      <th>Melbourne</th>\n",
       "      <td>620</td>\n",
       "    </tr>\n",
       "    <tr>\n",
       "      <th>New Zealand</th>\n",
       "      <th>Auckland</th>\n",
       "      <td>602</td>\n",
       "    </tr>\n",
       "    <tr>\n",
       "      <th rowspan=\"11\" valign=\"top\">Australia</th>\n",
       "      <th>Sydney</th>\n",
       "      <td>558</td>\n",
       "    </tr>\n",
       "    <tr>\n",
       "      <th>Alexandria</th>\n",
       "      <td>400</td>\n",
       "    </tr>\n",
       "    <tr>\n",
       "      <th>Hornsby</th>\n",
       "      <td>317</td>\n",
       "    </tr>\n",
       "    <tr>\n",
       "      <th>Brisbane City</th>\n",
       "      <td>189</td>\n",
       "    </tr>\n",
       "    <tr>\n",
       "      <th>Adelaide</th>\n",
       "      <td>176</td>\n",
       "    </tr>\n",
       "    <tr>\n",
       "      <th>Perth</th>\n",
       "      <td>163</td>\n",
       "    </tr>\n",
       "    <tr>\n",
       "      <th>Brighton East</th>\n",
       "      <td>85</td>\n",
       "    </tr>\n",
       "    <tr>\n",
       "      <th>Hobart</th>\n",
       "      <td>78</td>\n",
       "    </tr>\n",
       "    <tr>\n",
       "      <th>Monash</th>\n",
       "      <td>77</td>\n",
       "    </tr>\n",
       "    <tr>\n",
       "      <th>Barangaroo</th>\n",
       "      <td>74</td>\n",
       "    </tr>\n",
       "    <tr>\n",
       "      <th>Clayton</th>\n",
       "      <td>73</td>\n",
       "    </tr>\n",
       "    <tr>\n",
       "      <th>New Caledonia</th>\n",
       "      <th>Noumea</th>\n",
       "      <td>66</td>\n",
       "    </tr>\n",
       "    <tr>\n",
       "      <th>New Zealand</th>\n",
       "      <th>Christchurch</th>\n",
       "      <td>63</td>\n",
       "    </tr>\n",
       "  </tbody>\n",
       "</table>\n",
       "</div>"
      ],
      "text/plain": [
       "                             Downloads\n",
       "country       city                    \n",
       "Australia     Melbourne            620\n",
       "New Zealand   Auckland             602\n",
       "Australia     Sydney               558\n",
       "              Alexandria           400\n",
       "              Hornsby              317\n",
       "              Brisbane City        189\n",
       "              Adelaide             176\n",
       "              Perth                163\n",
       "              Brighton East         85\n",
       "              Hobart                78\n",
       "              Monash                77\n",
       "              Barangaroo            74\n",
       "              Clayton               73\n",
       "New Caledonia Noumea                66\n",
       "New Zealand   Christchurch          63"
      ]
     },
     "execution_count": 8,
     "metadata": {},
     "output_type": "execute_result"
    }
   ],
   "source": [
    "table2 = statistics2017.loc[statistics2017.continent == \"Oceania\",(\"country\",\"city\",\"Downloads\")].groupby(['country','city']).count().sort_values(by='Downloads',ascending = False).head(15)\n",
    "table2"
   ]
  },
  {
   "cell_type": "code",
   "execution_count": 7,
   "metadata": {},
   "outputs": [
    {
     "name": "stdout",
     "output_type": "stream",
     "text": [
      "\\begin{tabular}{llr}\n",
      "\\toprule\n",
      "            &              &  Downloads \\\\\n",
      "country & city &            \\\\\n",
      "\\midrule\n",
      "Australia & Melbourne &        620 \\\\\n",
      "New Zealand & Auckland &        602 \\\\\n",
      "Australia & Sydney &        558 \\\\\n",
      "            & Alexandria &        400 \\\\\n",
      "            & Hornsby &        317 \\\\\n",
      "            & Brisbane City &        189 \\\\\n",
      "            & Adelaide &        176 \\\\\n",
      "            & Perth &        163 \\\\\n",
      "            & Brighton East &         85 \\\\\n",
      "            & Hobart &         78 \\\\\n",
      "            & Monash &         77 \\\\\n",
      "            & Barangaroo &         74 \\\\\n",
      "            & Clayton &         73 \\\\\n",
      "New Caledonia & Noumea &         66 \\\\\n",
      "New Zealand & Christchurch &         63 \\\\\n",
      "\\bottomrule\n",
      "\\end{tabular}\n",
      "\n"
     ]
    }
   ],
   "source": [
    "print (table2.to_latex())"
   ]
  }
 ],
 "metadata": {
  "kernelspec": {
   "display_name": "Python 3",
   "language": "python",
   "name": "python3"
  },
  "language_info": {
   "codemirror_mode": {
    "name": "ipython",
    "version": 3
   },
   "file_extension": ".py",
   "mimetype": "text/x-python",
   "name": "python",
   "nbconvert_exporter": "python",
   "pygments_lexer": "ipython3",
   "version": "3.6.5"
  }
 },
 "nbformat": 4,
 "nbformat_minor": 2
}
