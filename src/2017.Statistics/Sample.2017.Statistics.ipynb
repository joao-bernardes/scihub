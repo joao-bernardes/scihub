{
 "cells": [
  {
   "cell_type": "markdown",
   "metadata": {},
   "source": [
    "## 2017.statistics.tab Wrangling"
   ]
  },
  {
   "cell_type": "code",
   "execution_count": 1,
   "metadata": {},
   "outputs": [],
   "source": [
    "import pandas as pd\n",
    "import random \n",
    "import os, errno\n",
    "import gzip\n",
    "import shutil\n",
    "from os import path\n",
    "from random import random"
   ]
  },
  {
   "cell_type": "code",
   "execution_count": 3,
   "metadata": {},
   "outputs": [],
   "source": [
    "def get_filename(asset):\n",
    "    return path.realpath(path.join(\"./../../data/full/\", asset))"
   ]
  },
  {
   "cell_type": "code",
   "execution_count": 4,
   "metadata": {},
   "outputs": [],
   "source": [
    "def get_samplename(asset):\n",
    "    return path.realpath(path.join(\"./../../data/sample/\", asset))"
   ]
  },
  {
   "cell_type": "code",
   "execution_count": 6,
   "metadata": {},
   "outputs": [],
   "source": [
    "INPUT_FILES = (\n",
    "    (gzip.open, \"2017.statistics.tab.gz\"),\n",
    "    (open, \"2017.statistics.1016.j.tab\"),\n",
    ")\n",
    "\n",
    "OUTPUT_FILE = \"2017.statistics.sample.tab\"\n",
    "\n",
    "\n",
    "TARGET_SIZE = 1.5e6"
   ]
  },
  {
   "cell_type": "code",
   "execution_count": 4,
   "metadata": {},
   "outputs": [],
   "source": [
    "def iterate_files(input_files=INPUT_FILES):\n",
    "    for open_func, asset in input_files:\n",
    "        with open_func(get_filename(asset), \"rt\", encoding=\"utf8\") as f:\n",
    "            for line in f:\n",
    "                yield line"
   ]
  },
  {
   "cell_type": "code",
   "execution_count": 5,
   "metadata": {},
   "outputs": [
    {
     "data": {
      "text/plain": [
       "194499727"
      ]
     },
     "execution_count": 5,
     "metadata": {},
     "output_type": "execute_result"
    }
   ],
   "source": [
    "# Count number of lines\n",
    "LINE_COUNT = sum(1 for _ in iterate_files())\n",
    "LINE_COUNT"
   ]
  },
  {
   "cell_type": "code",
   "execution_count": 11,
   "metadata": {},
   "outputs": [],
   "source": [
    "def probabilistic_sampler(iterable, dataset_size, sample_size, margin=0.001):\n",
    "    acceptance_ratio = (sample_size + (sample_size * margin)) / dataset_size \n",
    "    n_items = 0\n",
    "    \n",
    "    for item in iterable:\n",
    "        if random() < acceptance_ratio:\n",
    "            n_items += 1\n",
    "            yield item\n",
    "        \n",
    "        if n_items >= sample_size:\n",
    "            break"
   ]
  },
  {
   "cell_type": "code",
   "execution_count": 15,
   "metadata": {},
   "outputs": [],
   "source": [
    "def write_file(iterable, output_file=OUTPUT_FILE):\n",
    "    with open(get_samplename(output_file), \"wt\", encoding=\"utf8\") as f:\n",
    "        for line in iterable:\n",
    "            f.write(line)"
   ]
  },
  {
   "cell_type": "code",
   "execution_count": 16,
   "metadata": {},
   "outputs": [],
   "source": [
    "write_file(\n",
    "    probabilistic_sampler(iterate_files(), LINE_COUNT, TARGET_SIZE)\n",
    ")"
   ]
  },
  {
   "cell_type": "code",
   "execution_count": 7,
   "metadata": {},
   "outputs": [],
   "source": [
    "data = pd.read_table(get_filename(OUTPUT_FILE), header=None)\n",
    "data.columns = [\"date\", \"DOI\", \"IPID\", \"userID\", \"country\", \"city\", \"lat\", \"lon\"]\n"
   ]
  },
  {
   "cell_type": "code",
   "execution_count": 10,
   "metadata": {},
   "outputs": [
    {
     "name": "stdout",
     "output_type": "stream",
     "text": [
      "<class 'pandas.core.frame.DataFrame'>\n",
      "RangeIndex: 1500000 entries, 0 to 1499999\n",
      "Data columns (total 8 columns):\n",
      "date       1500000 non-null object\n",
      "DOI        1500000 non-null object\n",
      "IPID       1500000 non-null int64\n",
      "userID     1500000 non-null int64\n",
      "country    1469097 non-null object\n",
      "city       1246279 non-null object\n",
      "lat        1386964 non-null float64\n",
      "lon        1386964 non-null float64\n",
      "dtypes: float64(2), int64(2), object(4)\n",
      "memory usage: 91.6+ MB\n"
     ]
    },
    {
     "data": {
      "text/html": [
       "<div>\n",
       "<style scoped>\n",
       "    .dataframe tbody tr th:only-of-type {\n",
       "        vertical-align: middle;\n",
       "    }\n",
       "\n",
       "    .dataframe tbody tr th {\n",
       "        vertical-align: top;\n",
       "    }\n",
       "\n",
       "    .dataframe thead th {\n",
       "        text-align: right;\n",
       "    }\n",
       "</style>\n",
       "<table border=\"1\" class=\"dataframe\">\n",
       "  <thead>\n",
       "    <tr style=\"text-align: right;\">\n",
       "      <th></th>\n",
       "      <th>date</th>\n",
       "      <th>DOI</th>\n",
       "      <th>IPID</th>\n",
       "      <th>userID</th>\n",
       "      <th>country</th>\n",
       "      <th>city</th>\n",
       "      <th>lat</th>\n",
       "      <th>lon</th>\n",
       "    </tr>\n",
       "  </thead>\n",
       "  <tbody>\n",
       "    <tr>\n",
       "      <th>0</th>\n",
       "      <td>2017-01-01 00:00:34</td>\n",
       "      <td>10.4155/tde-2016-0006</td>\n",
       "      <td>58</td>\n",
       "      <td>61</td>\n",
       "      <td>Bulgaria</td>\n",
       "      <td>Sofia</td>\n",
       "      <td>42.697708</td>\n",
       "      <td>23.321867</td>\n",
       "    </tr>\n",
       "    <tr>\n",
       "      <th>1</th>\n",
       "      <td>2017-01-01 00:03:18</td>\n",
       "      <td>10.2514/1.b34813</td>\n",
       "      <td>57</td>\n",
       "      <td>60</td>\n",
       "      <td>Italy</td>\n",
       "      <td>Milano</td>\n",
       "      <td>45.465422</td>\n",
       "      <td>9.185924</td>\n",
       "    </tr>\n",
       "    <tr>\n",
       "      <th>2</th>\n",
       "      <td>2017-01-01 00:04:10</td>\n",
       "      <td>10.1080/09687599.2016.1257421</td>\n",
       "      <td>309</td>\n",
       "      <td>339</td>\n",
       "      <td>Italy</td>\n",
       "      <td>NaN</td>\n",
       "      <td>43.837621</td>\n",
       "      <td>10.495061</td>\n",
       "    </tr>\n",
       "    <tr>\n",
       "      <th>3</th>\n",
       "      <td>2017-01-01 00:06:50</td>\n",
       "      <td>10.1016/S1529-2134(04)07004-8</td>\n",
       "      <td>223</td>\n",
       "      <td>246</td>\n",
       "      <td>Iran</td>\n",
       "      <td>Tehran</td>\n",
       "      <td>35.689197</td>\n",
       "      <td>51.388974</td>\n",
       "    </tr>\n",
       "    <tr>\n",
       "      <th>4</th>\n",
       "      <td>2017-01-01 00:07:17</td>\n",
       "      <td>10.1016/0147-5967(89)90075-9</td>\n",
       "      <td>173</td>\n",
       "      <td>186</td>\n",
       "      <td>NaN</td>\n",
       "      <td>NaN</td>\n",
       "      <td>NaN</td>\n",
       "      <td>NaN</td>\n",
       "    </tr>\n",
       "  </tbody>\n",
       "</table>\n",
       "</div>"
      ],
      "text/plain": [
       "                  date                            DOI  IPID  userID   country  \\\n",
       "0  2017-01-01 00:00:34          10.4155/tde-2016-0006    58      61  Bulgaria   \n",
       "1  2017-01-01 00:03:18               10.2514/1.b34813    57      60     Italy   \n",
       "2  2017-01-01 00:04:10  10.1080/09687599.2016.1257421   309     339     Italy   \n",
       "3  2017-01-01 00:06:50  10.1016/S1529-2134(04)07004-8   223     246      Iran   \n",
       "4  2017-01-01 00:07:17   10.1016/0147-5967(89)90075-9   173     186       NaN   \n",
       "\n",
       "     city        lat        lon  \n",
       "0   Sofia  42.697708  23.321867  \n",
       "1  Milano  45.465422   9.185924  \n",
       "2     NaN  43.837621  10.495061  \n",
       "3  Tehran  35.689197  51.388974  \n",
       "4     NaN        NaN        NaN  "
      ]
     },
     "execution_count": 10,
     "metadata": {},
     "output_type": "execute_result"
    }
   ],
   "source": [
    "data.info()\n",
    "data.head()"
   ]
  }
 ],
 "metadata": {
  "kernelspec": {
   "display_name": "Python 3",
   "language": "python",
   "name": "python3"
  },
  "language_info": {
   "codemirror_mode": {
    "name": "ipython",
    "version": 3
   },
   "file_extension": ".py",
   "mimetype": "text/x-python",
   "name": "python",
   "nbconvert_exporter": "python",
   "pygments_lexer": "ipython3",
   "version": "3.6.4"
  }
 },
 "nbformat": 4,
 "nbformat_minor": 2
}
