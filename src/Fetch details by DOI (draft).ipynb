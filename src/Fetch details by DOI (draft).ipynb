{
 "cells": [
  {
   "cell_type": "code",
   "execution_count": 2,
   "metadata": {},
   "outputs": [],
   "source": [
    "import pandas \n",
    "import collections\n",
    "\n",
    "#data = pandas.read_table(\"data/all.tab\", header=None)\n",
    "scihub_log_doi = pandas.read_table(\"./../data/sample/scihub_sample.tab\",usecols=[1], header=None)\n",
    "\n",
    "scihub_log_doi.columns = [\"DOI\"]"
   ]
  },
  {
   "cell_type": "code",
   "execution_count": 3,
   "metadata": {},
   "outputs": [],
   "source": [
    "from habanero import Crossref \n",
    "cr = Crossref ()"
   ]
  },
  {
   "cell_type": "code",
   "execution_count": 5,
   "metadata": {},
   "outputs": [
    {
     "data": {
      "text/html": [
       "<div>\n",
       "<style scoped>\n",
       "    .dataframe tbody tr th:only-of-type {\n",
       "        vertical-align: middle;\n",
       "    }\n",
       "\n",
       "    .dataframe tbody tr th {\n",
       "        vertical-align: top;\n",
       "    }\n",
       "\n",
       "    .dataframe thead th {\n",
       "        text-align: right;\n",
       "    }\n",
       "</style>\n",
       "<table border=\"1\" class=\"dataframe\">\n",
       "  <thead>\n",
       "    <tr style=\"text-align: right;\">\n",
       "      <th></th>\n",
       "      <th>DOI</th>\n",
       "    </tr>\n",
       "  </thead>\n",
       "  <tbody>\n",
       "    <tr>\n",
       "      <th>0</th>\n",
       "      <td>10.1029/2002WR001317</td>\n",
       "    </tr>\n",
       "    <tr>\n",
       "      <th>1</th>\n",
       "      <td>10.1016/j.jclepro.2014.09.075</td>\n",
       "    </tr>\n",
       "    <tr>\n",
       "      <th>2</th>\n",
       "      <td>10.1016/B978-0-08-095975-7.01310-3</td>\n",
       "    </tr>\n",
       "    <tr>\n",
       "      <th>3</th>\n",
       "      <td>10.1103/PhysRevB.63.224204</td>\n",
       "    </tr>\n",
       "    <tr>\n",
       "      <th>4</th>\n",
       "      <td>10.1183/09031936.06.00011806</td>\n",
       "    </tr>\n",
       "  </tbody>\n",
       "</table>\n",
       "</div>"
      ],
      "text/plain": [
       "                                  DOI\n",
       "0                10.1029/2002WR001317\n",
       "1       10.1016/j.jclepro.2014.09.075\n",
       "2  10.1016/B978-0-08-095975-7.01310-3\n",
       "3          10.1103/PhysRevB.63.224204\n",
       "4        10.1183/09031936.06.00011806"
      ]
     },
     "execution_count": 5,
     "metadata": {},
     "output_type": "execute_result"
    }
   ],
   "source": [
    "scihub_log_doi.head()"
   ]
  },
  {
   "cell_type": "code",
   "execution_count": 6,
   "metadata": {},
   "outputs": [
    {
     "data": {
      "text/plain": [
       "{'DOI': '10.1183/09031936.06.00011806',\n",
       " 'ISSN': ['0903-1936', '1399-3003'],\n",
       " 'URL': 'http://dx.doi.org/10.1183/09031936.06.00011806',\n",
       " 'author': [{'affiliation': [], 'family': 'Diel', 'given': 'R.'}],\n",
       " 'container-title': ['European Respiratory Journal'],\n",
       " 'content-domain': {'crossmark-restriction': False, 'domain': []},\n",
       " 'created': {'date-parts': [[2006, 3, 30]],\n",
       "  'date-time': '2006-03-30T01:13:36Z',\n",
       "  'timestamp': 1143681216000},\n",
       " 'deposited': {'date-parts': [[2016, 12, 23]],\n",
       "  'date-time': '2016-12-23T02:38:51Z',\n",
       "  'timestamp': 1482460731000},\n",
       " 'indexed': {'date-parts': [[2018, 2, 5]],\n",
       "  'date-time': '2018-02-05T23:38:32Z',\n",
       "  'timestamp': 1517873912643},\n",
       " 'is-referenced-by-count': 48,\n",
       " 'issn-type': [{'type': 'print', 'value': '0903-1936'},\n",
       "  {'type': 'electronic', 'value': '1399-3003'}],\n",
       " 'issue': '1',\n",
       " 'issued': {'date-parts': [[2006, 7, 1]]},\n",
       " 'link': [{'URL': 'https://syndication.highwire.org/content/doi/10.1183/09031936.06.00011806',\n",
       "   'content-type': 'unspecified',\n",
       "   'content-version': 'vor',\n",
       "   'intended-application': 'similarity-checking'}],\n",
       " 'member': '81',\n",
       " 'original-title': [],\n",
       " 'page': '35-44',\n",
       " 'prefix': '10.1183',\n",
       " 'published-print': {'date-parts': [[2006, 7, 1]]},\n",
       " 'publisher': 'European Respiratory Society (ERS)',\n",
       " 'reference-count': 0,\n",
       " 'references-count': 0,\n",
       " 'relation': {},\n",
       " 'score': 1.0,\n",
       " 'short-container-title': ['European Respiratory Journal'],\n",
       " 'short-title': [],\n",
       " 'source': 'Crossref',\n",
       " 'subject': ['Pulmonary and Respiratory Medicine'],\n",
       " 'subtitle': [],\n",
       " 'title': ['Cost-optimisation of screening for latent tuberculosis in close contacts'],\n",
       " 'type': 'journal-article',\n",
       " 'volume': '28'}"
      ]
     },
     "execution_count": 6,
     "metadata": {},
     "output_type": "execute_result"
    }
   ],
   "source": [
    "cr.works(\"10.1183/09031936.06.00011806\")[\"message\"]"
   ]
  },
  {
   "cell_type": "code",
   "execution_count": 24,
   "metadata": {},
   "outputs": [],
   "source": [
    "def get_metadata(doi):\n",
    "    work = cr.works(doi)[\"message\"]   \n",
    "    if not work:\n",
    "        return None\n",
    "\n",
    "    row = collections.OrderedDict()\n",
    "    row['doi'] = doi\n",
    "\n",
    "    try:\n",
    "        issued = work['issued']['date-parts'][0]\n",
    "        row['issued'] = '-'.join('{:02d}'.format(part) for part in issued)\n",
    "    except:\n",
    "        pass\n",
    "\n",
    "    try:\n",
    "        authors = list()\n",
    "        for author in work['author']:\n",
    "            author = f\"{author.get('given')} {author.get('family')}\".strip()\n",
    "            if author:\n",
    "                authors.append(author)\n",
    "        row['authors'] = ', '.join(authors)\n",
    "    except:\n",
    "        pass\n",
    "\n",
    "    try:\n",
    "        row['title'] = work['title'][0]\n",
    "    except:\n",
    "        pass\n",
    "\n",
    "    try:\n",
    "        row['journal'] = work['container-title'][0]\n",
    "    except:\n",
    "        pass\n",
    "    try:\n",
    "        row[\"type\"] = work[\"type\"]\n",
    "    except:\n",
    "        pass\n",
    "    try:\n",
    "        row[\"subject\"] = work[\"subject\"]\n",
    "    except:\n",
    "        pass\n",
    "    try:\n",
    "        row[\"reference-count\"] = work[\"reference-count\"]\n",
    "    except:\n",
    "        pass\n",
    "    try:\n",
    "        row[\"volume\"] = work[\"volume\"]\n",
    "    except:\n",
    "        pass\n",
    "\n",
    "    return row"
   ]
  },
  {
   "cell_type": "code",
   "execution_count": 21,
   "metadata": {},
   "outputs": [
    {
     "data": {
      "text/plain": [
       "OrderedDict([('doi', '10.1183/09031936.06.00011806'),\n",
       "             ('issued', '2006-07-01'),\n",
       "             ('authors', 'R. Diel'),\n",
       "             ('title',\n",
       "              'Cost-optimisation of screening for latent tuberculosis in close contacts'),\n",
       "             ('journal', 'European Respiratory Journal'),\n",
       "             ('type', 'journal-article'),\n",
       "             ('subject', ['Pulmonary and Respiratory Medicine']),\n",
       "             ('reference-count', 0),\n",
       "             ('volume', '28')])"
      ]
     },
     "execution_count": 21,
     "metadata": {},
     "output_type": "execute_result"
    }
   ],
   "source": [
    "get_metadata(\"10.1183/09031936.06.00011806\")"
   ]
  },
  {
   "cell_type": "code",
   "execution_count": 30,
   "metadata": {},
   "outputs": [
    {
     "name": "stdout",
     "output_type": "stream",
     "text": [
      "Wall time: 8.17 s\n"
     ]
    }
   ],
   "source": [
    "%%time\n",
    "rows = filter(None, (get_metadata(doi) for doi in scihub_log_doi[\"DOI\"].head()))\n",
    "metadata_df = pandas.DataFrame.from_records(rows)"
   ]
  },
  {
   "cell_type": "code",
   "execution_count": 31,
   "metadata": {},
   "outputs": [],
   "source": [
    "metadata_df.to_csv(\"./../data/scihub_sample_doi_details\")"
   ]
  },
  {
   "cell_type": "code",
   "execution_count": null,
   "metadata": {},
   "outputs": [],
   "source": []
  }
 ],
 "metadata": {
  "kernelspec": {
   "display_name": "Python 3",
   "language": "python",
   "name": "python3"
  },
  "language_info": {
   "codemirror_mode": {
    "name": "ipython",
    "version": 3
   },
   "file_extension": ".py",
   "mimetype": "text/x-python",
   "name": "python",
   "nbconvert_exporter": "python",
   "pygments_lexer": "ipython3",
   "version": "3.6.4"
  }
 },
 "nbformat": 4,
 "nbformat_minor": 2
}
