{
 "cells": [
  {
   "cell_type": "code",
   "execution_count": 1,
   "metadata": {},
   "outputs": [],
   "source": [
    "import pandas as pd\n",
    "import gzip"
   ]
  },
  {
   "cell_type": "markdown",
   "metadata": {},
   "source": [
    "## Import DataFrame"
   ]
  },
  {
   "cell_type": "code",
   "execution_count": 2,
   "metadata": {},
   "outputs": [],
   "source": [
    "#https://www.maxmind.com/en/home\n",
    "worldcitiespop = pd.read_csv(\"./../../data/outsrc/worldcitiespop.txt.gz\", compression=\"gzip\", encoding=\"ISO-8859-1\", usecols=[0,1,4,5,6])\n",
    "worldcitiespop.columns = [\"country code\",\"city\", \"city_pop\", \"lat\", \"lon\"]\n",
    "worldcitiespop = worldcitiespop.dropna()"
   ]
  },
  {
   "cell_type": "code",
   "execution_count": 3,
   "metadata": {},
   "outputs": [
    {
     "data": {
      "text/html": [
       "<div>\n",
       "<style scoped>\n",
       "    .dataframe tbody tr th:only-of-type {\n",
       "        vertical-align: middle;\n",
       "    }\n",
       "\n",
       "    .dataframe tbody tr th {\n",
       "        vertical-align: top;\n",
       "    }\n",
       "\n",
       "    .dataframe thead th {\n",
       "        text-align: right;\n",
       "    }\n",
       "</style>\n",
       "<table border=\"1\" class=\"dataframe\">\n",
       "  <thead>\n",
       "    <tr style=\"text-align: right;\">\n",
       "      <th></th>\n",
       "      <th>country code</th>\n",
       "      <th>city</th>\n",
       "      <th>city_pop</th>\n",
       "      <th>lat</th>\n",
       "      <th>lon</th>\n",
       "    </tr>\n",
       "  </thead>\n",
       "  <tbody>\n",
       "    <tr>\n",
       "      <th>6</th>\n",
       "      <td>ad</td>\n",
       "      <td>andorra la vella</td>\n",
       "      <td>20430.0</td>\n",
       "      <td>42.5</td>\n",
       "      <td>1.516667</td>\n",
       "    </tr>\n",
       "  </tbody>\n",
       "</table>\n",
       "</div>"
      ],
      "text/plain": [
       "  country code              city  city_pop   lat       lon\n",
       "6           ad  andorra la vella   20430.0  42.5  1.516667"
      ]
     },
     "execution_count": 3,
     "metadata": {},
     "output_type": "execute_result"
    }
   ],
   "source": [
    "worldcitiespop.head(1)"
   ]
  },
  {
   "cell_type": "code",
   "execution_count": 4,
   "metadata": {},
   "outputs": [],
   "source": [
    "worldcitiespop = worldcitiespop.drop(columns=[\"city\",\"country code\"])"
   ]
  },
  {
   "cell_type": "code",
   "execution_count": 5,
   "metadata": {},
   "outputs": [],
   "source": [
    "worldcitiespop.lat = worldcitiespop.lat.round(decimals=1)\n",
    "worldcitiespop.lon = worldcitiespop.lon.round(decimals=1)"
   ]
  },
  {
   "cell_type": "code",
   "execution_count": 6,
   "metadata": {},
   "outputs": [
    {
     "name": "stdout",
     "output_type": "stream",
     "text": [
      "<class 'pandas.core.frame.DataFrame'>\n",
      "Int64Index: 47979 entries, 6 to 3173957\n",
      "Data columns (total 3 columns):\n",
      "city_pop    47979 non-null float64\n",
      "lat         47979 non-null float64\n",
      "lon         47979 non-null float64\n",
      "dtypes: float64(3)\n",
      "memory usage: 1.5 MB\n"
     ]
    }
   ],
   "source": [
    "worldcitiespop.info()"
   ]
  },
  {
   "cell_type": "code",
   "execution_count": 7,
   "metadata": {},
   "outputs": [
    {
     "data": {
      "text/html": [
       "<div>\n",
       "<style scoped>\n",
       "    .dataframe tbody tr th:only-of-type {\n",
       "        vertical-align: middle;\n",
       "    }\n",
       "\n",
       "    .dataframe tbody tr th {\n",
       "        vertical-align: top;\n",
       "    }\n",
       "\n",
       "    .dataframe thead th {\n",
       "        text-align: right;\n",
       "    }\n",
       "</style>\n",
       "<table border=\"1\" class=\"dataframe\">\n",
       "  <thead>\n",
       "    <tr style=\"text-align: right;\">\n",
       "      <th></th>\n",
       "      <th>city_pop</th>\n",
       "      <th>lat</th>\n",
       "      <th>lon</th>\n",
       "    </tr>\n",
       "  </thead>\n",
       "  <tbody>\n",
       "    <tr>\n",
       "      <th>6</th>\n",
       "      <td>20430.0</td>\n",
       "      <td>42.5</td>\n",
       "      <td>1.5</td>\n",
       "    </tr>\n",
       "    <tr>\n",
       "      <th>20</th>\n",
       "      <td>3292.0</td>\n",
       "      <td>42.6</td>\n",
       "      <td>1.6</td>\n",
       "    </tr>\n",
       "    <tr>\n",
       "      <th>32</th>\n",
       "      <td>11224.0</td>\n",
       "      <td>42.5</td>\n",
       "      <td>1.6</td>\n",
       "    </tr>\n",
       "    <tr>\n",
       "      <th>49</th>\n",
       "      <td>7211.0</td>\n",
       "      <td>42.6</td>\n",
       "      <td>1.5</td>\n",
       "    </tr>\n",
       "    <tr>\n",
       "      <th>53</th>\n",
       "      <td>15854.0</td>\n",
       "      <td>42.5</td>\n",
       "      <td>1.5</td>\n",
       "    </tr>\n",
       "  </tbody>\n",
       "</table>\n",
       "</div>"
      ],
      "text/plain": [
       "    city_pop   lat  lon\n",
       "6    20430.0  42.5  1.5\n",
       "20    3292.0  42.6  1.6\n",
       "32   11224.0  42.5  1.6\n",
       "49    7211.0  42.6  1.5\n",
       "53   15854.0  42.5  1.5"
      ]
     },
     "execution_count": 7,
     "metadata": {},
     "output_type": "execute_result"
    }
   ],
   "source": [
    "worldcitiespop.head()"
   ]
  },
  {
   "cell_type": "markdown",
   "metadata": {},
   "source": [
    "## Import DataFrame"
   ]
  },
  {
   "cell_type": "code",
   "execution_count": 8,
   "metadata": {},
   "outputs": [],
   "source": [
    "statistics2017 = pd.read_csv(\"./../../data/sample/2017.statistics.sample.with_missing_cities.csv\")"
   ]
  },
  {
   "cell_type": "code",
   "execution_count": 9,
   "metadata": {},
   "outputs": [],
   "source": [
    "statistics2017 = statistics2017.loc[:,(\"date\",\"DOI\", \"country\", \"city\", \"lat\", \"lon\")]"
   ]
  },
  {
   "cell_type": "code",
   "execution_count": 10,
   "metadata": {},
   "outputs": [],
   "source": [
    "statistics2017.lat = statistics2017.lat.round(decimals=1)\n",
    "statistics2017.lon = statistics2017.lon.round(decimals=1)"
   ]
  },
  {
   "cell_type": "code",
   "execution_count": 11,
   "metadata": {},
   "outputs": [
    {
     "name": "stdout",
     "output_type": "stream",
     "text": [
      "<class 'pandas.core.frame.DataFrame'>\n",
      "RangeIndex: 1500000 entries, 0 to 1499999\n",
      "Data columns (total 6 columns):\n",
      "date       1500000 non-null object\n",
      "DOI        1500000 non-null object\n",
      "country    1468489 non-null object\n",
      "city       1394066 non-null object\n",
      "lat        1386787 non-null float64\n",
      "lon        1386787 non-null float64\n",
      "dtypes: float64(2), object(4)\n",
      "memory usage: 68.7+ MB\n"
     ]
    }
   ],
   "source": [
    "statistics2017.info()"
   ]
  },
  {
   "cell_type": "code",
   "execution_count": 12,
   "metadata": {},
   "outputs": [
    {
     "data": {
      "text/html": [
       "<div>\n",
       "<style scoped>\n",
       "    .dataframe tbody tr th:only-of-type {\n",
       "        vertical-align: middle;\n",
       "    }\n",
       "\n",
       "    .dataframe tbody tr th {\n",
       "        vertical-align: top;\n",
       "    }\n",
       "\n",
       "    .dataframe thead th {\n",
       "        text-align: right;\n",
       "    }\n",
       "</style>\n",
       "<table border=\"1\" class=\"dataframe\">\n",
       "  <thead>\n",
       "    <tr style=\"text-align: right;\">\n",
       "      <th></th>\n",
       "      <th>date</th>\n",
       "      <th>DOI</th>\n",
       "      <th>country</th>\n",
       "      <th>city</th>\n",
       "      <th>lat</th>\n",
       "      <th>lon</th>\n",
       "    </tr>\n",
       "  </thead>\n",
       "  <tbody>\n",
       "    <tr>\n",
       "      <th>0</th>\n",
       "      <td>2017-01-01 00:02:06</td>\n",
       "      <td>10.1111/j.1755-6724.2011.00377.x</td>\n",
       "      <td>China</td>\n",
       "      <td>Guangzhou Shi</td>\n",
       "      <td>23.1</td>\n",
       "      <td>113.3</td>\n",
       "    </tr>\n",
       "    <tr>\n",
       "      <th>1</th>\n",
       "      <td>2017-01-01 00:03:29</td>\n",
       "      <td>10.1111/j.1755-6724.2011.00378.x</td>\n",
       "      <td>China</td>\n",
       "      <td>Guangzhou Shi</td>\n",
       "      <td>23.1</td>\n",
       "      <td>113.3</td>\n",
       "    </tr>\n",
       "    <tr>\n",
       "      <th>2</th>\n",
       "      <td>2017-01-01 00:06:12</td>\n",
       "      <td>10.2514/1.b34382</td>\n",
       "      <td>Italy</td>\n",
       "      <td>Milano</td>\n",
       "      <td>45.5</td>\n",
       "      <td>9.2</td>\n",
       "    </tr>\n",
       "    <tr>\n",
       "      <th>3</th>\n",
       "      <td>2017-01-01 00:08:49</td>\n",
       "      <td>10.1073/pnas.0902793106</td>\n",
       "      <td>NaN</td>\n",
       "      <td>NaN</td>\n",
       "      <td>NaN</td>\n",
       "      <td>NaN</td>\n",
       "    </tr>\n",
       "    <tr>\n",
       "      <th>4</th>\n",
       "      <td>2017-01-01 00:08:51</td>\n",
       "      <td>10.1007/978-3-540-39923-0_12</td>\n",
       "      <td>Chile</td>\n",
       "      <td>Concepción</td>\n",
       "      <td>-36.8</td>\n",
       "      <td>-73.0</td>\n",
       "    </tr>\n",
       "  </tbody>\n",
       "</table>\n",
       "</div>"
      ],
      "text/plain": [
       "                  date                               DOI country  \\\n",
       "0  2017-01-01 00:02:06  10.1111/j.1755-6724.2011.00377.x   China   \n",
       "1  2017-01-01 00:03:29  10.1111/j.1755-6724.2011.00378.x   China   \n",
       "2  2017-01-01 00:06:12                  10.2514/1.b34382   Italy   \n",
       "3  2017-01-01 00:08:49           10.1073/pnas.0902793106     NaN   \n",
       "4  2017-01-01 00:08:51      10.1007/978-3-540-39923-0_12   Chile   \n",
       "\n",
       "            city   lat    lon  \n",
       "0  Guangzhou Shi  23.1  113.3  \n",
       "1  Guangzhou Shi  23.1  113.3  \n",
       "2         Milano  45.5    9.2  \n",
       "3            NaN   NaN    NaN  \n",
       "4     Concepción -36.8  -73.0  "
      ]
     },
     "execution_count": 12,
     "metadata": {},
     "output_type": "execute_result"
    }
   ],
   "source": [
    "statistics2017.head()"
   ]
  },
  {
   "cell_type": "markdown",
   "metadata": {},
   "source": [
    "## Merge DataFrame"
   ]
  },
  {
   "cell_type": "code",
   "execution_count": 13,
   "metadata": {},
   "outputs": [],
   "source": [
    "statistics2017 = pd.merge(statistics2017, worldcitiespop, how='left', on=['lat', 'lon'])"
   ]
  },
  {
   "cell_type": "code",
   "execution_count": 14,
   "metadata": {},
   "outputs": [
    {
     "name": "stdout",
     "output_type": "stream",
     "text": [
      "<class 'pandas.core.frame.DataFrame'>\n",
      "Int64Index: 2178193 entries, 0 to 2178192\n",
      "Data columns (total 7 columns):\n",
      "date        object\n",
      "DOI         object\n",
      "country     object\n",
      "city        object\n",
      "lat         float64\n",
      "lon         float64\n",
      "city_pop    float64\n",
      "dtypes: float64(3), object(4)\n",
      "memory usage: 132.9+ MB\n"
     ]
    }
   ],
   "source": [
    "statistics2017.info()"
   ]
  },
  {
   "cell_type": "code",
   "execution_count": 15,
   "metadata": {},
   "outputs": [
    {
     "data": {
      "text/html": [
       "<div>\n",
       "<style scoped>\n",
       "    .dataframe tbody tr th:only-of-type {\n",
       "        vertical-align: middle;\n",
       "    }\n",
       "\n",
       "    .dataframe tbody tr th {\n",
       "        vertical-align: top;\n",
       "    }\n",
       "\n",
       "    .dataframe thead th {\n",
       "        text-align: right;\n",
       "    }\n",
       "</style>\n",
       "<table border=\"1\" class=\"dataframe\">\n",
       "  <thead>\n",
       "    <tr style=\"text-align: right;\">\n",
       "      <th></th>\n",
       "      <th>date</th>\n",
       "      <th>DOI</th>\n",
       "      <th>country</th>\n",
       "      <th>city</th>\n",
       "      <th>lat</th>\n",
       "      <th>lon</th>\n",
       "      <th>city_pop</th>\n",
       "    </tr>\n",
       "  </thead>\n",
       "  <tbody>\n",
       "    <tr>\n",
       "      <th>0</th>\n",
       "      <td>2017-01-01 00:02:06</td>\n",
       "      <td>10.1111/j.1755-6724.2011.00377.x</td>\n",
       "      <td>China</td>\n",
       "      <td>Guangzhou Shi</td>\n",
       "      <td>23.1</td>\n",
       "      <td>113.3</td>\n",
       "      <td>NaN</td>\n",
       "    </tr>\n",
       "    <tr>\n",
       "      <th>1</th>\n",
       "      <td>2017-01-01 00:03:29</td>\n",
       "      <td>10.1111/j.1755-6724.2011.00378.x</td>\n",
       "      <td>China</td>\n",
       "      <td>Guangzhou Shi</td>\n",
       "      <td>23.1</td>\n",
       "      <td>113.3</td>\n",
       "      <td>NaN</td>\n",
       "    </tr>\n",
       "    <tr>\n",
       "      <th>2</th>\n",
       "      <td>2017-01-01 00:06:12</td>\n",
       "      <td>10.2514/1.b34382</td>\n",
       "      <td>Italy</td>\n",
       "      <td>Milano</td>\n",
       "      <td>45.5</td>\n",
       "      <td>9.2</td>\n",
       "      <td>26815.0</td>\n",
       "    </tr>\n",
       "    <tr>\n",
       "      <th>3</th>\n",
       "      <td>2017-01-01 00:06:12</td>\n",
       "      <td>10.2514/1.b34382</td>\n",
       "      <td>Italy</td>\n",
       "      <td>Milano</td>\n",
       "      <td>45.5</td>\n",
       "      <td>9.2</td>\n",
       "      <td>18545.0</td>\n",
       "    </tr>\n",
       "    <tr>\n",
       "      <th>4</th>\n",
       "      <td>2017-01-01 00:06:12</td>\n",
       "      <td>10.2514/1.b34382</td>\n",
       "      <td>Italy</td>\n",
       "      <td>Milano</td>\n",
       "      <td>45.5</td>\n",
       "      <td>9.2</td>\n",
       "      <td>1156903.0</td>\n",
       "    </tr>\n",
       "  </tbody>\n",
       "</table>\n",
       "</div>"
      ],
      "text/plain": [
       "                  date                               DOI country  \\\n",
       "0  2017-01-01 00:02:06  10.1111/j.1755-6724.2011.00377.x   China   \n",
       "1  2017-01-01 00:03:29  10.1111/j.1755-6724.2011.00378.x   China   \n",
       "2  2017-01-01 00:06:12                  10.2514/1.b34382   Italy   \n",
       "3  2017-01-01 00:06:12                  10.2514/1.b34382   Italy   \n",
       "4  2017-01-01 00:06:12                  10.2514/1.b34382   Italy   \n",
       "\n",
       "            city   lat    lon   city_pop  \n",
       "0  Guangzhou Shi  23.1  113.3        NaN  \n",
       "1  Guangzhou Shi  23.1  113.3        NaN  \n",
       "2         Milano  45.5    9.2    26815.0  \n",
       "3         Milano  45.5    9.2    18545.0  \n",
       "4         Milano  45.5    9.2  1156903.0  "
      ]
     },
     "execution_count": 15,
     "metadata": {},
     "output_type": "execute_result"
    }
   ],
   "source": [
    "statistics2017.head()"
   ]
  },
  {
   "cell_type": "markdown",
   "metadata": {},
   "source": [
    "Since the maxmind dataset included the same city name for different administrative areas (with different populations), we kept only the rows referring to the biggest administrative area of each city."
   ]
  },
  {
   "cell_type": "code",
   "execution_count": 16,
   "metadata": {},
   "outputs": [
    {
     "name": "stdout",
     "output_type": "stream",
     "text": [
      "<class 'pandas.core.frame.DataFrame'>\n",
      "Int64Index: 867625 entries, 1545015 to 235038\n",
      "Data columns (total 4 columns):\n",
      "DOI         867625 non-null object\n",
      "country     867625 non-null object\n",
      "city        867625 non-null object\n",
      "city_pop    867625 non-null float64\n",
      "dtypes: float64(1), object(3)\n",
      "memory usage: 33.1+ MB\n"
     ]
    }
   ],
   "source": [
    "statistics2017 = statistics2017.dropna().sort_values(by=['city',\"city_pop\"], ascending = False)\n",
    "statistics2017.date = statistics2017.date.drop_duplicates()\n",
    "statistics2017 = statistics2017.dropna()\n",
    "statistics2017 = statistics2017.drop(columns=[\"date\",\"lat\",\"lon\"])\n",
    "statistics2017.info()"
   ]
  },
  {
   "cell_type": "markdown",
   "metadata": {},
   "source": [
    "### The number of rows we have is now almost half of our intial sample size, so that is not so great;"
   ]
  },
  {
   "cell_type": "code",
   "execution_count": 17,
   "metadata": {},
   "outputs": [],
   "source": [
    "statistics2017 = statistics2017.groupby(['city_pop',\"country\",\"city\"]).count().sort_values(by=\"DOI\", ascending=False)"
   ]
  },
  {
   "cell_type": "code",
   "execution_count": 18,
   "metadata": {},
   "outputs": [],
   "source": [
    "statistics2017 = statistics2017.reset_index()\n",
    "statistics2017 = statistics2017.rename({\"DOI\": \"Downloads\"}, axis = \"columns\")\n",
    "statistics2017[\"1000hb_city\"] = statistics2017.Downloads / statistics2017.city_pop *1000"
   ]
  },
  {
   "cell_type": "code",
   "execution_count": 19,
   "metadata": {},
   "outputs": [],
   "source": [
    "statistics2017.to_csv(\"./../../data/cities-population-downloads.csv\", index=None)"
   ]
  },
  {
   "cell_type": "code",
   "execution_count": 20,
   "metadata": {},
   "outputs": [],
   "source": [
    "statistics2017 = pd.read_csv(\"./../../data/cities-population-downloads.csv\")"
   ]
  },
  {
   "cell_type": "code",
   "execution_count": 21,
   "metadata": {},
   "outputs": [
    {
     "data": {
      "text/html": [
       "<div>\n",
       "<style scoped>\n",
       "    .dataframe tbody tr th:only-of-type {\n",
       "        vertical-align: middle;\n",
       "    }\n",
       "\n",
       "    .dataframe tbody tr th {\n",
       "        vertical-align: top;\n",
       "    }\n",
       "\n",
       "    .dataframe thead th {\n",
       "        text-align: right;\n",
       "    }\n",
       "</style>\n",
       "<table border=\"1\" class=\"dataframe\">\n",
       "  <thead>\n",
       "    <tr style=\"text-align: right;\">\n",
       "      <th></th>\n",
       "      <th>city_pop</th>\n",
       "      <th>country</th>\n",
       "      <th>city</th>\n",
       "      <th>Downloads</th>\n",
       "      <th>1000hb_city</th>\n",
       "    </tr>\n",
       "  </thead>\n",
       "  <tbody>\n",
       "    <tr>\n",
       "      <th>0</th>\n",
       "      <td>7480601.0</td>\n",
       "      <td>China</td>\n",
       "      <td>Beijing</td>\n",
       "      <td>34772</td>\n",
       "      <td>4.648290</td>\n",
       "    </tr>\n",
       "    <tr>\n",
       "      <th>1</th>\n",
       "      <td>8540306.0</td>\n",
       "      <td>Indonesia</td>\n",
       "      <td>Gambir</td>\n",
       "      <td>31587</td>\n",
       "      <td>3.698579</td>\n",
       "    </tr>\n",
       "    <tr>\n",
       "      <th>2</th>\n",
       "      <td>10381288.0</td>\n",
       "      <td>Russia</td>\n",
       "      <td>Moskva</td>\n",
       "      <td>18286</td>\n",
       "      <td>1.761438</td>\n",
       "    </tr>\n",
       "    <tr>\n",
       "      <th>3</th>\n",
       "      <td>89125.0</td>\n",
       "      <td>France</td>\n",
       "      <td>Paris</td>\n",
       "      <td>16020</td>\n",
       "      <td>179.747546</td>\n",
       "    </tr>\n",
       "    <tr>\n",
       "      <th>4</th>\n",
       "      <td>136456.0</td>\n",
       "      <td>Brazil</td>\n",
       "      <td>São Paulo</td>\n",
       "      <td>15949</td>\n",
       "      <td>116.880167</td>\n",
       "    </tr>\n",
       "  </tbody>\n",
       "</table>\n",
       "</div>"
      ],
      "text/plain": [
       "     city_pop    country       city  Downloads  1000hb_city\n",
       "0   7480601.0      China    Beijing      34772     4.648290\n",
       "1   8540306.0  Indonesia     Gambir      31587     3.698579\n",
       "2  10381288.0     Russia     Moskva      18286     1.761438\n",
       "3     89125.0     France      Paris      16020   179.747546\n",
       "4    136456.0     Brazil  São Paulo      15949   116.880167"
      ]
     },
     "execution_count": 21,
     "metadata": {},
     "output_type": "execute_result"
    }
   ],
   "source": [
    "statistics2017.head()"
   ]
  }
 ],
 "metadata": {
  "kernelspec": {
   "display_name": "Python 3",
   "language": "python",
   "name": "python3"
  },
  "language_info": {
   "codemirror_mode": {
    "name": "ipython",
    "version": 3
   },
   "file_extension": ".py",
   "mimetype": "text/x-python",
   "name": "python",
   "nbconvert_exporter": "python",
   "pygments_lexer": "ipython3",
   "version": "3.6.5"
  }
 },
 "nbformat": 4,
 "nbformat_minor": 2
}
