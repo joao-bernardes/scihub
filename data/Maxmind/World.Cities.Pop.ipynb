{
 "cells": [
  {
   "cell_type": "code",
   "execution_count": 97,
   "metadata": {},
   "outputs": [],
   "source": [
    "import pandas as pd\n",
    "import numpy as np\n",
    "import gzip\n",
    "import matplotlib.pyplot as plt\n",
    "import seaborn as sns"
   ]
  },
  {
   "cell_type": "code",
   "execution_count": 98,
   "metadata": {},
   "outputs": [
    {
     "name": "stderr",
     "output_type": "stream",
     "text": [
      "C:\\anaconda\\lib\\site-packages\\IPython\\core\\interactiveshell.py:2728: DtypeWarning: Columns (3) have mixed types. Specify dtype option on import or set low_memory=False.\n",
      "  interactivity=interactivity, compiler=compiler, result=result)\n"
     ]
    }
   ],
   "source": [
    "#with open(\"worldcitiespop.txt.gz\", encoding=\" ISO-8859-1\") as f:\n",
    "pop = pd.read_csv(\"worldcitiespop.txt.gz\", encoding=\"ISO-8859-1\")"
   ]
  },
  {
   "cell_type": "code",
   "execution_count": 99,
   "metadata": {},
   "outputs": [],
   "source": [
    "pop = pop.dropna(how='any')"
   ]
  },
  {
   "cell_type": "code",
   "execution_count": 100,
   "metadata": {},
   "outputs": [
    {
     "name": "stdout",
     "output_type": "stream",
     "text": [
      "<class 'pandas.core.frame.DataFrame'>\n",
      "Int64Index: 47979 entries, 6 to 3173957\n",
      "Data columns (total 7 columns):\n",
      "Country       47979 non-null object\n",
      "City          47979 non-null object\n",
      "AccentCity    47979 non-null object\n",
      "Region        47979 non-null object\n",
      "Population    47979 non-null float64\n",
      "Latitude      47979 non-null float64\n",
      "Longitude     47979 non-null float64\n",
      "dtypes: float64(3), object(4)\n",
      "memory usage: 2.9+ MB\n"
     ]
    }
   ],
   "source": [
    "pop.info()"
   ]
  },
  {
   "cell_type": "code",
   "execution_count": 101,
   "metadata": {},
   "outputs": [],
   "source": [
    "pop = pop.sort_values(by=\"Population\",ascending=False)"
   ]
  },
  {
   "cell_type": "code",
   "execution_count": 102,
   "metadata": {},
   "outputs": [
    {
     "data": {
      "text/html": [
       "<div>\n",
       "<style scoped>\n",
       "    .dataframe tbody tr th:only-of-type {\n",
       "        vertical-align: middle;\n",
       "    }\n",
       "\n",
       "    .dataframe tbody tr th {\n",
       "        vertical-align: top;\n",
       "    }\n",
       "\n",
       "    .dataframe thead th {\n",
       "        text-align: right;\n",
       "    }\n",
       "</style>\n",
       "<table border=\"1\" class=\"dataframe\">\n",
       "  <thead>\n",
       "    <tr style=\"text-align: right;\">\n",
       "      <th></th>\n",
       "      <th>Country</th>\n",
       "      <th>City</th>\n",
       "      <th>AccentCity</th>\n",
       "      <th>Region</th>\n",
       "      <th>Population</th>\n",
       "      <th>Latitude</th>\n",
       "      <th>Longitude</th>\n",
       "    </tr>\n",
       "  </thead>\n",
       "  <tbody>\n",
       "    <tr>\n",
       "      <th>685839</th>\n",
       "      <td>cr</td>\n",
       "      <td>buenos aires</td>\n",
       "      <td>Buenos Aires</td>\n",
       "      <td>7</td>\n",
       "      <td>11680.0</td>\n",
       "      <td>8.859576</td>\n",
       "      <td>-83.502242</td>\n",
       "    </tr>\n",
       "    <tr>\n",
       "      <th>1861786</th>\n",
       "      <td>mx</td>\n",
       "      <td>buenos aires</td>\n",
       "      <td>Buenos Aires</td>\n",
       "      <td>16</td>\n",
       "      <td>10707.0</td>\n",
       "      <td>19.066667</td>\n",
       "      <td>-102.166667</td>\n",
       "    </tr>\n",
       "    <tr>\n",
       "      <th>2062351</th>\n",
       "      <td>pe</td>\n",
       "      <td>buenos aires</td>\n",
       "      <td>Buenos Aires</td>\n",
       "      <td>20</td>\n",
       "      <td>7967.0</td>\n",
       "      <td>-5.260833</td>\n",
       "      <td>-79.964167</td>\n",
       "    </tr>\n",
       "    <tr>\n",
       "      <th>660573</th>\n",
       "      <td>co</td>\n",
       "      <td>buenos aires</td>\n",
       "      <td>Buenos Aires</td>\n",
       "      <td>9</td>\n",
       "      <td>2144.0</td>\n",
       "      <td>3.015033</td>\n",
       "      <td>-76.642748</td>\n",
       "    </tr>\n",
       "    <tr>\n",
       "      <th>1079394</th>\n",
       "      <td>hn</td>\n",
       "      <td>buenos aires</td>\n",
       "      <td>Buenos Aires</td>\n",
       "      <td>5</td>\n",
       "      <td>1131.0</td>\n",
       "      <td>15.033333</td>\n",
       "      <td>-88.966667</td>\n",
       "    </tr>\n",
       "    <tr>\n",
       "      <th>1079403</th>\n",
       "      <td>hn</td>\n",
       "      <td>buenos aires</td>\n",
       "      <td>Buenos Aires</td>\n",
       "      <td>18</td>\n",
       "      <td>980.0</td>\n",
       "      <td>15.350000</td>\n",
       "      <td>-86.733333</td>\n",
       "    </tr>\n",
       "    <tr>\n",
       "      <th>1079395</th>\n",
       "      <td>hn</td>\n",
       "      <td>buenos aires</td>\n",
       "      <td>Buenos Aires</td>\n",
       "      <td>6</td>\n",
       "      <td>979.0</td>\n",
       "      <td>15.483333</td>\n",
       "      <td>-88.183333</td>\n",
       "    </tr>\n",
       "  </tbody>\n",
       "</table>\n",
       "</div>"
      ],
      "text/plain": [
       "        Country          City    AccentCity Region  Population   Latitude  \\\n",
       "685839       cr  buenos aires  Buenos Aires      7     11680.0   8.859576   \n",
       "1861786      mx  buenos aires  Buenos Aires     16     10707.0  19.066667   \n",
       "2062351      pe  buenos aires  Buenos Aires     20      7967.0  -5.260833   \n",
       "660573       co  buenos aires  Buenos Aires      9      2144.0   3.015033   \n",
       "1079394      hn  buenos aires  Buenos Aires      5      1131.0  15.033333   \n",
       "1079403      hn  buenos aires  Buenos Aires     18       980.0  15.350000   \n",
       "1079395      hn  buenos aires  Buenos Aires      6       979.0  15.483333   \n",
       "\n",
       "          Longitude  \n",
       "685839   -83.502242  \n",
       "1861786 -102.166667  \n",
       "2062351  -79.964167  \n",
       "660573   -76.642748  \n",
       "1079394  -88.966667  \n",
       "1079403  -86.733333  \n",
       "1079395  -88.183333  "
      ]
     },
     "execution_count": 102,
     "metadata": {},
     "output_type": "execute_result"
    }
   ],
   "source": [
    "pop.loc[pop.City == \"buenos aires\",:]"
   ]
  },
  {
   "cell_type": "code",
   "execution_count": 103,
   "metadata": {},
   "outputs": [],
   "source": [
    "pop.City = pop.City.drop_duplicates()"
   ]
  },
  {
   "cell_type": "code",
   "execution_count": 106,
   "metadata": {},
   "outputs": [
    {
     "ename": "AttributeError",
     "evalue": "'DataFrame' object has no attribute 'lat'",
     "output_type": "error",
     "traceback": [
      "\u001b[1;31m---------------------------------------------------------------------------\u001b[0m",
      "\u001b[1;31mAttributeError\u001b[0m                            Traceback (most recent call last)",
      "\u001b[1;32m<ipython-input-106-b30d340a76ea>\u001b[0m in \u001b[0;36m<module>\u001b[1;34m()\u001b[0m\n\u001b[1;32m----> 1\u001b[1;33m \u001b[0mpop\u001b[0m\u001b[1;33m.\u001b[0m\u001b[0mlat\u001b[0m \u001b[1;33m=\u001b[0m \u001b[0mpop\u001b[0m\u001b[1;33m.\u001b[0m\u001b[0mlat\u001b[0m\u001b[1;33m.\u001b[0m\u001b[0mround\u001b[0m\u001b[1;33m(\u001b[0m\u001b[0mdecimals\u001b[0m\u001b[1;33m=\u001b[0m\u001b[1;36m1\u001b[0m\u001b[1;33m)\u001b[0m\u001b[1;33m\u001b[0m\u001b[0m\n\u001b[0m\u001b[0;32m      2\u001b[0m \u001b[0mpop\u001b[0m\u001b[1;33m.\u001b[0m\u001b[0mlon\u001b[0m \u001b[1;33m=\u001b[0m \u001b[0mpop\u001b[0m\u001b[1;33m.\u001b[0m\u001b[0mlon\u001b[0m\u001b[1;33m.\u001b[0m\u001b[0mround\u001b[0m\u001b[1;33m(\u001b[0m\u001b[0mdecimals\u001b[0m\u001b[1;33m=\u001b[0m\u001b[1;36m1\u001b[0m\u001b[1;33m)\u001b[0m\u001b[1;33m\u001b[0m\u001b[0m\n",
      "\u001b[1;32mC:\\anaconda\\lib\\site-packages\\pandas\\core\\generic.py\u001b[0m in \u001b[0;36m__getattr__\u001b[1;34m(self, name)\u001b[0m\n\u001b[0;32m   3612\u001b[0m             \u001b[1;32mif\u001b[0m \u001b[0mname\u001b[0m \u001b[1;32min\u001b[0m \u001b[0mself\u001b[0m\u001b[1;33m.\u001b[0m\u001b[0m_info_axis\u001b[0m\u001b[1;33m:\u001b[0m\u001b[1;33m\u001b[0m\u001b[0m\n\u001b[0;32m   3613\u001b[0m                 \u001b[1;32mreturn\u001b[0m \u001b[0mself\u001b[0m\u001b[1;33m[\u001b[0m\u001b[0mname\u001b[0m\u001b[1;33m]\u001b[0m\u001b[1;33m\u001b[0m\u001b[0m\n\u001b[1;32m-> 3614\u001b[1;33m             \u001b[1;32mreturn\u001b[0m \u001b[0mobject\u001b[0m\u001b[1;33m.\u001b[0m\u001b[0m__getattribute__\u001b[0m\u001b[1;33m(\u001b[0m\u001b[0mself\u001b[0m\u001b[1;33m,\u001b[0m \u001b[0mname\u001b[0m\u001b[1;33m)\u001b[0m\u001b[1;33m\u001b[0m\u001b[0m\n\u001b[0m\u001b[0;32m   3615\u001b[0m \u001b[1;33m\u001b[0m\u001b[0m\n\u001b[0;32m   3616\u001b[0m     \u001b[1;32mdef\u001b[0m \u001b[0m__setattr__\u001b[0m\u001b[1;33m(\u001b[0m\u001b[0mself\u001b[0m\u001b[1;33m,\u001b[0m \u001b[0mname\u001b[0m\u001b[1;33m,\u001b[0m \u001b[0mvalue\u001b[0m\u001b[1;33m)\u001b[0m\u001b[1;33m:\u001b[0m\u001b[1;33m\u001b[0m\u001b[0m\n",
      "\u001b[1;31mAttributeError\u001b[0m: 'DataFrame' object has no attribute 'lat'"
     ]
    }
   ],
   "source": [
    "pop.lat = pop.lat.round(decimals=1)\n",
    "pop.lon = pop.lon.round(decimals=1)"
   ]
  },
  {
   "cell_type": "code",
   "execution_count": 105,
   "metadata": {},
   "outputs": [
    {
     "data": {
      "text/html": [
       "<div>\n",
       "<style scoped>\n",
       "    .dataframe tbody tr th:only-of-type {\n",
       "        vertical-align: middle;\n",
       "    }\n",
       "\n",
       "    .dataframe tbody tr th {\n",
       "        vertical-align: top;\n",
       "    }\n",
       "\n",
       "    .dataframe thead th {\n",
       "        text-align: right;\n",
       "    }\n",
       "</style>\n",
       "<table border=\"1\" class=\"dataframe\">\n",
       "  <thead>\n",
       "    <tr style=\"text-align: right;\">\n",
       "      <th></th>\n",
       "      <th>Country</th>\n",
       "      <th>City</th>\n",
       "      <th>AccentCity</th>\n",
       "      <th>Region</th>\n",
       "      <th>Population</th>\n",
       "      <th>Latitude</th>\n",
       "      <th>Longitude</th>\n",
       "    </tr>\n",
       "  </thead>\n",
       "  <tbody>\n",
       "    <tr>\n",
       "      <th>1544449</th>\n",
       "      <td>jp</td>\n",
       "      <td>tokyo</td>\n",
       "      <td>Tokyo</td>\n",
       "      <td>40</td>\n",
       "      <td>31480498.0</td>\n",
       "      <td>35.685000</td>\n",
       "      <td>139.751389</td>\n",
       "    </tr>\n",
       "    <tr>\n",
       "      <th>570824</th>\n",
       "      <td>cn</td>\n",
       "      <td>shanghai</td>\n",
       "      <td>Shanghai</td>\n",
       "      <td>23</td>\n",
       "      <td>14608512.0</td>\n",
       "      <td>31.045556</td>\n",
       "      <td>121.399722</td>\n",
       "    </tr>\n",
       "    <tr>\n",
       "      <th>1327914</th>\n",
       "      <td>in</td>\n",
       "      <td>bombay</td>\n",
       "      <td>Bombay</td>\n",
       "      <td>16</td>\n",
       "      <td>12692717.0</td>\n",
       "      <td>18.975000</td>\n",
       "      <td>72.825833</td>\n",
       "    </tr>\n",
       "    <tr>\n",
       "      <th>2200161</th>\n",
       "      <td>pk</td>\n",
       "      <td>karachi</td>\n",
       "      <td>Karachi</td>\n",
       "      <td>05</td>\n",
       "      <td>11627378.0</td>\n",
       "      <td>24.905600</td>\n",
       "      <td>67.082200</td>\n",
       "    </tr>\n",
       "    <tr>\n",
       "      <th>1331162</th>\n",
       "      <td>in</td>\n",
       "      <td>delhi</td>\n",
       "      <td>Delhi</td>\n",
       "      <td>7</td>\n",
       "      <td>10928270.0</td>\n",
       "      <td>28.666667</td>\n",
       "      <td>77.216667</td>\n",
       "    </tr>\n",
       "  </tbody>\n",
       "</table>\n",
       "</div>"
      ],
      "text/plain": [
       "        Country      City AccentCity Region  Population   Latitude   Longitude\n",
       "1544449      jp     tokyo      Tokyo     40  31480498.0  35.685000  139.751389\n",
       "570824       cn  shanghai   Shanghai     23  14608512.0  31.045556  121.399722\n",
       "1327914      in    bombay     Bombay     16  12692717.0  18.975000   72.825833\n",
       "2200161      pk   karachi    Karachi     05  11627378.0  24.905600   67.082200\n",
       "1331162      in     delhi      Delhi      7  10928270.0  28.666667   77.216667"
      ]
     },
     "execution_count": 105,
     "metadata": {},
     "output_type": "execute_result"
    }
   ],
   "source": [
    "pop.head()"
   ]
  },
  {
   "cell_type": "markdown",
   "metadata": {},
   "source": [
    "### Import DataFrame"
   ]
  },
  {
   "cell_type": "code",
   "execution_count": null,
   "metadata": {},
   "outputs": [],
   "source": [
    "statistics2017 = pd.read_table(\"./../../data/sample/2017.statistics.sample.csv\", header=None)\n",
    "#give columns names\n",
    "statistics2017.columns = [\"date\", \"DOI\", \"IPID\", \"userID\", \"country\", \"city\", \"lat\", \"lon\"]"
   ]
  },
  {
   "cell_type": "code",
   "execution_count": null,
   "metadata": {},
   "outputs": [],
   "source": [
    "statistics2017.city = statistics2017[\"city\"].str.lower()"
   ]
  },
  {
   "cell_type": "code",
   "execution_count": null,
   "metadata": {},
   "outputs": [],
   "source": [
    "statistics2017 = statistics2017.loc[:,(\"DOI\",\"city\", \"lat\", \"lon\", \"userID\")]"
   ]
  },
  {
   "cell_type": "code",
   "execution_count": null,
   "metadata": {},
   "outputs": [],
   "source": [
    "statistics2017 = statistics2017.groupby('city').count().sort_values(by=\"DOI\", ascending=False)"
   ]
  },
  {
   "cell_type": "code",
   "execution_count": null,
   "metadata": {},
   "outputs": [],
   "source": [
    "statistics2017 = statistics2017.reset_index()"
   ]
  },
  {
   "cell_type": "code",
   "execution_count": null,
   "metadata": {},
   "outputs": [],
   "source": [
    "#We have 19419 different cities requesting to the Sci-Hub\n",
    "statistics2017.info()"
   ]
  },
  {
   "cell_type": "code",
   "execution_count": null,
   "metadata": {},
   "outputs": [],
   "source": [
    "statistics2017 = pd.merge(statistics2017, pop, left_on=\"city\", right_on=\"City\")"
   ]
  },
  {
   "cell_type": "code",
   "execution_count": null,
   "metadata": {},
   "outputs": [],
   "source": [
    "statistics2017[\"norm_values\"] = statistics2017.DOI / statistics2017.Population"
   ]
  },
  {
   "cell_type": "code",
   "execution_count": null,
   "metadata": {},
   "outputs": [],
   "source": [
    "statistics2017"
   ]
  },
  {
   "cell_type": "code",
   "execution_count": null,
   "metadata": {},
   "outputs": [],
   "source": [
    "a = statistics2017.sort_values(by=\"norm_values\", ascending=False).head(25)"
   ]
  },
  {
   "cell_type": "code",
   "execution_count": null,
   "metadata": {},
   "outputs": [],
   "source": [
    "plt.subplots(figsize=(10, 5))\n",
    "plt.xticks(rotation=90)\n",
    "plot = sns.barplot(\"City\",\"norm_values\", data=a)\n",
    "\n",
    "plt.title(\"Fig. 7.1 - Top Cities Requesting Articles | Normalized Values for Population\")\n",
    "plt.tight_layout()\n",
    "#plt.savefig(\"./../../charts and figures/Fig. 7.1 - Articles.City.Top25.Norm_Values.pdf\")"
   ]
  },
  {
   "cell_type": "code",
   "execution_count": null,
   "metadata": {},
   "outputs": [],
   "source": [
    "plot = a.plot.bar(x=[\"Country\",\"city\"],y=\"norm_values\", fontsize=20, figsize=(20,10))\n",
    "plt.title(\"Fig. 7.1 - Top Cities Requesting Articles | Normalized Values for Population\")\n",
    "plt.tight_layout()\n",
    "#plt.savefig(\"./../../charts and figures/Fig. 7.1 - Articles.City.Top25.Norm_Values.pdf\")"
   ]
  },
  {
   "cell_type": "code",
   "execution_count": null,
   "metadata": {},
   "outputs": [],
   "source": [
    "scatter =statistics2017.sort_values(by=\"norm_values\", ascending=False)\n",
    "scatter.plot.scatter(x=\"Population\",y=\"DOI\")"
   ]
  },
  {
   "cell_type": "code",
   "execution_count": null,
   "metadata": {},
   "outputs": [],
   "source": [
    "scatter =statistics2017.sort_values(by=\"norm_values\", ascending=False)\n",
    "scatter.plot.scatter(x=\"norm_values\",y=\"DOI\")"
   ]
  },
  {
   "cell_type": "markdown",
   "metadata": {},
   "source": [
    "# Let's do this with another database!"
   ]
  },
  {
   "cell_type": "code",
   "execution_count": 46,
   "metadata": {},
   "outputs": [],
   "source": [
    "import pandas as pd\n",
    "import numpy as np\n",
    "import gzip\n",
    "import matplotlib.pyplot as plt\n",
    "import seaborn as sns"
   ]
  },
  {
   "cell_type": "code",
   "execution_count": 47,
   "metadata": {},
   "outputs": [],
   "source": [
    "geonames = pd.read_table(\"./../../data/GeoNames/cities1000.zip\", header = None, low_memory=False)\n",
    "geonames.columns = [\"geonameID\", \"name\", \"city\", \"alternatenames\", \"lat\", \"lon\", \"feature class\", \"feature code\", \"country code\", \"cc2\", \"admin1 code\", \"admin2 code\", \"admin3 code\", \"admin4 code\", \"population\", \"elevation\", \"dem\", \"timezone\", \"modification date\"]"
   ]
  },
  {
   "cell_type": "code",
   "execution_count": 48,
   "metadata": {},
   "outputs": [],
   "source": [
    "geonames = geonames.loc[:,(\"city\", \"lat\", \"lon\",\"country code\",\"population\")]"
   ]
  },
  {
   "cell_type": "code",
   "execution_count": 49,
   "metadata": {},
   "outputs": [
    {
     "data": {
      "text/html": [
       "<div>\n",
       "<style scoped>\n",
       "    .dataframe tbody tr th:only-of-type {\n",
       "        vertical-align: middle;\n",
       "    }\n",
       "\n",
       "    .dataframe tbody tr th {\n",
       "        vertical-align: top;\n",
       "    }\n",
       "\n",
       "    .dataframe thead th {\n",
       "        text-align: right;\n",
       "    }\n",
       "</style>\n",
       "<table border=\"1\" class=\"dataframe\">\n",
       "  <thead>\n",
       "    <tr style=\"text-align: right;\">\n",
       "      <th></th>\n",
       "      <th>city</th>\n",
       "      <th>lat</th>\n",
       "      <th>lon</th>\n",
       "      <th>country code</th>\n",
       "      <th>population</th>\n",
       "    </tr>\n",
       "  </thead>\n",
       "  <tbody>\n",
       "    <tr>\n",
       "      <th>0</th>\n",
       "      <td>El Tarter</td>\n",
       "      <td>42.57952</td>\n",
       "      <td>1.65362</td>\n",
       "      <td>AD</td>\n",
       "      <td>1052</td>\n",
       "    </tr>\n",
       "    <tr>\n",
       "      <th>1</th>\n",
       "      <td>Sant Julia de Loria</td>\n",
       "      <td>42.46372</td>\n",
       "      <td>1.49129</td>\n",
       "      <td>AD</td>\n",
       "      <td>8022</td>\n",
       "    </tr>\n",
       "    <tr>\n",
       "      <th>2</th>\n",
       "      <td>Pas de la Casa</td>\n",
       "      <td>42.54277</td>\n",
       "      <td>1.73361</td>\n",
       "      <td>AD</td>\n",
       "      <td>2363</td>\n",
       "    </tr>\n",
       "    <tr>\n",
       "      <th>3</th>\n",
       "      <td>Ordino</td>\n",
       "      <td>42.55623</td>\n",
       "      <td>1.53319</td>\n",
       "      <td>AD</td>\n",
       "      <td>3066</td>\n",
       "    </tr>\n",
       "    <tr>\n",
       "      <th>4</th>\n",
       "      <td>les Escaldes</td>\n",
       "      <td>42.50729</td>\n",
       "      <td>1.53414</td>\n",
       "      <td>AD</td>\n",
       "      <td>15853</td>\n",
       "    </tr>\n",
       "  </tbody>\n",
       "</table>\n",
       "</div>"
      ],
      "text/plain": [
       "                  city       lat      lon country code  population\n",
       "0            El Tarter  42.57952  1.65362           AD        1052\n",
       "1  Sant Julia de Loria  42.46372  1.49129           AD        8022\n",
       "2       Pas de la Casa  42.54277  1.73361           AD        2363\n",
       "3               Ordino  42.55623  1.53319           AD        3066\n",
       "4         les Escaldes  42.50729  1.53414           AD       15853"
      ]
     },
     "execution_count": 49,
     "metadata": {},
     "output_type": "execute_result"
    }
   ],
   "source": [
    "geonames.head()"
   ]
  },
  {
   "cell_type": "code",
   "execution_count": 50,
   "metadata": {},
   "outputs": [],
   "source": [
    "geonames.lat = geonames.lat.round(decimals=1)\n",
    "geonames.lon = geonames.lon.round(decimals=1)"
   ]
  },
  {
   "cell_type": "code",
   "execution_count": 51,
   "metadata": {},
   "outputs": [],
   "source": [
    "#country_code = pd.read_csv(\"https://raw.githubusercontent.com/lukes/ISO-3166-Countries-with-Regional-Codes/master/all/all.csv\", usecols=(\"name\",\"alpha-2\"))"
   ]
  },
  {
   "cell_type": "code",
   "execution_count": 52,
   "metadata": {},
   "outputs": [
    {
     "data": {
      "text/html": [
       "<div>\n",
       "<style scoped>\n",
       "    .dataframe tbody tr th:only-of-type {\n",
       "        vertical-align: middle;\n",
       "    }\n",
       "\n",
       "    .dataframe tbody tr th {\n",
       "        vertical-align: top;\n",
       "    }\n",
       "\n",
       "    .dataframe thead th {\n",
       "        text-align: right;\n",
       "    }\n",
       "</style>\n",
       "<table border=\"1\" class=\"dataframe\">\n",
       "  <thead>\n",
       "    <tr style=\"text-align: right;\">\n",
       "      <th></th>\n",
       "      <th>city</th>\n",
       "      <th>lat</th>\n",
       "      <th>lon</th>\n",
       "      <th>country code</th>\n",
       "      <th>population</th>\n",
       "    </tr>\n",
       "  </thead>\n",
       "  <tbody>\n",
       "    <tr>\n",
       "      <th>0</th>\n",
       "      <td>El Tarter</td>\n",
       "      <td>42.6</td>\n",
       "      <td>1.7</td>\n",
       "      <td>AD</td>\n",
       "      <td>1052</td>\n",
       "    </tr>\n",
       "    <tr>\n",
       "      <th>1</th>\n",
       "      <td>Sant Julia de Loria</td>\n",
       "      <td>42.5</td>\n",
       "      <td>1.5</td>\n",
       "      <td>AD</td>\n",
       "      <td>8022</td>\n",
       "    </tr>\n",
       "    <tr>\n",
       "      <th>2</th>\n",
       "      <td>Pas de la Casa</td>\n",
       "      <td>42.5</td>\n",
       "      <td>1.7</td>\n",
       "      <td>AD</td>\n",
       "      <td>2363</td>\n",
       "    </tr>\n",
       "    <tr>\n",
       "      <th>3</th>\n",
       "      <td>Ordino</td>\n",
       "      <td>42.6</td>\n",
       "      <td>1.5</td>\n",
       "      <td>AD</td>\n",
       "      <td>3066</td>\n",
       "    </tr>\n",
       "    <tr>\n",
       "      <th>4</th>\n",
       "      <td>les Escaldes</td>\n",
       "      <td>42.5</td>\n",
       "      <td>1.5</td>\n",
       "      <td>AD</td>\n",
       "      <td>15853</td>\n",
       "    </tr>\n",
       "  </tbody>\n",
       "</table>\n",
       "</div>"
      ],
      "text/plain": [
       "                  city   lat  lon country code  population\n",
       "0            El Tarter  42.6  1.7           AD        1052\n",
       "1  Sant Julia de Loria  42.5  1.5           AD        8022\n",
       "2       Pas de la Casa  42.5  1.7           AD        2363\n",
       "3               Ordino  42.6  1.5           AD        3066\n",
       "4         les Escaldes  42.5  1.5           AD       15853"
      ]
     },
     "execution_count": 52,
     "metadata": {},
     "output_type": "execute_result"
    }
   ],
   "source": [
    "geonames.head()"
   ]
  },
  {
   "cell_type": "code",
   "execution_count": 53,
   "metadata": {},
   "outputs": [],
   "source": [
    "statistics2017 = pd.read_table(\"./../../data/sample/2017.statistics.sample.csv\", header=None)\n",
    "#give columns names\n",
    "statistics2017.columns = [\"date\", \"DOI\", \"IPID\", \"userID\", \"country\", \"city\", \"lat\", \"lon\"]"
   ]
  },
  {
   "cell_type": "code",
   "execution_count": 54,
   "metadata": {},
   "outputs": [],
   "source": [
    "statistics2017 = statistics2017.loc[:,(\"DOI\", \"country\", \"city\", \"lat\", \"lon\")]"
   ]
  },
  {
   "cell_type": "code",
   "execution_count": 55,
   "metadata": {},
   "outputs": [],
   "source": [
    "statistics2017.lat = statistics2017.lat.round(decimals=1)\n",
    "statistics2017.lon = statistics2017.lon.round(decimals=1)"
   ]
  },
  {
   "cell_type": "code",
   "execution_count": 56,
   "metadata": {},
   "outputs": [
    {
     "data": {
      "text/html": [
       "<div>\n",
       "<style scoped>\n",
       "    .dataframe tbody tr th:only-of-type {\n",
       "        vertical-align: middle;\n",
       "    }\n",
       "\n",
       "    .dataframe tbody tr th {\n",
       "        vertical-align: top;\n",
       "    }\n",
       "\n",
       "    .dataframe thead th {\n",
       "        text-align: right;\n",
       "    }\n",
       "</style>\n",
       "<table border=\"1\" class=\"dataframe\">\n",
       "  <thead>\n",
       "    <tr style=\"text-align: right;\">\n",
       "      <th></th>\n",
       "      <th>DOI</th>\n",
       "      <th>country</th>\n",
       "      <th>city</th>\n",
       "      <th>lat</th>\n",
       "      <th>lon</th>\n",
       "    </tr>\n",
       "  </thead>\n",
       "  <tbody>\n",
       "    <tr>\n",
       "      <th>0</th>\n",
       "      <td>10.1111/j.1467-8691.2005.00332.x</td>\n",
       "      <td>Pakistan</td>\n",
       "      <td>Karachi</td>\n",
       "      <td>24.9</td>\n",
       "      <td>67.0</td>\n",
       "    </tr>\n",
       "    <tr>\n",
       "      <th>1</th>\n",
       "      <td>10.1038/nm.3102</td>\n",
       "      <td>China</td>\n",
       "      <td>Dingxi Shi</td>\n",
       "      <td>35.6</td>\n",
       "      <td>104.6</td>\n",
       "    </tr>\n",
       "    <tr>\n",
       "      <th>2</th>\n",
       "      <td>10.2337/diacare.21.12.2144</td>\n",
       "      <td>Hong Kong</td>\n",
       "      <td>NaN</td>\n",
       "      <td>22.5</td>\n",
       "      <td>114.1</td>\n",
       "    </tr>\n",
       "    <tr>\n",
       "      <th>3</th>\n",
       "      <td>10.1017/S1833367200001942</td>\n",
       "      <td>Iran</td>\n",
       "      <td>Tehran</td>\n",
       "      <td>35.7</td>\n",
       "      <td>51.4</td>\n",
       "    </tr>\n",
       "    <tr>\n",
       "      <th>4</th>\n",
       "      <td>10.1002/nme.1748</td>\n",
       "      <td>Chile</td>\n",
       "      <td>Santiago</td>\n",
       "      <td>-33.4</td>\n",
       "      <td>-70.7</td>\n",
       "    </tr>\n",
       "  </tbody>\n",
       "</table>\n",
       "</div>"
      ],
      "text/plain": [
       "                                DOI    country        city   lat    lon\n",
       "0  10.1111/j.1467-8691.2005.00332.x   Pakistan     Karachi  24.9   67.0\n",
       "1                   10.1038/nm.3102      China  Dingxi Shi  35.6  104.6\n",
       "2        10.2337/diacare.21.12.2144  Hong Kong         NaN  22.5  114.1\n",
       "3         10.1017/S1833367200001942       Iran      Tehran  35.7   51.4\n",
       "4                  10.1002/nme.1748      Chile    Santiago -33.4  -70.7"
      ]
     },
     "execution_count": 56,
     "metadata": {},
     "output_type": "execute_result"
    }
   ],
   "source": [
    "statistics2017.head()"
   ]
  },
  {
   "cell_type": "code",
   "execution_count": 57,
   "metadata": {},
   "outputs": [],
   "source": [
    "statistics2017 = pd.merge(statistics2017, geonames, how='inner', on=['lat', 'lon', \"city\"])"
   ]
  },
  {
   "cell_type": "code",
   "execution_count": 58,
   "metadata": {},
   "outputs": [
    {
     "data": {
      "text/html": [
       "<div>\n",
       "<style scoped>\n",
       "    .dataframe tbody tr th:only-of-type {\n",
       "        vertical-align: middle;\n",
       "    }\n",
       "\n",
       "    .dataframe tbody tr th {\n",
       "        vertical-align: top;\n",
       "    }\n",
       "\n",
       "    .dataframe thead th {\n",
       "        text-align: right;\n",
       "    }\n",
       "</style>\n",
       "<table border=\"1\" class=\"dataframe\">\n",
       "  <thead>\n",
       "    <tr style=\"text-align: right;\">\n",
       "      <th></th>\n",
       "      <th>DOI</th>\n",
       "      <th>country</th>\n",
       "      <th>city</th>\n",
       "      <th>lat</th>\n",
       "      <th>lon</th>\n",
       "      <th>country code</th>\n",
       "      <th>population</th>\n",
       "    </tr>\n",
       "  </thead>\n",
       "  <tbody>\n",
       "    <tr>\n",
       "      <th>0</th>\n",
       "      <td>10.1111/j.1467-8691.2005.00332.x</td>\n",
       "      <td>Pakistan</td>\n",
       "      <td>Karachi</td>\n",
       "      <td>24.9</td>\n",
       "      <td>67.0</td>\n",
       "      <td>PK</td>\n",
       "      <td>11624219</td>\n",
       "    </tr>\n",
       "    <tr>\n",
       "      <th>1</th>\n",
       "      <td>10.1039/C1GC15162B</td>\n",
       "      <td>Pakistan</td>\n",
       "      <td>Karachi</td>\n",
       "      <td>24.9</td>\n",
       "      <td>67.0</td>\n",
       "      <td>PK</td>\n",
       "      <td>11624219</td>\n",
       "    </tr>\n",
       "    <tr>\n",
       "      <th>2</th>\n",
       "      <td>10.1080/09544120100000019</td>\n",
       "      <td>Pakistan</td>\n",
       "      <td>Karachi</td>\n",
       "      <td>24.9</td>\n",
       "      <td>67.0</td>\n",
       "      <td>PK</td>\n",
       "      <td>11624219</td>\n",
       "    </tr>\n",
       "    <tr>\n",
       "      <th>3</th>\n",
       "      <td>10.1002/pi.5315</td>\n",
       "      <td>Pakistan</td>\n",
       "      <td>Karachi</td>\n",
       "      <td>24.9</td>\n",
       "      <td>67.0</td>\n",
       "      <td>PK</td>\n",
       "      <td>11624219</td>\n",
       "    </tr>\n",
       "    <tr>\n",
       "      <th>4</th>\n",
       "      <td>10.1108/JPBM-06-2015-0919</td>\n",
       "      <td>Pakistan</td>\n",
       "      <td>Karachi</td>\n",
       "      <td>24.9</td>\n",
       "      <td>67.0</td>\n",
       "      <td>PK</td>\n",
       "      <td>11624219</td>\n",
       "    </tr>\n",
       "  </tbody>\n",
       "</table>\n",
       "</div>"
      ],
      "text/plain": [
       "                                DOI   country     city   lat   lon  \\\n",
       "0  10.1111/j.1467-8691.2005.00332.x  Pakistan  Karachi  24.9  67.0   \n",
       "1                10.1039/C1GC15162B  Pakistan  Karachi  24.9  67.0   \n",
       "2         10.1080/09544120100000019  Pakistan  Karachi  24.9  67.0   \n",
       "3                   10.1002/pi.5315  Pakistan  Karachi  24.9  67.0   \n",
       "4         10.1108/JPBM-06-2015-0919  Pakistan  Karachi  24.9  67.0   \n",
       "\n",
       "  country code  population  \n",
       "0           PK    11624219  \n",
       "1           PK    11624219  \n",
       "2           PK    11624219  \n",
       "3           PK    11624219  \n",
       "4           PK    11624219  "
      ]
     },
     "execution_count": 58,
     "metadata": {},
     "output_type": "execute_result"
    }
   ],
   "source": [
    "statistics2017.head()"
   ]
  },
  {
   "cell_type": "code",
   "execution_count": 59,
   "metadata": {},
   "outputs": [],
   "source": [
    "statistics2017 = statistics2017.groupby(['population',\"country\",\"city\"]).count().sort_values(by=\"DOI\", ascending=False)"
   ]
  },
  {
   "cell_type": "code",
   "execution_count": 60,
   "metadata": {},
   "outputs": [
    {
     "data": {
      "text/html": [
       "<div>\n",
       "<style scoped>\n",
       "    .dataframe tbody tr th:only-of-type {\n",
       "        vertical-align: middle;\n",
       "    }\n",
       "\n",
       "    .dataframe tbody tr th {\n",
       "        vertical-align: top;\n",
       "    }\n",
       "\n",
       "    .dataframe thead th {\n",
       "        text-align: right;\n",
       "    }\n",
       "</style>\n",
       "<table border=\"1\" class=\"dataframe\">\n",
       "  <thead>\n",
       "    <tr style=\"text-align: right;\">\n",
       "      <th></th>\n",
       "      <th></th>\n",
       "      <th></th>\n",
       "      <th>DOI</th>\n",
       "      <th>lat</th>\n",
       "      <th>lon</th>\n",
       "      <th>country code</th>\n",
       "    </tr>\n",
       "    <tr>\n",
       "      <th>population</th>\n",
       "      <th>country</th>\n",
       "      <th>city</th>\n",
       "      <th></th>\n",
       "      <th></th>\n",
       "      <th></th>\n",
       "      <th></th>\n",
       "    </tr>\n",
       "  </thead>\n",
       "  <tbody>\n",
       "    <tr>\n",
       "      <th>11716620</th>\n",
       "      <th>China</th>\n",
       "      <th>Beijing</th>\n",
       "      <td>41398</td>\n",
       "      <td>41398</td>\n",
       "      <td>41398</td>\n",
       "      <td>41398</td>\n",
       "    </tr>\n",
       "    <tr>\n",
       "      <th>7153309</th>\n",
       "      <th>Iran</th>\n",
       "      <th>Tehran</th>\n",
       "      <td>40101</td>\n",
       "      <td>40101</td>\n",
       "      <td>40101</td>\n",
       "      <td>40101</td>\n",
       "    </tr>\n",
       "    <tr>\n",
       "      <th>22315474</th>\n",
       "      <th>China</th>\n",
       "      <th>Shanghai</th>\n",
       "      <td>31375</td>\n",
       "      <td>31375</td>\n",
       "      <td>31375</td>\n",
       "      <td>31375</td>\n",
       "    </tr>\n",
       "    <tr>\n",
       "      <th>7556900</th>\n",
       "      <th>United Kingdom</th>\n",
       "      <th>London</th>\n",
       "      <td>18153</td>\n",
       "      <td>18153</td>\n",
       "      <td>18153</td>\n",
       "      <td>18153</td>\n",
       "    </tr>\n",
       "    <tr>\n",
       "      <th>741636</th>\n",
       "      <th>Netherlands</th>\n",
       "      <th>Amsterdam</th>\n",
       "      <td>16324</td>\n",
       "      <td>16324</td>\n",
       "      <td>16324</td>\n",
       "      <td>16324</td>\n",
       "    </tr>\n",
       "  </tbody>\n",
       "</table>\n",
       "</div>"
      ],
      "text/plain": [
       "                                       DOI    lat    lon  country code\n",
       "population country        city                                        \n",
       "11716620   China          Beijing    41398  41398  41398         41398\n",
       "7153309    Iran           Tehran     40101  40101  40101         40101\n",
       "22315474   China          Shanghai   31375  31375  31375         31375\n",
       "7556900    United Kingdom London     18153  18153  18153         18153\n",
       "741636     Netherlands    Amsterdam  16324  16324  16324         16324"
      ]
     },
     "execution_count": 60,
     "metadata": {},
     "output_type": "execute_result"
    }
   ],
   "source": [
    "statistics2017.head()"
   ]
  },
  {
   "cell_type": "code",
   "execution_count": 61,
   "metadata": {},
   "outputs": [],
   "source": [
    "statistics2017 = statistics2017.reset_index(level=[\"population\",\"city\",\"country\"])"
   ]
  },
  {
   "cell_type": "code",
   "execution_count": 62,
   "metadata": {},
   "outputs": [],
   "source": [
    "statistics2017.population = statistics2017.population.replace(0,np.NaN)\n",
    "statistics2017 = statistics2017.dropna()"
   ]
  },
  {
   "cell_type": "code",
   "execution_count": 63,
   "metadata": {},
   "outputs": [
    {
     "data": {
      "text/html": [
       "<div>\n",
       "<style scoped>\n",
       "    .dataframe tbody tr th:only-of-type {\n",
       "        vertical-align: middle;\n",
       "    }\n",
       "\n",
       "    .dataframe tbody tr th {\n",
       "        vertical-align: top;\n",
       "    }\n",
       "\n",
       "    .dataframe thead th {\n",
       "        text-align: right;\n",
       "    }\n",
       "</style>\n",
       "<table border=\"1\" class=\"dataframe\">\n",
       "  <thead>\n",
       "    <tr style=\"text-align: right;\">\n",
       "      <th></th>\n",
       "      <th>population</th>\n",
       "      <th>country</th>\n",
       "      <th>city</th>\n",
       "      <th>DOI</th>\n",
       "      <th>lat</th>\n",
       "      <th>lon</th>\n",
       "      <th>country code</th>\n",
       "    </tr>\n",
       "  </thead>\n",
       "  <tbody>\n",
       "    <tr>\n",
       "      <th>0</th>\n",
       "      <td>11716620.0</td>\n",
       "      <td>China</td>\n",
       "      <td>Beijing</td>\n",
       "      <td>41398</td>\n",
       "      <td>41398</td>\n",
       "      <td>41398</td>\n",
       "      <td>41398</td>\n",
       "    </tr>\n",
       "    <tr>\n",
       "      <th>1</th>\n",
       "      <td>7153309.0</td>\n",
       "      <td>Iran</td>\n",
       "      <td>Tehran</td>\n",
       "      <td>40101</td>\n",
       "      <td>40101</td>\n",
       "      <td>40101</td>\n",
       "      <td>40101</td>\n",
       "    </tr>\n",
       "  </tbody>\n",
       "</table>\n",
       "</div>"
      ],
      "text/plain": [
       "   population country     city    DOI    lat    lon  country code\n",
       "0  11716620.0   China  Beijing  41398  41398  41398         41398\n",
       "1   7153309.0    Iran   Tehran  40101  40101  40101         40101"
      ]
     },
     "execution_count": 63,
     "metadata": {},
     "output_type": "execute_result"
    }
   ],
   "source": [
    "statistics2017.head(2)"
   ]
  },
  {
   "cell_type": "code",
   "execution_count": 64,
   "metadata": {},
   "outputs": [],
   "source": [
    "statistics2017[\"norm_values\"] = statistics2017.DOI / statistics2017.population"
   ]
  },
  {
   "cell_type": "code",
   "execution_count": 109,
   "metadata": {},
   "outputs": [
    {
     "data": {
      "text/html": [
       "<div>\n",
       "<style scoped>\n",
       "    .dataframe tbody tr th:only-of-type {\n",
       "        vertical-align: middle;\n",
       "    }\n",
       "\n",
       "    .dataframe tbody tr th {\n",
       "        vertical-align: top;\n",
       "    }\n",
       "\n",
       "    .dataframe thead th {\n",
       "        text-align: right;\n",
       "    }\n",
       "</style>\n",
       "<table border=\"1\" class=\"dataframe\">\n",
       "  <thead>\n",
       "    <tr style=\"text-align: right;\">\n",
       "      <th></th>\n",
       "      <th>population</th>\n",
       "      <th>country</th>\n",
       "      <th>city</th>\n",
       "      <th>DOI</th>\n",
       "      <th>lat</th>\n",
       "      <th>lon</th>\n",
       "      <th>country code</th>\n",
       "      <th>norm_values</th>\n",
       "    </tr>\n",
       "  </thead>\n",
       "  <tbody>\n",
       "  </tbody>\n",
       "</table>\n",
       "</div>"
      ],
      "text/plain": [
       "Empty DataFrame\n",
       "Columns: [population, country, city, DOI, lat, lon, country code, norm_values]\n",
       "Index: []"
      ]
     },
     "execution_count": 109,
     "metadata": {},
     "output_type": "execute_result"
    }
   ],
   "source": [
    "statistics2017.loc[statistics2017.country == \"Luxemburg\",:]"
   ]
  },
  {
   "cell_type": "code",
   "execution_count": 86,
   "metadata": {},
   "outputs": [
    {
     "name": "stdout",
     "output_type": "stream",
     "text": [
      "<class 'pandas.core.frame.DataFrame'>\n",
      "Int64Index: 11539 entries, 42 to 8689\n",
      "Data columns (total 8 columns):\n",
      "population      11539 non-null float64\n",
      "country         11539 non-null object\n",
      "city            11539 non-null object\n",
      "DOI             11539 non-null int64\n",
      "lat             11539 non-null int64\n",
      "lon             11539 non-null int64\n",
      "country code    11539 non-null int64\n",
      "norm_values     11539 non-null float64\n",
      "dtypes: float64(2), int64(4), object(2)\n",
      "memory usage: 811.3+ KB\n"
     ]
    }
   ],
   "source": [
    "statistics2017.sort_values(by=\"norm_values\", ascending=False).info()"
   ]
  },
  {
   "cell_type": "code",
   "execution_count": 83,
   "metadata": {},
   "outputs": [],
   "source": [
    "a = statistics2017.sort_values(by=\"norm_values\", ascending=False).head(20)"
   ]
  },
  {
   "cell_type": "code",
   "execution_count": 84,
   "metadata": {},
   "outputs": [
    {
     "data": {
      "text/plain": [
       "<matplotlib.axes._subplots.AxesSubplot at 0x2409a6f4c88>"
      ]
     },
     "execution_count": 84,
     "metadata": {},
     "output_type": "execute_result"
    },
    {
     "data": {
      "image/png": "[encoded data removed]",
      "text/plain": [
       "<matplotlib.figure.Figure at 0x2409db67978>"
      ]
     },
     "metadata": {},
     "output_type": "display_data"
    }
   ],
   "source": [
    "a.plot.bar(x=[\"country\",\"city\"],y=\"norm_values\", fontsize=20, figsize=(20,10))"
   ]
  },
  {
   "cell_type": "code",
   "execution_count": null,
   "metadata": {},
   "outputs": [],
   "source": [
    "plot = a.plot.bar(x=[\"country\",\"city\"],y=\"norm_values\", fontsize=20, figsize=(20,10))\n",
    "plt.title(\"Fig. 7.1 - Top Cities Requesting Articles | Normalized Values for Population\")\n",
    "plt.tight_layout()\n",
    "#plt.savefig(\"./../../charts and figures/Fig. 7.1 - Articles.City.Top25.Norm_Values.pdf\")"
   ]
  },
  {
   "cell_type": "code",
   "execution_count": null,
   "metadata": {},
   "outputs": [],
   "source": []
  }
 ],
 "metadata": {
  "kernelspec": {
   "display_name": "Python 3",
   "language": "python",
   "name": "python3"
  },
  "language_info": {
   "codemirror_mode": {
    "name": "ipython",
    "version": 3
   },
   "file_extension": ".py",
   "mimetype": "text/x-python",
   "name": "python",
   "nbconvert_exporter": "python",
   "pygments_lexer": "ipython3",
   "version": "3.6.4"
  }
 },
 "nbformat": 4,
 "nbformat_minor": 2
}
