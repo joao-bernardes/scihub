{
 "cells": [
  {
   "cell_type": "code",
   "execution_count": 2,
   "metadata": {},
   "outputs": [],
   "source": [
    "import pandas as pd\n",
    "import collections\n",
    "from concurrent.futures import ThreadPoolExecutor\n",
    "import functools"
   ]
  },
  {
   "cell_type": "code",
   "execution_count": 2,
   "metadata": {},
   "outputs": [
    {
     "data": {
      "text/plain": [
       "< Crossref \n",
       "URL: https://api.crossref.org\n",
       "KEY: None\n",
       "MAILTO: musty26069@gmail.com\n",
       ">"
      ]
     },
     "execution_count": 2,
     "metadata": {},
     "output_type": "execute_result"
    }
   ],
   "source": [
    "from habanero import Crossref \n",
    "cr = Crossref ()\n",
    "Crossref(mailto = \"musty26069@gmail.com\")"
   ]
  },
  {
   "cell_type": "code",
   "execution_count": 3,
   "metadata": {},
   "outputs": [],
   "source": [
    "statistics2017 = pd.read_table(\"./../../data/sample/2017.statistics.sample.csv\",usecols=[0,1], header=None)\n",
    "#give columns names\n",
    "statistics2017.columns = [\"date\",\"DOI\"]\n",
    "#Lowercase DOI:\n",
    "statistics2017.DOI = statistics2017[\"DOI\"].str.lower()"
   ]
  },
  {
   "cell_type": "code",
   "execution_count": 4,
   "metadata": {},
   "outputs": [
    {
     "name": "stdout",
     "output_type": "stream",
     "text": [
      "<class 'pandas.core.frame.DataFrame'>\n",
      "RangeIndex: 1645950 entries, 0 to 1645949\n",
      "Data columns (total 2 columns):\n",
      "date    1645950 non-null object\n",
      "DOI     1645950 non-null object\n",
      "dtypes: object(2)\n",
      "memory usage: 25.1+ MB\n"
     ]
    }
   ],
   "source": [
    "statistics2017.info()"
   ]
  },
  {
   "cell_type": "code",
   "execution_count": 42,
   "metadata": {},
   "outputs": [],
   "source": [
    "#Function performing REST API request:\n",
    "@functools.lru_cache(maxsize=1650000)\n",
    "def get_metadata(doi):\n",
    "    \n",
    "    try:\n",
    "        work = cr.works(doi)[\"message\"]   \n",
    "    except:\n",
    "        pass\n",
    "    row = collections.OrderedDict()\n",
    "    row['doi'] = doi\n",
    "    try:\n",
    "        row[\"publisher\"] = work[\"publisher\"]\n",
    "    except:\n",
    "        pass\n",
    "    try:\n",
    "        row['title'] = work['title'][0]\n",
    "    except:\n",
    "        pass\n",
    "    try:\n",
    "        row['journal'] = work['container-title'][0]\n",
    "    except:\n",
    "        pass\n",
    "    try:\n",
    "        row['subject'] = work['subject']\n",
    "    except:\n",
    "        pass\n",
    "    return row"
   ]
  },
  {
   "cell_type": "code",
   "execution_count": 43,
   "metadata": {},
   "outputs": [
    {
     "name": "stdout",
     "output_type": "stream",
     "text": [
      "Wall time: 524 ms\n"
     ]
    },
    {
     "data": {
      "text/plain": [
       "OrderedDict([('doi', '10.1111/j.1467-8691.2005.00332.x'),\n",
       "             ('publisher', 'Wiley'),\n",
       "             ('title', 'Managing People to Promote Innovation'),\n",
       "             ('journal', 'Creativity and Innovation Management')])"
      ]
     },
     "execution_count": 43,
     "metadata": {},
     "output_type": "execute_result"
    }
   ],
   "source": [
    "%%time\n",
    "get_metadata(\"10.1111/j.1467-8691.2005.00332.x\")\n",
    "#Testing the request"
   ]
  },
  {
   "cell_type": "code",
   "execution_count": 80,
   "metadata": {},
   "outputs": [],
   "source": [
    "pool = ThreadPoolExecutor(max_workers=30)"
   ]
  },
  {
   "cell_type": "code",
   "execution_count": 62,
   "metadata": {},
   "outputs": [],
   "source": [
    "#Function triggering get_metadata() and writing outout into new CSV file.\n",
    "def get_doi():\n",
    "    h = statistics2017.DOI\n",
    "    i = (pool.map(get_metadata, h))\n",
    "    j = pd.DataFrame.from_records(i)\n",
    "    j.to_csv(\"./../../data/2017.Statistics.DOI_Publisher.csv\")"
   ]
  },
  {
   "cell_type": "code",
   "execution_count": 63,
   "metadata": {},
   "outputs": [
    {
     "name": "stdout",
     "output_type": "stream",
     "text": [
      "Wall time: 1min 39s\n"
     ]
    }
   ],
   "source": [
    "%%time\n",
    "get_doi()"
   ]
  },
  {
   "cell_type": "markdown",
   "metadata": {},
   "source": [
    "### Import DataFrame"
   ]
  },
  {
   "cell_type": "code",
   "execution_count": 3,
   "metadata": {},
   "outputs": [],
   "source": [
    "pubs = pd.read_csv(\"./../../data/2017.Statistics.DOI_Publisher.csv\")"
   ]
  },
  {
   "cell_type": "code",
   "execution_count": 4,
   "metadata": {},
   "outputs": [
    {
     "data": {
      "text/html": [
       "<div>\n",
       "<style scoped>\n",
       "    .dataframe tbody tr th:only-of-type {\n",
       "        vertical-align: middle;\n",
       "    }\n",
       "\n",
       "    .dataframe tbody tr th {\n",
       "        vertical-align: top;\n",
       "    }\n",
       "\n",
       "    .dataframe thead th {\n",
       "        text-align: right;\n",
       "    }\n",
       "</style>\n",
       "<table border=\"1\" class=\"dataframe\">\n",
       "  <thead>\n",
       "    <tr style=\"text-align: right;\">\n",
       "      <th></th>\n",
       "      <th>Unnamed: 0</th>\n",
       "      <th>doi</th>\n",
       "      <th>publisher</th>\n",
       "      <th>title</th>\n",
       "      <th>journal</th>\n",
       "      <th>subject</th>\n",
       "    </tr>\n",
       "  </thead>\n",
       "  <tbody>\n",
       "    <tr>\n",
       "      <th>0</th>\n",
       "      <td>0</td>\n",
       "      <td>10.1111/j.1467-8691.2005.00332.x</td>\n",
       "      <td>Wiley</td>\n",
       "      <td>Managing People to Promote Innovation</td>\n",
       "      <td>Creativity and Innovation Management</td>\n",
       "      <td>NaN</td>\n",
       "    </tr>\n",
       "    <tr>\n",
       "      <th>1</th>\n",
       "      <td>1</td>\n",
       "      <td>10.1038/nm.3102</td>\n",
       "      <td>Springer Nature</td>\n",
       "      <td>A specific antidote for reversal of anticoagul...</td>\n",
       "      <td>Nature Medicine</td>\n",
       "      <td>NaN</td>\n",
       "    </tr>\n",
       "    <tr>\n",
       "      <th>2</th>\n",
       "      <td>2</td>\n",
       "      <td>10.2337/diacare.21.12.2144</td>\n",
       "      <td>American Diabetes Association</td>\n",
       "      <td>Liver and Kidney Function in Japanese Patients...</td>\n",
       "      <td>Diabetes Care</td>\n",
       "      <td>NaN</td>\n",
       "    </tr>\n",
       "    <tr>\n",
       "      <th>3</th>\n",
       "      <td>3</td>\n",
       "      <td>10.1017/s1833367200001942</td>\n",
       "      <td>Cambridge University Press (CUP)</td>\n",
       "      <td>Corporate social responsibility in sport: Stak...</td>\n",
       "      <td>Journal of Management &amp; Organization</td>\n",
       "      <td>NaN</td>\n",
       "    </tr>\n",
       "    <tr>\n",
       "      <th>4</th>\n",
       "      <td>4</td>\n",
       "      <td>10.1002/nme.1748</td>\n",
       "      <td>Wiley</td>\n",
       "      <td>A simple finite element model for vibration an...</td>\n",
       "      <td>International Journal for Numerical Methods in...</td>\n",
       "      <td>NaN</td>\n",
       "    </tr>\n",
       "  </tbody>\n",
       "</table>\n",
       "</div>"
      ],
      "text/plain": [
       "   Unnamed: 0                               doi  \\\n",
       "0           0  10.1111/j.1467-8691.2005.00332.x   \n",
       "1           1                   10.1038/nm.3102   \n",
       "2           2        10.2337/diacare.21.12.2144   \n",
       "3           3         10.1017/s1833367200001942   \n",
       "4           4                  10.1002/nme.1748   \n",
       "\n",
       "                          publisher  \\\n",
       "0                             Wiley   \n",
       "1                   Springer Nature   \n",
       "2     American Diabetes Association   \n",
       "3  Cambridge University Press (CUP)   \n",
       "4                             Wiley   \n",
       "\n",
       "                                               title  \\\n",
       "0              Managing People to Promote Innovation   \n",
       "1  A specific antidote for reversal of anticoagul...   \n",
       "2  Liver and Kidney Function in Japanese Patients...   \n",
       "3  Corporate social responsibility in sport: Stak...   \n",
       "4  A simple finite element model for vibration an...   \n",
       "\n",
       "                                             journal subject  \n",
       "0               Creativity and Innovation Management     NaN  \n",
       "1                                    Nature Medicine     NaN  \n",
       "2                                      Diabetes Care     NaN  \n",
       "3               Journal of Management & Organization     NaN  \n",
       "4  International Journal for Numerical Methods in...     NaN  "
      ]
     },
     "execution_count": 4,
     "metadata": {},
     "output_type": "execute_result"
    }
   ],
   "source": [
    "pubs.head()"
   ]
  },
  {
   "cell_type": "code",
   "execution_count": null,
   "metadata": {},
   "outputs": [],
   "source": []
  }
 ],
 "metadata": {
  "kernelspec": {
   "display_name": "Python 3",
   "language": "python",
   "name": "python3"
  },
  "language_info": {
   "codemirror_mode": {
    "name": "ipython",
    "version": 3
   },
   "file_extension": ".py",
   "mimetype": "text/x-python",
   "name": "python",
   "nbconvert_exporter": "python",
   "pygments_lexer": "ipython3",
   "version": "3.6.4"
  }
 },
 "nbformat": 4,
 "nbformat_minor": 2
}
