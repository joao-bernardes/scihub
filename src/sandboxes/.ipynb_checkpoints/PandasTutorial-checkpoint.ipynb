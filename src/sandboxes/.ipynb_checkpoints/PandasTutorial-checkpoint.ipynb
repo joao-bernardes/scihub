{
 "cells": [
  {
   "cell_type": "markdown",
   "metadata": {},
   "source": [
    "import pandas as pd\n",
    "import numpy as np\n"
   ]
  },
  {
   "cell_type": "code",
   "execution_count": 69,
   "metadata": {},
   "outputs": [],
   "source": [
    "import pandas as pd\n",
    "import numpy as np\n",
    "\n",
    "#atribuimos 5 valores arbitrários para pd.Series, atribuimos um index e declaramos a variavel 's'\n",
    "s = pd.Series(np.random.randn(20), index=['a', 'b', 'c', 'd', 'e',\n",
    "                                      'aa', 'bb', 'cc', 'dd', 'ee',\n",
    "                                      'aaa', 'bbb', 'ccc', 'ddd', 'eee',\n",
    "                                     'aaaa', 'bbbb', 'cccc', 'dddd', 'eeee'])"
   ]
  },
  {
   "cell_type": "code",
   "execution_count": 70,
   "metadata": {},
   "outputs": [
    {
     "data": {
      "text/plain": [
       "a       0.542774\n",
       "b      -0.053839\n",
       "c       0.824924\n",
       "d      -1.704939\n",
       "e      -0.464920\n",
       "aa      1.028524\n",
       "bb      3.456075\n",
       "cc     -0.270737\n",
       "dd      0.585780\n",
       "ee      0.425502\n",
       "aaa    -0.741298\n",
       "bbb     0.244582\n",
       "ccc     1.103954\n",
       "ddd    -0.380430\n",
       "eee    -0.765089\n",
       "aaaa    0.243290\n",
       "bbbb    1.505587\n",
       "cccc   -0.564377\n",
       "dddd    0.323754\n",
       "eeee   -1.507834\n",
       "dtype: float64"
      ]
     },
     "execution_count": 70,
     "metadata": {},
     "output_type": "execute_result"
    }
   ],
   "source": [
    "s"
   ]
  },
  {
   "cell_type": "code",
   "execution_count": 71,
   "metadata": {},
   "outputs": [
    {
     "data": {
      "text/plain": [
       "Index(['a', 'b', 'c', 'd', 'e', 'aa', 'bb', 'cc', 'dd', 'ee', 'aaa', 'bbb',\n",
       "       'ccc', 'ddd', 'eee', 'aaaa', 'bbbb', 'cccc', 'dddd', 'eeee'],\n",
       "      dtype='object')"
      ]
     },
     "execution_count": 71,
     "metadata": {},
     "output_type": "execute_result"
    }
   ],
   "source": [
    "s.index"
   ]
  },
  {
   "cell_type": "code",
   "execution_count": 72,
   "metadata": {},
   "outputs": [
    {
     "data": {
      "text/plain": [
       "a       1.222009\n",
       "b      -0.507710\n",
       "c      -1.709282\n",
       "d      -1.567656\n",
       "e       2.643392\n",
       "aa      0.570925\n",
       "bb     -1.146357\n",
       "cc     -0.222452\n",
       "dd      1.622510\n",
       "ee     -0.653969\n",
       "aaa    -0.149780\n",
       "bbb    -0.528282\n",
       "ccc    -1.105511\n",
       "ddd    -0.336625\n",
       "eee     0.176747\n",
       "aaaa   -0.908072\n",
       "bbbb    0.506336\n",
       "cccc    1.647107\n",
       "dddd   -1.572239\n",
       "eeee   -0.826094\n",
       "dtype: float64"
      ]
     },
     "execution_count": 72,
     "metadata": {},
     "output_type": "execute_result"
    }
   ],
   "source": [
    "pd.Series(np.random.randn(20), index=['a', 'b', 'c', 'd', 'e',\n",
    "                                      'aa', 'bb', 'cc', 'dd', 'ee',\n",
    "                                      'aaa', 'bbb', 'ccc', 'ddd', 'eee',\n",
    "                                     'aaaa', 'bbbb', 'cccc', 'dddd', 'eeee'])"
   ]
  },
  {
   "cell_type": "code",
   "execution_count": null,
   "metadata": {},
   "outputs": [],
   "source": []
  },
  {
   "cell_type": "code",
   "execution_count": 73,
   "metadata": {},
   "outputs": [
    {
     "data": {
      "text/plain": [
       "Index(['a', 'b', 'c', 'd', 'e', 'aa', 'bb', 'cc', 'dd', 'ee', 'aaa', 'bbb',\n",
       "       'ccc', 'ddd', 'eee', 'aaaa', 'bbbb', 'cccc', 'dddd', 'eeee'],\n",
       "      dtype='object')"
      ]
     },
     "execution_count": 73,
     "metadata": {},
     "output_type": "execute_result"
    }
   ],
   "source": [
    "s.index"
   ]
  },
  {
   "cell_type": "code",
   "execution_count": 74,
   "metadata": {},
   "outputs": [],
   "source": [
    "d = {'a' : 0., 'b' : 1., 'c' : 2.}"
   ]
  },
  {
   "cell_type": "code",
   "execution_count": 75,
   "metadata": {},
   "outputs": [
    {
     "data": {
      "text/plain": [
       "a    0.0\n",
       "b    1.0\n",
       "c    2.0\n",
       "dtype: float64"
      ]
     },
     "execution_count": 75,
     "metadata": {},
     "output_type": "execute_result"
    }
   ],
   "source": [
    "pd.Series(d)"
   ]
  },
  {
   "cell_type": "code",
   "execution_count": 76,
   "metadata": {},
   "outputs": [
    {
     "data": {
      "text/plain": [
       "a    5.0\n",
       "b    5.0\n",
       "c    5.0\n",
       "d    5.0\n",
       "e    5.0\n",
       "dtype: float64"
      ]
     },
     "execution_count": 76,
     "metadata": {},
     "output_type": "execute_result"
    }
   ],
   "source": [
    "pd.Series(5., index=['a', 'b', 'c', 'd', 'e'])"
   ]
  },
  {
   "cell_type": "code",
   "execution_count": 77,
   "metadata": {},
   "outputs": [
    {
     "data": {
      "text/plain": [
       "b    1.0\n",
       "c    2.0\n",
       "d    NaN\n",
       "a    0.0\n",
       "dtype: float64"
      ]
     },
     "execution_count": 77,
     "metadata": {},
     "output_type": "execute_result"
    }
   ],
   "source": [
    " pd.Series(d, index=['b', 'c', 'd', 'a'])"
   ]
  },
  {
   "cell_type": "code",
   "execution_count": 78,
   "metadata": {},
   "outputs": [
    {
     "data": {
      "text/plain": [
       "a    5.0\n",
       "b    5.0\n",
       "c    5.0\n",
       "d    5.0\n",
       "e    5.0\n",
       "dtype: float64"
      ]
     },
     "execution_count": 78,
     "metadata": {},
     "output_type": "execute_result"
    }
   ],
   "source": [
    " pd.Series(5., index=['a', 'b', 'c', 'd', 'e'])"
   ]
  },
  {
   "cell_type": "code",
   "execution_count": 79,
   "metadata": {},
   "outputs": [
    {
     "data": {
      "text/plain": [
       "-0.053839203982482715"
      ]
     },
     "execution_count": 79,
     "metadata": {},
     "output_type": "execute_result"
    }
   ],
   "source": [
    "s[1]"
   ]
  },
  {
   "cell_type": "code",
   "execution_count": 80,
   "metadata": {},
   "outputs": [
    {
     "data": {
      "text/plain": [
       "a     0.542774\n",
       "b    -0.053839\n",
       "c     0.824924\n",
       "d    -1.704939\n",
       "e    -0.464920\n",
       "aa    1.028524\n",
       "bb    3.456075\n",
       "cc   -0.270737\n",
       "dd    0.585780\n",
       "ee    0.425502\n",
       "dtype: float64"
      ]
     },
     "execution_count": 80,
     "metadata": {},
     "output_type": "execute_result"
    }
   ],
   "source": [
    "s[:10]"
   ]
  },
  {
   "cell_type": "code",
   "execution_count": 81,
   "metadata": {},
   "outputs": [
    {
     "data": {
      "text/plain": [
       "a       0.542774\n",
       "c       0.824924\n",
       "aa      1.028524\n",
       "bb      3.456075\n",
       "dd      0.585780\n",
       "ee      0.425502\n",
       "bbb     0.244582\n",
       "ccc     1.103954\n",
       "bbbb    1.505587\n",
       "dddd    0.323754\n",
       "dtype: float64"
      ]
     },
     "execution_count": 81,
     "metadata": {},
     "output_type": "execute_result"
    }
   ],
   "source": [
    "s[s > s.median()]"
   ]
  },
  {
   "cell_type": "code",
   "execution_count": 82,
   "metadata": {},
   "outputs": [
    {
     "data": {
      "text/plain": [
       "count    20.000000\n",
       "mean      0.191564\n",
       "std       1.136659\n",
       "min      -1.704939\n",
       "25%      -0.489784\n",
       "50%       0.243936\n",
       "75%       0.645566\n",
       "max       3.456075\n",
       "dtype: float64"
      ]
     },
     "execution_count": 82,
     "metadata": {},
     "output_type": "execute_result"
    }
   ],
   "source": [
    "s.describe()"
   ]
  },
  {
   "cell_type": "code",
   "execution_count": 83,
   "metadata": {},
   "outputs": [
    {
     "data": {
      "text/plain": [
       "-0.053839203982482715"
      ]
     },
     "execution_count": 83,
     "metadata": {},
     "output_type": "execute_result"
    }
   ],
   "source": [
    "s[\"b\"]"
   ]
  },
  {
   "cell_type": "code",
   "execution_count": 84,
   "metadata": {},
   "outputs": [
    {
     "data": {
      "text/plain": [
       "e   -0.464920\n",
       "d   -1.704939\n",
       "b   -0.053839\n",
       "dtype: float64"
      ]
     },
     "execution_count": 84,
     "metadata": {},
     "output_type": "execute_result"
    }
   ],
   "source": [
    " s[[4, 3, 1]]"
   ]
  },
  {
   "cell_type": "code",
   "execution_count": 85,
   "metadata": {},
   "outputs": [
    {
     "data": {
      "text/plain": [
       "a        1.720774\n",
       "b        0.947584\n",
       "c        2.281708\n",
       "d        0.181783\n",
       "e        0.628186\n",
       "aa       2.796934\n",
       "bb      31.692337\n",
       "cc       0.762817\n",
       "dd       1.796392\n",
       "ee       1.530359\n",
       "aaa      0.476495\n",
       "bbb      1.277088\n",
       "ccc      3.016068\n",
       "ddd      0.683567\n",
       "eee      0.465293\n",
       "aaaa     1.275439\n",
       "bbbb     4.506799\n",
       "cccc     0.568714\n",
       "dddd     1.382308\n",
       "eeee     0.221389\n",
       "dtype: float64"
      ]
     },
     "execution_count": 85,
     "metadata": {},
     "output_type": "execute_result"
    }
   ],
   "source": [
    " np.exp(s)"
   ]
  },
  {
   "cell_type": "code",
   "execution_count": 86,
   "metadata": {},
   "outputs": [
    {
     "data": {
      "text/plain": [
       "count    20.000000\n",
       "mean      0.191564\n",
       "std       1.136659\n",
       "min      -1.704939\n",
       "25%      -0.489784\n",
       "50%       0.243936\n",
       "75%       0.645566\n",
       "max       3.456075\n",
       "dtype: float64"
      ]
     },
     "execution_count": 86,
     "metadata": {},
     "output_type": "execute_result"
    }
   ],
   "source": [
    "s.describe()"
   ]
  },
  {
   "cell_type": "code",
   "execution_count": 3,
   "metadata": {},
   "outputs": [],
   "source": [
    "import webbrowser\n",
    "import time"
   ]
  },
  {
   "cell_type": "code",
   "execution_count": null,
   "metadata": {},
   "outputs": [],
   "source": [
    "time.sleep(10)\n",
    "webbrowser.opn(\"https://www.youtube.com/watch?v=1Cs0qyG78qY\")"
   ]
  },
  {
   "cell_type": "code",
   "execution_count": null,
   "metadata": {},
   "outputs": [],
   "source": []
  }
 ],
 "metadata": {
  "kernelspec": {
   "display_name": "Python 3",
   "language": "python",
   "name": "python3"
  },
  "language_info": {
   "codemirror_mode": {
    "name": "ipython",
    "version": 3
   },
   "file_extension": ".py",
   "mimetype": "text/x-python",
   "name": "python",
   "nbconvert_exporter": "python",
   "pygments_lexer": "ipython3",
   "version": "3.6.4"
  }
 },
 "nbformat": 4,
 "nbformat_minor": 2
}
