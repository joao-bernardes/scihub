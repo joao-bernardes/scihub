{
 "cells": [
  {
   "cell_type": "code",
   "execution_count": 6,
   "metadata": {},
   "outputs": [],
   "source": [
    "import pandas as pd\n",
    "import glob\n",
    "import os"
   ]
  },
  {
   "cell_type": "code",
   "execution_count": 8,
   "metadata": {},
   "outputs": [
    {
     "name": "stdout",
     "output_type": "stream",
     "text": [
      "['data/OA_status\\\\OA_status00', 'data/OA_status\\\\OA_status01', 'data/OA_status\\\\OA_status02', 'data/OA_status\\\\OA_status03', 'data/OA_status\\\\OA_status04', 'data/OA_status\\\\OA_status05', 'data/OA_status\\\\OA_status06', 'data/OA_status\\\\OA_status07', 'data/OA_status\\\\OA_status08', 'data/OA_status\\\\OA_status09', 'data/OA_status\\\\OA_status10', 'data/OA_status\\\\OA_status11', 'data/OA_status\\\\OA_status12', 'data/OA_status\\\\OA_status13', 'data/OA_status\\\\OA_status14', 'data/OA_status\\\\OA_status15', 'data/OA_status\\\\OA_status16', 'data/OA_status\\\\OA_status17', 'data/OA_status\\\\OA_status18', 'data/OA_status\\\\OA_status19']\n"
     ]
    }
   ],
   "source": [
    "\n",
    "print(glob.glob(\"data/OA_status/OA_status*\"))"
   ]
  },
  {
   "cell_type": "code",
   "execution_count": 17,
   "metadata": {},
   "outputs": [
    {
     "name": "stdout",
     "output_type": "stream",
     "text": [
      "data/OA_status\\OA_status00\n",
      "data/OA_status\\OA_status01\n",
      "data/OA_status\\OA_status02\n",
      "data/OA_status\\OA_status03\n",
      "data/OA_status\\OA_status04\n",
      "data/OA_status\\OA_status05\n",
      "data/OA_status\\OA_status06\n",
      "data/OA_status\\OA_status07\n",
      "data/OA_status\\OA_status08\n",
      "data/OA_status\\OA_status09\n",
      "data/OA_status\\OA_status10\n",
      "data/OA_status\\OA_status11\n",
      "data/OA_status\\OA_status12\n",
      "data/OA_status\\OA_status13\n",
      "data/OA_status\\OA_status14\n",
      "data/OA_status\\OA_status15\n",
      "data/OA_status\\OA_status16\n",
      "data/OA_status\\OA_status17\n",
      "data/OA_status\\OA_status18\n",
      "data/OA_status\\OA_status19\n"
     ]
    }
   ],
   "source": [
    "for file in (glob.glob(\"data/OA_status/OA_status*\")):\n",
    "    pd.read_csv('data/OA_status/file', header=None)"
   ]
  },
  {
   "cell_type": "code",
   "execution_count": 7,
   "metadata": {},
   "outputs": [
    {
     "name": "stderr",
     "output_type": "stream",
     "text": [
      "C:\\anaconda\\lib\\site-packages\\IPython\\core\\interactiveshell.py:2728: DtypeWarning: Columns (2) have mixed types. Specify dtype option on import or set low_memory=False.\n",
      "  interactivity=interactivity, compiler=compiler, result=result)\n"
     ]
    },
    {
     "ename": "TypeError",
     "evalue": "string indices must be integers",
     "output_type": "error",
     "traceback": [
      "\u001b[1;31m---------------------------------------------------------------------------\u001b[0m",
      "\u001b[1;31mTypeError\u001b[0m                                 Traceback (most recent call last)",
      "\u001b[1;32m<ipython-input-7-7aff2a91eaa6>\u001b[0m in \u001b[0;36m<module>\u001b[1;34m()\u001b[0m\n\u001b[0;32m      2\u001b[0m \u001b[1;32mfor\u001b[0m \u001b[0mraw_filename\u001b[0m \u001b[1;32min\u001b[0m \u001b[0mglob\u001b[0m\u001b[1;33m.\u001b[0m\u001b[0mglob\u001b[0m\u001b[1;33m(\u001b[0m\u001b[1;34m'data/OA_status/OA_status*'\u001b[0m\u001b[1;33m)\u001b[0m\u001b[1;33m:\u001b[0m\u001b[1;33m\u001b[0m\u001b[0m\n\u001b[0;32m      3\u001b[0m     \u001b[0mpd\u001b[0m\u001b[1;33m.\u001b[0m\u001b[0mread_csv\u001b[0m\u001b[1;33m(\u001b[0m\u001b[0mraw_filename\u001b[0m\u001b[1;33m,\u001b[0m \u001b[0mheader\u001b[0m\u001b[1;33m=\u001b[0m\u001b[1;32mNone\u001b[0m\u001b[1;33m)\u001b[0m\u001b[1;33m\u001b[0m\u001b[0m\n\u001b[1;32m----> 4\u001b[1;33m     \u001b[0mfilename\u001b[0m \u001b[1;33m=\u001b[0m \u001b[0mraw_filename\u001b[0m\u001b[1;33m[\u001b[0m\u001b[1;33m[\u001b[0m\u001b[1;36m0\u001b[0m\u001b[1;33m,\u001b[0m\u001b[1;36m1\u001b[0m\u001b[1;33m]\u001b[0m\u001b[1;33m]\u001b[0m\u001b[1;33m\u001b[0m\u001b[0m\n\u001b[0m\u001b[0;32m      5\u001b[0m     \u001b[0mfilename\u001b[0m\u001b[1;33m.\u001b[0m\u001b[0mcolumns\u001b[0m \u001b[1;33m=\u001b[0m \u001b[1;33m[\u001b[0m\u001b[1;34m'doi'\u001b[0m\u001b[1;33m,\u001b[0m \u001b[1;34m'is_oa'\u001b[0m\u001b[1;33m]\u001b[0m\u001b[1;33m\u001b[0m\u001b[0m\n\u001b[0;32m      6\u001b[0m         \u001b[1;31m#change values \"f\" and \"t\" to 0 and 1.\u001b[0m\u001b[1;33m\u001b[0m\u001b[1;33m\u001b[0m\u001b[0m\n",
      "\u001b[1;31mTypeError\u001b[0m: string indices must be integers"
     ]
    }
   ],
   "source": [
    "import glob\n",
    "for raw_filename in glob.glob('data/OA_status/OA_status*'):\n",
    "    pd.read_csv(raw_filename, header=None)\n",
    "    filename = raw_filename[[0,1]]\n",
    "    filename.columns = ['doi', 'is_oa']\n",
    "        #change values \"f\" and \"t\" to 0 and 1.\n",
    "    filename.loc[:,('is_oa')].replace(\"f\", 0,inplace=True)\n",
    "    filename.loc[:,('is_oa')].replace(\"t\", 1,inplace=True)\n",
    "    #change datatype to boolean\n",
    "    filename.loc[:,('is_oa')] = filename.is_oa.astype('bool')"
   ]
  },
  {
   "cell_type": "code",
   "execution_count": null,
   "metadata": {},
   "outputs": [],
   "source": [
    "def open_file(filename)"
   ]
  }
 ],
 "metadata": {
  "kernelspec": {
   "display_name": "Python 3",
   "language": "python",
   "name": "python3"
  },
  "language_info": {
   "codemirror_mode": {
    "name": "ipython",
    "version": 3
   },
   "file_extension": ".py",
   "mimetype": "text/x-python",
   "name": "python",
   "nbconvert_exporter": "python",
   "pygments_lexer": "ipython3",
   "version": "3.6.4"
  }
 },
 "nbformat": 4,
 "nbformat_minor": 2
}
