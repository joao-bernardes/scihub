{
 "cells": [
  {
   "cell_type": "markdown",
   "metadata": {},
   "source": [
    "# Split File (oa_status_by_doi)"
   ]
  },
  {
   "cell_type": "code",
   "execution_count": 1,
   "metadata": {},
   "outputs": [],
   "source": [
    "import pandas as pd\n",
    "import gzip"
   ]
  },
  {
   "cell_type": "code",
   "execution_count": 2,
   "metadata": {},
   "outputs": [
    {
     "data": {
      "text/plain": [
       "93722980"
      ]
     },
     "execution_count": 2,
     "metadata": {},
     "output_type": "execute_result"
    }
   ],
   "source": [
    "#First let's check how many lines the file has:\n",
    "def file_len(filename):\n",
    "    with gzip.open(filename, \"rt\", encoding=\"utf8\") as f:\n",
    "        for i, l in enumerate(f):\n",
    "            pass\n",
    "    return i + 1\n",
    "file_len(\"./../data/full/oa_status_by_doi.csv.gz\")"
   ]
  },
  {
   "cell_type": "code",
   "execution_count": 3,
   "metadata": {},
   "outputs": [],
   "source": [
    "#Make directory OA_status_raw if it does not exist already\n",
    "% mkdir -p ./../data/full/OA_status_raw"
   ]
  },
  {
   "cell_type": "code",
   "execution_count": 4,
   "metadata": {},
   "outputs": [],
   "source": [
    "#Next, let's split up the big file in order for an ordinary (or binary) laptop to be able to process it:\n",
    "def split_file(in_path, base_out_path):\n",
    "    N=3124100\n",
    "    with gzip.open(in_path, \"rt\",encoding=\"UTF8\") as fin:\n",
    "        fout = open(base_out_path + \"oa_status00\",\"w\", encoding=\"UTF8\")\n",
    "        for i,line in enumerate(fin):\n",
    "            fout.write(line)\n",
    "            if (i+1)%N == 0:\n",
    "                fout.close()\n",
    "                fout = open(base_out_path + \"oa_status%02d\"%(i/N+1),\"w\", encoding=\"UTF8\")\n",
    "   \n",
    "    "
   ]
  },
  {
   "cell_type": "code",
   "execution_count": 5,
   "metadata": {},
   "outputs": [],
   "source": [
    "split_file(\"./../data/full/oa_status_by_doi.csv.gz\", \"./../data/full/OA_status_raw/\")"
   ]
  },
  {
   "cell_type": "markdown",
   "metadata": {},
   "source": [
    "# OA_status clean"
   ]
  },
  {
   "cell_type": "code",
   "execution_count": 6,
   "metadata": {},
   "outputs": [],
   "source": [
    "OA_list = [\"oa_status00\",\"oa_status01\",\"oa_status02\",\"oa_status03\",\"oa_status04\",\"oa_status05\",\"oa_status06\",\"oa_status07\",\"oa_status08\",\"oa_status09\",\"oa_status10\",\"oa_status11\",\"oa_status12\",\"oa_status13\",\"oa_status14\",\"oa_status15\",\"oa_status16\",\"oa_status17\",\"oa_status18\",\"oa_status19\",\"oa_status20\",\"oa_status21\",\"oa_status22\",\"oa_status23\",\"oa_status24\",\"oa_status25\",\"oa_status26\",\"oa_status27\",\"oa_status28\",\"oa_status29\"]"
   ]
  },
  {
   "cell_type": "code",
   "execution_count": 7,
   "metadata": {},
   "outputs": [],
   "source": [
    "#Make directory OA_status_raw if it does not exist already\n",
    "% mkdir -p ./../data/full/OA_status/"
   ]
  },
  {
   "cell_type": "code",
   "execution_count": 8,
   "metadata": {},
   "outputs": [],
   "source": [
    "#Next let's get rid of all the extra columns we wish to ignore\n",
    "def read_doi_oa(in_path):\n",
    "    #import from (path + list), 'doi' and 'is_oa' columns.\n",
    "    with open(in_path, encoding=\"Utf-8\") as f:\n",
    "        data = pd.read_csv(f, usecols=[0,1], index_col=0, header=0)\n",
    "        #After column rename, replace same column with boolean values.\n",
    "        data = data.replace({1:{\"f\":False,\"t\":True}})\n",
    "        \n",
    "        return data\n",
    "\n",
    "def apply_func(file_list, func,base_out_path,base_in_path):\n",
    "    for file in file_list:\n",
    "        in_path = base_in_path + file\n",
    "        out_path = base_out_path + file\n",
    "        \n",
    "        data = func(in_path)\n",
    "        \n",
    "        #Export to new directory, full, clean, dataframe.\n",
    "        data.to_csv(out_path)"
   ]
  },
  {
   "cell_type": "code",
   "execution_count": 9,
   "metadata": {},
   "outputs": [],
   "source": [
    "apply_func(OA_list, read_doi_oa, \"./../data/full/OA_status/\", \"./../data/full/OA_status_raw/\")"
   ]
  },
  {
   "cell_type": "code",
   "execution_count": 10,
   "metadata": {},
   "outputs": [],
   "source": [
    "#Delete the OA_status_raw file and free  up 24GB\n",
    "%rm -r ./../data/full/OA_status_raw/"
   ]
  },
  {
   "cell_type": "markdown",
   "metadata": {},
   "source": [
    "# Give Header (OA_list)"
   ]
  },
  {
   "cell_type": "code",
   "execution_count": 11,
   "metadata": {},
   "outputs": [],
   "source": [
    "#Note that oa_status00 is not included\n",
    "OA_list = [\"oa_status01\",\"oa_status02\",\"oa_status03\",\"oa_status04\",\"oa_status05\",\"oa_status06\",\"oa_status07\",\"oa_status08\",\"oa_status09\",\"oa_status10\",\"oa_status11\",\"oa_status12\",\"oa_status13\",\"oa_status14\",\"oa_status15\",\"oa_status16\",\"oa_status17\",\"oa_status18\",\"oa_status19\",\"oa_status20\",\"oa_status21\",\"oa_status22\",\"oa_status23\",\"oa_status24\",\"oa_status25\",\"oa_status26\",\"oa_status27\",\"oa_status28\",\"oa_status29\"]"
   ]
  },
  {
   "cell_type": "code",
   "execution_count": 12,
   "metadata": {},
   "outputs": [],
   "source": [
    "#Last, let's give all files a header\n",
    "with open(\"./../data/full/OA_status/oa_status00\", encoding=\"UTF8\") as f:\n",
    "    HEADER = f.readline()\n",
    "    \n",
    "def read_file(path):\n",
    "    with open(path, \"rt\", encoding=\"utf8\") as fin:\n",
    "        read_content = fin.read()\n",
    "        return read_content\n",
    "        \n",
    "        \n",
    "def write_file(path, string):\n",
    "    read_content = read_file(path)\n",
    "    with open(path, \"w\") as fout:\n",
    "        fout.write(string)\n",
    "        fout.write(read_content)\n",
    "            \n",
    "def apply_list( base_path, flist, string):\n",
    "    for file in flist:\n",
    "        path = base_path + file\n",
    "        read_file(path)\n",
    "        write_file(path, string)"
   ]
  },
  {
   "cell_type": "code",
   "execution_count": 13,
   "metadata": {},
   "outputs": [],
   "source": [
    "#Full index:\n",
    "apply_list(\"./../data/full/OA_status/\", OA_list, HEADER)"
   ]
  }
 ],
 "metadata": {
  "kernelspec": {
   "display_name": "Python 3",
   "language": "python",
   "name": "python3"
  },
  "language_info": {
   "codemirror_mode": {
    "name": "ipython",
    "version": 3
   },
   "file_extension": ".py",
   "mimetype": "text/x-python",
   "name": "python",
   "nbconvert_exporter": "python",
   "pygments_lexer": "ipython3",
   "version": "3.6.5"
  }
 },
 "nbformat": 4,
 "nbformat_minor": 2
}
