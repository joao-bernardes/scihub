{
 "cells": [
  {
   "cell_type": "code",
   "execution_count": 3,
   "metadata": {},
   "outputs": [],
   "source": [
    "import pandas as pd\n",
    "import collections\n",
    "import threading"
   ]
  },
  {
   "cell_type": "code",
   "execution_count": 4,
   "metadata": {},
   "outputs": [],
   "source": [
    "from habanero import Crossref \n",
    "cr = Crossref ()"
   ]
  },
  {
   "cell_type": "code",
   "execution_count": 5,
   "metadata": {},
   "outputs": [],
   "source": [
    "statistics2017 = pd.read_table(\"./../../data/sample/statistics2017_sample\", header=None)\n",
    "#give columns names\n",
    "statistics2017.columns = [\"date\", \"DOI\", \"IPID\", \"userID\", \"country\", \"city\", \"lat\", \"lon\"]"
   ]
  },
  {
   "cell_type": "code",
   "execution_count": 6,
   "metadata": {},
   "outputs": [],
   "source": [
    "#remove parenthsis and special characters\n",
    "statistics2017[\"country\"] = statistics2017[\"country\"].str.replace(r\" *\\(.*\\)\", \"\")"
   ]
  },
  {
   "cell_type": "code",
   "execution_count": 18,
   "metadata": {},
   "outputs": [
    {
     "data": {
      "text/html": [
       "<div>\n",
       "<style scoped>\n",
       "    .dataframe tbody tr th:only-of-type {\n",
       "        vertical-align: middle;\n",
       "    }\n",
       "\n",
       "    .dataframe tbody tr th {\n",
       "        vertical-align: top;\n",
       "    }\n",
       "\n",
       "    .dataframe thead th {\n",
       "        text-align: right;\n",
       "    }\n",
       "</style>\n",
       "<table border=\"1\" class=\"dataframe\">\n",
       "  <thead>\n",
       "    <tr style=\"text-align: right;\">\n",
       "      <th></th>\n",
       "      <th>date</th>\n",
       "      <th>DOI</th>\n",
       "      <th>IPID</th>\n",
       "      <th>userID</th>\n",
       "      <th>country</th>\n",
       "      <th>city</th>\n",
       "      <th>lat</th>\n",
       "      <th>lon</th>\n",
       "    </tr>\n",
       "  </thead>\n",
       "  <tbody>\n",
       "    <tr>\n",
       "      <th>0</th>\n",
       "      <td>2017-03-06 09:00:15</td>\n",
       "      <td>10.1016/S2212-5671(15)00804-7</td>\n",
       "      <td>3492310</td>\n",
       "      <td>5080056</td>\n",
       "      <td>Indonesia</td>\n",
       "      <td>NaN</td>\n",
       "      <td>-6.903485</td>\n",
       "      <td>107.617093</td>\n",
       "    </tr>\n",
       "    <tr>\n",
       "      <th>1</th>\n",
       "      <td>2017-01-30 02:10:54</td>\n",
       "      <td>10.1016/0014-4835(92)90190-4</td>\n",
       "      <td>1635190</td>\n",
       "      <td>2417619</td>\n",
       "      <td>United Kingdom</td>\n",
       "      <td>Kettering</td>\n",
       "      <td>52.396322</td>\n",
       "      <td>-0.730249</td>\n",
       "    </tr>\n",
       "    <tr>\n",
       "      <th>2</th>\n",
       "      <td>2017-01-05 19:06:37</td>\n",
       "      <td>10.1016/b978-0-12-394813-7.00002-x</td>\n",
       "      <td>342740</td>\n",
       "      <td>2317</td>\n",
       "      <td>Indonesia</td>\n",
       "      <td>NaN</td>\n",
       "      <td>-6.178905</td>\n",
       "      <td>106.826687</td>\n",
       "    </tr>\n",
       "    <tr>\n",
       "      <th>3</th>\n",
       "      <td>2017-01-16 20:01:49</td>\n",
       "      <td>10.1089/tmj.2015.0135</td>\n",
       "      <td>580956</td>\n",
       "      <td>881730</td>\n",
       "      <td>Brazil</td>\n",
       "      <td>Rio de Janeiro</td>\n",
       "      <td>-22.906847</td>\n",
       "      <td>-43.172897</td>\n",
       "    </tr>\n",
       "    <tr>\n",
       "      <th>4</th>\n",
       "      <td>2017-01-04 15:09:12</td>\n",
       "      <td>10.1007/BF00821580</td>\n",
       "      <td>255424</td>\n",
       "      <td>389403</td>\n",
       "      <td>Ukraine</td>\n",
       "      <td>L'viv</td>\n",
       "      <td>49.839683</td>\n",
       "      <td>24.029717</td>\n",
       "    </tr>\n",
       "  </tbody>\n",
       "</table>\n",
       "</div>"
      ],
      "text/plain": [
       "                  date                                 DOI     IPID   userID  \\\n",
       "0  2017-03-06 09:00:15       10.1016/S2212-5671(15)00804-7  3492310  5080056   \n",
       "1  2017-01-30 02:10:54        10.1016/0014-4835(92)90190-4  1635190  2417619   \n",
       "2  2017-01-05 19:06:37  10.1016/b978-0-12-394813-7.00002-x   342740     2317   \n",
       "3  2017-01-16 20:01:49               10.1089/tmj.2015.0135   580956   881730   \n",
       "4  2017-01-04 15:09:12                  10.1007/BF00821580   255424   389403   \n",
       "\n",
       "          country            city        lat         lon  \n",
       "0       Indonesia             NaN  -6.903485  107.617093  \n",
       "1  United Kingdom       Kettering  52.396322   -0.730249  \n",
       "2       Indonesia             NaN  -6.178905  106.826687  \n",
       "3          Brazil  Rio de Janeiro -22.906847  -43.172897  \n",
       "4         Ukraine           L'viv  49.839683   24.029717  "
      ]
     },
     "execution_count": 18,
     "metadata": {},
     "output_type": "execute_result"
    }
   ],
   "source": [
    "statistics2017.head()"
   ]
  },
  {
   "cell_type": "code",
   "execution_count": 14,
   "metadata": {},
   "outputs": [],
   "source": [
    "def get_metadata(doi):\n",
    "    try:\n",
    "        work = cr.works(doi)[\"message\"]   \n",
    "    except:\n",
    "        pass\n",
    "    row = collections.OrderedDict()\n",
    "    row['doi'] = doi\n",
    "\n",
    "    try:\n",
    "        row[\"publisher\"] = work[\"publisher\"]\n",
    "    except:\n",
    "        pass\n",
    "\n",
    "    return row"
   ]
  },
  {
   "cell_type": "code",
   "execution_count": 15,
   "metadata": {},
   "outputs": [
    {
     "data": {
      "text/plain": [
       "OrderedDict([('doi', '10.1183/09031936.06.00011806'),\n",
       "             ('publisher', 'European Respiratory Society (ERS)')])"
      ]
     },
     "execution_count": 15,
     "metadata": {},
     "output_type": "execute_result"
    }
   ],
   "source": [
    "get_metadata(\"10.1183/09031936.06.00011806\")"
   ]
  },
  {
   "cell_type": "code",
   "execution_count": 16,
   "metadata": {},
   "outputs": [
    {
     "name": "stdout",
     "output_type": "stream",
     "text": [
      "Wall time: 2.28 s\n"
     ]
    }
   ],
   "source": [
    "%%time\n",
    "h = statistics2017.DOI.head()\n",
    "h.map(lambda x: get_metadata(x))"
   ]
  },
  {
   "cell_type": "code",
   "execution_count": 17,
   "metadata": {},
   "outputs": [
    {
     "data": {
      "text/plain": [
       "0         10.1016/S2212-5671(15)00804-7\n",
       "1          10.1016/0014-4835(92)90190-4\n",
       "2    10.1016/b978-0-12-394813-7.00002-x\n",
       "3                 10.1089/tmj.2015.0135\n",
       "4                    10.1007/BF00821580\n",
       "Name: DOI, dtype: object"
      ]
     },
     "execution_count": 17,
     "metadata": {},
     "output_type": "execute_result"
    }
   ],
   "source": [
    "h"
   ]
  },
  {
   "cell_type": "code",
   "execution_count": 8,
   "metadata": {},
   "outputs": [
    {
     "name": "stdout",
     "output_type": "stream",
     "text": [
      "Wall time: 0 ns\n"
     ]
    }
   ],
   "source": [
    "\n",
    "def get_doi():\n",
    "    rows = filter(None, (get_metadata(doi) for doi in statistics2017[\"DOI\"].head()))\n",
    "    metadata_df = pd.DataFrame.from_records(rows)\n",
    "    return metadata_df\n"
   ]
  },
  {
   "cell_type": "code",
   "execution_count": 10,
   "metadata": {},
   "outputs": [
    {
     "name": "stdout",
     "output_type": "stream",
     "text": [
      "Wall time: 3.83 s\n"
     ]
    },
    {
     "data": {
      "text/html": [
       "<div>\n",
       "<style scoped>\n",
       "    .dataframe tbody tr th:only-of-type {\n",
       "        vertical-align: middle;\n",
       "    }\n",
       "\n",
       "    .dataframe tbody tr th {\n",
       "        vertical-align: top;\n",
       "    }\n",
       "\n",
       "    .dataframe thead th {\n",
       "        text-align: right;\n",
       "    }\n",
       "</style>\n",
       "<table border=\"1\" class=\"dataframe\">\n",
       "  <thead>\n",
       "    <tr style=\"text-align: right;\">\n",
       "      <th></th>\n",
       "      <th>doi</th>\n",
       "      <th>publisher</th>\n",
       "    </tr>\n",
       "  </thead>\n",
       "  <tbody>\n",
       "    <tr>\n",
       "      <th>0</th>\n",
       "      <td>10.1016/S2212-5671(15)00804-7</td>\n",
       "      <td>Elsevier BV</td>\n",
       "    </tr>\n",
       "    <tr>\n",
       "      <th>1</th>\n",
       "      <td>10.1016/0014-4835(92)90190-4</td>\n",
       "      <td>Elsevier BV</td>\n",
       "    </tr>\n",
       "    <tr>\n",
       "      <th>2</th>\n",
       "      <td>10.1016/b978-0-12-394813-7.00002-x</td>\n",
       "      <td>Elsevier</td>\n",
       "    </tr>\n",
       "    <tr>\n",
       "      <th>3</th>\n",
       "      <td>10.1089/tmj.2015.0135</td>\n",
       "      <td>Mary Ann Liebert Inc</td>\n",
       "    </tr>\n",
       "    <tr>\n",
       "      <th>4</th>\n",
       "      <td>10.1007/BF00821580</td>\n",
       "      <td>Springer Nature</td>\n",
       "    </tr>\n",
       "  </tbody>\n",
       "</table>\n",
       "</div>"
      ],
      "text/plain": [
       "                                  doi             publisher\n",
       "0       10.1016/S2212-5671(15)00804-7           Elsevier BV\n",
       "1        10.1016/0014-4835(92)90190-4           Elsevier BV\n",
       "2  10.1016/b978-0-12-394813-7.00002-x              Elsevier\n",
       "3               10.1089/tmj.2015.0135  Mary Ann Liebert Inc\n",
       "4                  10.1007/BF00821580       Springer Nature"
      ]
     },
     "execution_count": 10,
     "metadata": {},
     "output_type": "execute_result"
    }
   ],
   "source": [
    "%%time\n",
    "get_doi()"
   ]
  },
  {
   "cell_type": "code",
   "execution_count": null,
   "metadata": {},
   "outputs": [],
   "source": []
  }
 ],
 "metadata": {
  "kernelspec": {
   "display_name": "Python 3",
   "language": "python",
   "name": "python3"
  },
  "language_info": {
   "codemirror_mode": {
    "name": "ipython",
    "version": 3
   },
   "file_extension": ".py",
   "mimetype": "text/x-python",
   "name": "python",
   "nbconvert_exporter": "python",
   "pygments_lexer": "ipython3",
   "version": "3.6.4"
  }
 },
 "nbformat": 4,
 "nbformat_minor": 2
}
