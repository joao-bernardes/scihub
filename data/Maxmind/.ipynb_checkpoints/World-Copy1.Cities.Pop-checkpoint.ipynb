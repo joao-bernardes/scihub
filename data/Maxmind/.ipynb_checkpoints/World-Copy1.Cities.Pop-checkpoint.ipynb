{
 "cells": [
  {
   "cell_type": "code",
   "execution_count": 1,
   "metadata": {},
   "outputs": [],
   "source": [
    "import pandas as pd\n",
    "import gzip\n",
    "import matplotlib.pyplot as plt\n",
    "import seaborn as sns"
   ]
  },
  {
   "cell_type": "code",
   "execution_count": 2,
   "metadata": {},
   "outputs": [
    {
     "name": "stderr",
     "output_type": "stream",
     "text": [
      "C:\\anaconda\\lib\\site-packages\\IPython\\core\\interactiveshell.py:2728: DtypeWarning: Columns (3) have mixed types. Specify dtype option on import or set low_memory=False.\n",
      "  interactivity=interactivity, compiler=compiler, result=result)\n"
     ]
    }
   ],
   "source": [
    "#with open(\"worldcitiespop.txt.gz\", encoding=\" ISO-8859-1\") as f:\n",
    "pop = pd.read_csv(\"worldcitiespop.txt.gz\", encoding=\"ISO-8859-1\")"
   ]
  },
  {
   "cell_type": "code",
   "execution_count": 3,
   "metadata": {},
   "outputs": [],
   "source": [
    "pop = pop.dropna(how='any')"
   ]
  },
  {
   "cell_type": "code",
   "execution_count": 4,
   "metadata": {},
   "outputs": [
    {
     "name": "stdout",
     "output_type": "stream",
     "text": [
      "<class 'pandas.core.frame.DataFrame'>\n",
      "Int64Index: 47979 entries, 6 to 3173957\n",
      "Data columns (total 7 columns):\n",
      "Country       47979 non-null object\n",
      "City          47979 non-null object\n",
      "AccentCity    47979 non-null object\n",
      "Region        47979 non-null object\n",
      "Population    47979 non-null float64\n",
      "Latitude      47979 non-null float64\n",
      "Longitude     47979 non-null float64\n",
      "dtypes: float64(3), object(4)\n",
      "memory usage: 2.9+ MB\n"
     ]
    }
   ],
   "source": [
    "pop.info()"
   ]
  },
  {
   "cell_type": "code",
   "execution_count": 5,
   "metadata": {},
   "outputs": [],
   "source": [
    "pop = pop.sort_values(by=\"Population\",ascending=False)"
   ]
  },
  {
   "cell_type": "code",
   "execution_count": 6,
   "metadata": {},
   "outputs": [
    {
     "data": {
      "text/html": [
       "<div>\n",
       "<style scoped>\n",
       "    .dataframe tbody tr th:only-of-type {\n",
       "        vertical-align: middle;\n",
       "    }\n",
       "\n",
       "    .dataframe tbody tr th {\n",
       "        vertical-align: top;\n",
       "    }\n",
       "\n",
       "    .dataframe thead th {\n",
       "        text-align: right;\n",
       "    }\n",
       "</style>\n",
       "<table border=\"1\" class=\"dataframe\">\n",
       "  <thead>\n",
       "    <tr style=\"text-align: right;\">\n",
       "      <th></th>\n",
       "      <th>Country</th>\n",
       "      <th>City</th>\n",
       "      <th>AccentCity</th>\n",
       "      <th>Region</th>\n",
       "      <th>Population</th>\n",
       "      <th>Latitude</th>\n",
       "      <th>Longitude</th>\n",
       "    </tr>\n",
       "  </thead>\n",
       "  <tbody>\n",
       "    <tr>\n",
       "      <th>685839</th>\n",
       "      <td>cr</td>\n",
       "      <td>buenos aires</td>\n",
       "      <td>Buenos Aires</td>\n",
       "      <td>7</td>\n",
       "      <td>11680.0</td>\n",
       "      <td>8.859576</td>\n",
       "      <td>-83.502242</td>\n",
       "    </tr>\n",
       "    <tr>\n",
       "      <th>1861786</th>\n",
       "      <td>mx</td>\n",
       "      <td>buenos aires</td>\n",
       "      <td>Buenos Aires</td>\n",
       "      <td>16</td>\n",
       "      <td>10707.0</td>\n",
       "      <td>19.066667</td>\n",
       "      <td>-102.166667</td>\n",
       "    </tr>\n",
       "    <tr>\n",
       "      <th>2062351</th>\n",
       "      <td>pe</td>\n",
       "      <td>buenos aires</td>\n",
       "      <td>Buenos Aires</td>\n",
       "      <td>20</td>\n",
       "      <td>7967.0</td>\n",
       "      <td>-5.260833</td>\n",
       "      <td>-79.964167</td>\n",
       "    </tr>\n",
       "    <tr>\n",
       "      <th>660573</th>\n",
       "      <td>co</td>\n",
       "      <td>buenos aires</td>\n",
       "      <td>Buenos Aires</td>\n",
       "      <td>9</td>\n",
       "      <td>2144.0</td>\n",
       "      <td>3.015033</td>\n",
       "      <td>-76.642748</td>\n",
       "    </tr>\n",
       "    <tr>\n",
       "      <th>1079394</th>\n",
       "      <td>hn</td>\n",
       "      <td>buenos aires</td>\n",
       "      <td>Buenos Aires</td>\n",
       "      <td>5</td>\n",
       "      <td>1131.0</td>\n",
       "      <td>15.033333</td>\n",
       "      <td>-88.966667</td>\n",
       "    </tr>\n",
       "    <tr>\n",
       "      <th>1079403</th>\n",
       "      <td>hn</td>\n",
       "      <td>buenos aires</td>\n",
       "      <td>Buenos Aires</td>\n",
       "      <td>18</td>\n",
       "      <td>980.0</td>\n",
       "      <td>15.350000</td>\n",
       "      <td>-86.733333</td>\n",
       "    </tr>\n",
       "    <tr>\n",
       "      <th>1079395</th>\n",
       "      <td>hn</td>\n",
       "      <td>buenos aires</td>\n",
       "      <td>Buenos Aires</td>\n",
       "      <td>6</td>\n",
       "      <td>979.0</td>\n",
       "      <td>15.483333</td>\n",
       "      <td>-88.183333</td>\n",
       "    </tr>\n",
       "  </tbody>\n",
       "</table>\n",
       "</div>"
      ],
      "text/plain": [
       "        Country          City    AccentCity Region  Population   Latitude  \\\n",
       "685839       cr  buenos aires  Buenos Aires      7     11680.0   8.859576   \n",
       "1861786      mx  buenos aires  Buenos Aires     16     10707.0  19.066667   \n",
       "2062351      pe  buenos aires  Buenos Aires     20      7967.0  -5.260833   \n",
       "660573       co  buenos aires  Buenos Aires      9      2144.0   3.015033   \n",
       "1079394      hn  buenos aires  Buenos Aires      5      1131.0  15.033333   \n",
       "1079403      hn  buenos aires  Buenos Aires     18       980.0  15.350000   \n",
       "1079395      hn  buenos aires  Buenos Aires      6       979.0  15.483333   \n",
       "\n",
       "          Longitude  \n",
       "685839   -83.502242  \n",
       "1861786 -102.166667  \n",
       "2062351  -79.964167  \n",
       "660573   -76.642748  \n",
       "1079394  -88.966667  \n",
       "1079403  -86.733333  \n",
       "1079395  -88.183333  "
      ]
     },
     "execution_count": 6,
     "metadata": {},
     "output_type": "execute_result"
    }
   ],
   "source": [
    "pop.loc[pop.City == \"buenos aires\",:]"
   ]
  },
  {
   "cell_type": "code",
   "execution_count": 7,
   "metadata": {},
   "outputs": [],
   "source": [
    "pop.City = pop.City.drop_duplicates()"
   ]
  },
  {
   "cell_type": "code",
   "execution_count": 8,
   "metadata": {},
   "outputs": [
    {
     "name": "stdout",
     "output_type": "stream",
     "text": [
      "<class 'pandas.core.frame.DataFrame'>\n",
      "Int64Index: 47979 entries, 1544449 to 2360929\n",
      "Data columns (total 7 columns):\n",
      "Country       47979 non-null object\n",
      "City          43182 non-null object\n",
      "AccentCity    47979 non-null object\n",
      "Region        47979 non-null object\n",
      "Population    47979 non-null float64\n",
      "Latitude      47979 non-null float64\n",
      "Longitude     47979 non-null float64\n",
      "dtypes: float64(3), object(4)\n",
      "memory usage: 4.2+ MB\n"
     ]
    }
   ],
   "source": [
    "pop.info()"
   ]
  },
  {
   "cell_type": "code",
   "execution_count": 9,
   "metadata": {},
   "outputs": [],
   "source": [
    "pop = pop.loc[:,(\"Country\",\"City\", \"Population\")]"
   ]
  },
  {
   "cell_type": "code",
   "execution_count": 10,
   "metadata": {},
   "outputs": [
    {
     "data": {
      "text/html": [
       "<div>\n",
       "<style scoped>\n",
       "    .dataframe tbody tr th:only-of-type {\n",
       "        vertical-align: middle;\n",
       "    }\n",
       "\n",
       "    .dataframe tbody tr th {\n",
       "        vertical-align: top;\n",
       "    }\n",
       "\n",
       "    .dataframe thead th {\n",
       "        text-align: right;\n",
       "    }\n",
       "</style>\n",
       "<table border=\"1\" class=\"dataframe\">\n",
       "  <thead>\n",
       "    <tr style=\"text-align: right;\">\n",
       "      <th></th>\n",
       "      <th>Country</th>\n",
       "      <th>City</th>\n",
       "      <th>Population</th>\n",
       "    </tr>\n",
       "  </thead>\n",
       "  <tbody>\n",
       "    <tr>\n",
       "      <th>1544449</th>\n",
       "      <td>jp</td>\n",
       "      <td>tokyo</td>\n",
       "      <td>31480498.0</td>\n",
       "    </tr>\n",
       "    <tr>\n",
       "      <th>570824</th>\n",
       "      <td>cn</td>\n",
       "      <td>shanghai</td>\n",
       "      <td>14608512.0</td>\n",
       "    </tr>\n",
       "    <tr>\n",
       "      <th>1327914</th>\n",
       "      <td>in</td>\n",
       "      <td>bombay</td>\n",
       "      <td>12692717.0</td>\n",
       "    </tr>\n",
       "    <tr>\n",
       "      <th>2200161</th>\n",
       "      <td>pk</td>\n",
       "      <td>karachi</td>\n",
       "      <td>11627378.0</td>\n",
       "    </tr>\n",
       "    <tr>\n",
       "      <th>1331162</th>\n",
       "      <td>in</td>\n",
       "      <td>delhi</td>\n",
       "      <td>10928270.0</td>\n",
       "    </tr>\n",
       "  </tbody>\n",
       "</table>\n",
       "</div>"
      ],
      "text/plain": [
       "        Country      City  Population\n",
       "1544449      jp     tokyo  31480498.0\n",
       "570824       cn  shanghai  14608512.0\n",
       "1327914      in    bombay  12692717.0\n",
       "2200161      pk   karachi  11627378.0\n",
       "1331162      in     delhi  10928270.0"
      ]
     },
     "execution_count": 10,
     "metadata": {},
     "output_type": "execute_result"
    }
   ],
   "source": [
    "pop.head()"
   ]
  },
  {
   "cell_type": "markdown",
   "metadata": {},
   "source": [
    "### Import DataFrame"
   ]
  },
  {
   "cell_type": "code",
   "execution_count": null,
   "metadata": {},
   "outputs": [],
   "source": [
    "statistics2017 = pd.read_table(\"./../../data/sample/2017.statistics.sample.csv\", header=None)\n",
    "#give columns names\n",
    "statistics2017.columns = [\"date\", \"DOI\", \"IPID\", \"userID\", \"country\", \"city\", \"lat\", \"lon\"]"
   ]
  },
  {
   "cell_type": "code",
   "execution_count": null,
   "metadata": {},
   "outputs": [],
   "source": [
    "statistics2017.city = statistics2017[\"city\"].str.lower()"
   ]
  },
  {
   "cell_type": "code",
   "execution_count": null,
   "metadata": {},
   "outputs": [],
   "source": [
    "statistics2017 = statistics2017.loc[:,(\"DOI\",\"city\", \"lat\", \"lon\", \"userID\")]"
   ]
  },
  {
   "cell_type": "code",
   "execution_count": null,
   "metadata": {},
   "outputs": [],
   "source": [
    "statistics2017 = statistics2017.groupby('city').count().sort_values(by=\"DOI\", ascending=False)"
   ]
  },
  {
   "cell_type": "code",
   "execution_count": null,
   "metadata": {},
   "outputs": [],
   "source": [
    "statistics2017 = statistics2017.reset_index()"
   ]
  },
  {
   "cell_type": "code",
   "execution_count": null,
   "metadata": {},
   "outputs": [],
   "source": [
    "#We have 19419 different cities requesting to the Sci-Hub\n",
    "statistics2017.info()"
   ]
  },
  {
   "cell_type": "code",
   "execution_count": null,
   "metadata": {},
   "outputs": [],
   "source": [
    "statistics2017 = pd.merge(statistics2017, pop, left_on=\"city\", right_on=\"City\")"
   ]
  },
  {
   "cell_type": "code",
   "execution_count": null,
   "metadata": {},
   "outputs": [],
   "source": [
    "statistics2017[\"norm_values\"] = statistics2017.DOI / statistics2017.Population"
   ]
  },
  {
   "cell_type": "code",
   "execution_count": null,
   "metadata": {},
   "outputs": [],
   "source": [
    "statistics2017"
   ]
  },
  {
   "cell_type": "code",
   "execution_count": null,
   "metadata": {},
   "outputs": [],
   "source": [
    "a = statistics2017.sort_values(by=\"norm_values\", ascending=False).head(25)"
   ]
  },
  {
   "cell_type": "code",
   "execution_count": null,
   "metadata": {},
   "outputs": [],
   "source": [
    "plt.subplots(figsize=(10, 5))\n",
    "plt.xticks(rotation=90)\n",
    "plot = sns.barplot(\"City\",\"norm_values\", data=a)\n",
    "\n",
    "plt.title(\"Fig. 7.1 - Top Cities Requesting Articles | Normalized Values for Population\")\n",
    "plt.tight_layout()\n",
    "#plt.savefig(\"./../../charts and figures/Fig. 7.1 - Articles.City.Top25.Norm_Values.pdf\")"
   ]
  },
  {
   "cell_type": "code",
   "execution_count": null,
   "metadata": {},
   "outputs": [],
   "source": [
    "plot = a.plot.bar(x=[\"Country\",\"city\"],y=\"norm_values\", fontsize=20, figsize=(20,10))\n",
    "plt.title(\"Fig. 7.1 - Top Cities Requesting Articles | Normalized Values for Population\")\n",
    "plt.tight_layout()\n",
    "#plt.savefig(\"./../../charts and figures/Fig. 7.1 - Articles.City.Top25.Norm_Values.pdf\")"
   ]
  },
  {
   "cell_type": "code",
   "execution_count": null,
   "metadata": {},
   "outputs": [],
   "source": [
    "scatter =statistics2017.sort_values(by=\"norm_values\", ascending=False)\n",
    "scatter.plot.scatter(x=\"Population\",y=\"DOI\")"
   ]
  },
  {
   "cell_type": "code",
   "execution_count": null,
   "metadata": {},
   "outputs": [],
   "source": [
    "scatter =statistics2017.sort_values(by=\"norm_values\", ascending=False)\n",
    "scatter.plot.scatter(x=\"norm_values\",y=\"DOI\")"
   ]
  },
  {
   "cell_type": "code",
   "execution_count": null,
   "metadata": {},
   "outputs": [],
   "source": [
    "geonames = pd.read_table(\"./../../data/GeoNames/cities1000.zip\", header = None)\n",
    "geonames.columns = [\"geonameID\", \"name\", \"asciiname\", \"alternatenames\", \"latitude\", \"longitude\", \"feature class\", \"feature code\", \"country code\", \"cc2\", \"admin1 code\", \"admin2 code\", \"admin3 code\", \"admin4 code\", \"population\", \"elevation\", \"dem\", \"timezone\", \"modification date\"]"
   ]
  },
  {
   "cell_type": "code",
   "execution_count": null,
   "metadata": {},
   "outputs": [],
   "source": [
    "geonames"
   ]
  },
  {
   "cell_type": "code",
   "execution_count": null,
   "metadata": {},
   "outputs": [],
   "source": [
    "geonames = geonames.loc[:,(\"asciiname\",\"country code\",\"population\")]"
   ]
  },
  {
   "cell_type": "code",
   "execution_count": null,
   "metadata": {},
   "outputs": [],
   "source": []
  },
  {
   "cell_type": "code",
   "execution_count": null,
   "metadata": {},
   "outputs": [],
   "source": [
    "country_code = pd.read_csv(\"https://raw.githubusercontent.com/lukes/ISO-3166-Countries-with-Regional-Codes/master/all/all.csv\", usecols=(\"name\",\"alpha-2\"))"
   ]
  },
  {
   "cell_type": "code",
   "execution_count": null,
   "metadata": {},
   "outputs": [],
   "source": [
    "geonames = pd.merge(geonames, country_code,left_on='country code', right_on='alpha-2')"
   ]
  },
  {
   "cell_type": "code",
   "execution_count": null,
   "metadata": {},
   "outputs": [],
   "source": [
    "geonames = geonames.loc[:,(\"asciiname\", \"name\", \"population\")]"
   ]
  },
  {
   "cell_type": "code",
   "execution_count": null,
   "metadata": {},
   "outputs": [],
   "source": [
    "geonames.head()"
   ]
  },
  {
   "cell_type": "code",
   "execution_count": null,
   "metadata": {},
   "outputs": [],
   "source": [
    "statistics2017 = pd.read_table(\"./../../data/sample/2017.statistics.sample.csv\", header=None)\n",
    "#give columns names\n",
    "statistics2017.columns = [\"date\", \"DOI\", \"IPID\", \"userID\", \"country\", \"city\", \"lat\", \"lon\"]"
   ]
  },
  {
   "cell_type": "code",
   "execution_count": null,
   "metadata": {},
   "outputs": [],
   "source": [
    "statistics2017 = statistics2017.loc[:,(\"DOI\", \"country\", \"city\")]"
   ]
  },
  {
   "cell_type": "code",
   "execution_count": null,
   "metadata": {},
   "outputs": [],
   "source": [
    "statistics2017"
   ]
  },
  {
   "cell_type": "code",
   "execution_count": null,
   "metadata": {},
   "outputs": [],
   "source": []
  }
 ],
 "metadata": {
  "kernelspec": {
   "display_name": "Python 3",
   "language": "python",
   "name": "python3"
  },
  "language_info": {
   "codemirror_mode": {
    "name": "ipython",
    "version": 3
   },
   "file_extension": ".py",
   "mimetype": "text/x-python",
   "name": "python",
   "nbconvert_exporter": "python",
   "pygments_lexer": "ipython3",
   "version": "3.6.4"
  }
 },
 "nbformat": 4,
 "nbformat_minor": 2
}
