{
 "cells": [
  {
   "cell_type": "code",
   "execution_count": 2,
   "metadata": {},
   "outputs": [],
   "source": [
    "path = \"./../data/full/OA_status_raw/\"\n",
    "def clean_raw():\n",
    "    n = 0\n",
    "    while n < 20:\n",
    "     #import from (path + list), 'doi' and 'is_oa' columns. \n",
    "        with open(path + OA_list[n], encoding=\"Latin-1\") as f:\n",
    "            data = pd.read_csv(f,usecols=[0,1], index_col=0,header=None)\n",
    "            data.columns = [\"is_oa\"]\n",
    "            #After column rename, replace same column with boolean values.\n",
    "            data = data.replace({\"is_oa\":{\"f\":False,\"t\":True}})\n",
    "            #Export to new directory, full, clean, dataframe.\n",
    "            data.to_csv(\"./../data/full/OA_status/\" + OA_list[n])\n",
    "        n = n + 1 \n",
    "clean_raw()\n"
   ]
  },
  {
   "cell_type": "code",
   "execution_count": null,
   "metadata": {},
   "outputs": [],
   "source": [
    "def clean_raw_file():\n",
    "        #import from (path + list), 'doi' and 'is_oa' columns. \n",
    "        with open(path + OA_list[n], encoding=\"Latin-1\") as f:\n",
    "            data = pd.read_csv(f,usecols=[0,1], index_col=0,header=None)\n",
    "            data.columns = [\"is_oa\"]\n",
    "            #After column rename, replace same column with boolean values.\n",
    "            data = data.replace({\"is_oa\":{\"f\":False,\"t\":True}})\n",
    "            #Export to new directory, full, clean, dataframe.\n",
    "            data.to_csv(\"./../data/full/OA_status/\" + OA_list[n])"
   ]
  },
  {
   "cell_type": "code",
   "execution_count": null,
   "metadata": {},
   "outputs": [],
   "source": [
    "def clean_raw_file(in_path, out_path):\n",
    "    #import from (path + list), 'doi' and 'is_oa' columns.\n",
    "    with open(in_path, encoding=\"Latin-1\") as f:\n",
    "        data = pd.read_csv(f,usecols=[0,1], index_col=0,header=None)\n",
    "        data.columns = [\"is_oa\"]\n",
    "        #After column rename, replace same column with boolean values.\n",
    "        data = data.replace({\"is_oa\":{\"f\":False,\"t\":True}})\n",
    "        #Export to new directory, full, clean, dataframe.\n",
    "        data.to_csv(out_path)\n",
    "    \n",
    "\n",
    "def clean_raw():\n",
    "    for n in range(20):\n",
    "        in_path = path + OA_list[n]\n",
    "        out_path = \"./../data/full/OA_status/\" + OA_list[n]\n",
    "        clean_raw_file(in_path, out_path)\n",
    "        \n",
    "clean_raw()"
   ]
  }
 ],
 "metadata": {
  "kernelspec": {
   "display_name": "Python 3",
   "language": "python",
   "name": "python3"
  },
  "language_info": {
   "codemirror_mode": {
    "name": "ipython",
    "version": 3
   },
   "file_extension": ".py",
   "mimetype": "text/x-python",
   "name": "python",
   "nbconvert_exporter": "python",
   "pygments_lexer": "ipython3",
   "version": "3.6.4"
  }
 },
 "nbformat": 4,
 "nbformat_minor": 2
}
