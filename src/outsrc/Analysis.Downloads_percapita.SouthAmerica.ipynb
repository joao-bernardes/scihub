{
 "cells": [
  {
   "cell_type": "code",
   "execution_count": 14,
   "metadata": {},
   "outputs": [],
   "source": [
    "import pandas as pd\n",
    "import numpy as np\n",
    "import matplotlib.pyplot as plt\n",
    "import seaborn as sns"
   ]
  },
  {
   "cell_type": "markdown",
   "metadata": {},
   "source": [
    "### Import DataFrame"
   ]
  },
  {
   "cell_type": "code",
   "execution_count": 15,
   "metadata": {},
   "outputs": [],
   "source": [
    "world_pop = pd.read_csv(\"./../../data/outsrc/API_SP.POP.TOTL_DS2_en_csv_v2_10058048.csv\")"
   ]
  },
  {
   "cell_type": "code",
   "execution_count": 16,
   "metadata": {},
   "outputs": [],
   "source": [
    "world_pop = world_pop.loc[:,(\"Country Name\", \"2014\")]\n",
    "world_pop = world_pop.rename({\"2014\": \"2014 Population\"}, axis = \"columns\")\n",
    "world_pop = world_pop.dropna(how=\"any\")"
   ]
  },
  {
   "cell_type": "code",
   "execution_count": 17,
   "metadata": {},
   "outputs": [
    {
     "name": "stdout",
     "output_type": "stream",
     "text": [
      "<class 'pandas.core.frame.DataFrame'>\n",
      "Int64Index: 262 entries, 0 to 263\n",
      "Data columns (total 2 columns):\n",
      "Country Name       262 non-null object\n",
      "2014 Population    262 non-null float64\n",
      "dtypes: float64(1), object(1)\n",
      "memory usage: 6.1+ KB\n"
     ]
    }
   ],
   "source": [
    "world_pop.info()"
   ]
  },
  {
   "cell_type": "markdown",
   "metadata": {},
   "source": [
    "### Import DataFrame"
   ]
  },
  {
   "cell_type": "code",
   "execution_count": 18,
   "metadata": {},
   "outputs": [
    {
     "name": "stdout",
     "output_type": "stream",
     "text": [
      "<class 'pandas.core.frame.DataFrame'>\n",
      "RangeIndex: 213 entries, 0 to 212\n",
      "Data columns (total 4 columns):\n",
      "continent    213 non-null object\n",
      "country      213 non-null object\n",
      "Downloads    213 non-null int64\n",
      "city         213 non-null int64\n",
      "dtypes: int64(2), object(2)\n",
      "memory usage: 6.7+ KB\n"
     ]
    }
   ],
   "source": [
    "statistics2017 = pd.read_csv(\"./../../data/sample/2017.statistics.sample.with_missing_cities_continents.csv\")\n",
    "statistics2017 = statistics2017.loc[:,(\"DOI\",\"city\",\"country\",\"continent\")]\n",
    "statistics2017 = statistics2017.rename({\"DOI\": \"Downloads\"}, axis = \"columns\")\n",
    "statistics2017 = statistics2017.groupby([\"continent\",'country']).count().sort_values(by=\"Downloads\", ascending=False)\n",
    "statistics2017 = statistics2017.reset_index()\n",
    "statistics2017.info()"
   ]
  },
  {
   "cell_type": "markdown",
   "metadata": {},
   "source": [
    "### Merge DataFrame"
   ]
  },
  {
   "cell_type": "code",
   "execution_count": 19,
   "metadata": {},
   "outputs": [],
   "source": [
    "statistics2017 = pd.merge(statistics2017, world_pop, left_on=\"country\", right_on=\"Country Name\")\n",
    "statistics2017 = statistics2017.drop(columns=\"Country Name\")"
   ]
  },
  {
   "cell_type": "code",
   "execution_count": 20,
   "metadata": {},
   "outputs": [
    {
     "data": {
      "text/html": [
       "<div>\n",
       "<style scoped>\n",
       "    .dataframe tbody tr th:only-of-type {\n",
       "        vertical-align: middle;\n",
       "    }\n",
       "\n",
       "    .dataframe tbody tr th {\n",
       "        vertical-align: top;\n",
       "    }\n",
       "\n",
       "    .dataframe thead th {\n",
       "        text-align: right;\n",
       "    }\n",
       "</style>\n",
       "<table border=\"1\" class=\"dataframe\">\n",
       "  <thead>\n",
       "    <tr style=\"text-align: right;\">\n",
       "      <th></th>\n",
       "      <th>continent</th>\n",
       "      <th>country</th>\n",
       "      <th>Downloads</th>\n",
       "      <th>city</th>\n",
       "      <th>2014 Population</th>\n",
       "    </tr>\n",
       "  </thead>\n",
       "  <tbody>\n",
       "    <tr>\n",
       "      <th>0</th>\n",
       "      <td>Asia</td>\n",
       "      <td>China</td>\n",
       "      <td>243363</td>\n",
       "      <td>243250</td>\n",
       "      <td>1.364270e+09</td>\n",
       "    </tr>\n",
       "    <tr>\n",
       "      <th>1</th>\n",
       "      <td>Asia</td>\n",
       "      <td>India</td>\n",
       "      <td>132886</td>\n",
       "      <td>132886</td>\n",
       "      <td>1.293859e+09</td>\n",
       "    </tr>\n",
       "    <tr>\n",
       "      <th>2</th>\n",
       "      <td>North America</td>\n",
       "      <td>United States</td>\n",
       "      <td>110440</td>\n",
       "      <td>109912</td>\n",
       "      <td>3.186225e+08</td>\n",
       "    </tr>\n",
       "    <tr>\n",
       "      <th>3</th>\n",
       "      <td>South America</td>\n",
       "      <td>Brazil</td>\n",
       "      <td>71323</td>\n",
       "      <td>71322</td>\n",
       "      <td>2.042131e+08</td>\n",
       "    </tr>\n",
       "    <tr>\n",
       "      <th>4</th>\n",
       "      <td>Asia</td>\n",
       "      <td>Indonesia</td>\n",
       "      <td>59517</td>\n",
       "      <td>55160</td>\n",
       "      <td>2.551311e+08</td>\n",
       "    </tr>\n",
       "  </tbody>\n",
       "</table>\n",
       "</div>"
      ],
      "text/plain": [
       "       continent        country  Downloads    city  2014 Population\n",
       "0           Asia          China     243363  243250     1.364270e+09\n",
       "1           Asia          India     132886  132886     1.293859e+09\n",
       "2  North America  United States     110440  109912     3.186225e+08\n",
       "3  South America         Brazil      71323   71322     2.042131e+08\n",
       "4           Asia      Indonesia      59517   55160     2.551311e+08"
      ]
     },
     "execution_count": 20,
     "metadata": {},
     "output_type": "execute_result"
    }
   ],
   "source": [
    "statistics2017.head()"
   ]
  },
  {
   "cell_type": "code",
   "execution_count": 21,
   "metadata": {},
   "outputs": [
    {
     "data": {
      "text/html": [
       "<div>\n",
       "<style scoped>\n",
       "    .dataframe tbody tr th:only-of-type {\n",
       "        vertical-align: middle;\n",
       "    }\n",
       "\n",
       "    .dataframe tbody tr th {\n",
       "        vertical-align: top;\n",
       "    }\n",
       "\n",
       "    .dataframe thead th {\n",
       "        text-align: right;\n",
       "    }\n",
       "</style>\n",
       "<table border=\"1\" class=\"dataframe\">\n",
       "  <thead>\n",
       "    <tr style=\"text-align: right;\">\n",
       "      <th></th>\n",
       "      <th>continent</th>\n",
       "      <th>country</th>\n",
       "      <th>Downloads</th>\n",
       "      <th>city</th>\n",
       "      <th>2014 Population</th>\n",
       "      <th>Downloads_1000hb</th>\n",
       "    </tr>\n",
       "  </thead>\n",
       "  <tbody>\n",
       "    <tr>\n",
       "      <th>0</th>\n",
       "      <td>Asia</td>\n",
       "      <td>China</td>\n",
       "      <td>243363</td>\n",
       "      <td>243250</td>\n",
       "      <td>1.364270e+09</td>\n",
       "      <td>0.178383</td>\n",
       "    </tr>\n",
       "    <tr>\n",
       "      <th>1</th>\n",
       "      <td>Asia</td>\n",
       "      <td>India</td>\n",
       "      <td>132886</td>\n",
       "      <td>132886</td>\n",
       "      <td>1.293859e+09</td>\n",
       "      <td>0.102705</td>\n",
       "    </tr>\n",
       "    <tr>\n",
       "      <th>2</th>\n",
       "      <td>North America</td>\n",
       "      <td>United States</td>\n",
       "      <td>110440</td>\n",
       "      <td>109912</td>\n",
       "      <td>3.186225e+08</td>\n",
       "      <td>0.346617</td>\n",
       "    </tr>\n",
       "    <tr>\n",
       "      <th>3</th>\n",
       "      <td>South America</td>\n",
       "      <td>Brazil</td>\n",
       "      <td>71323</td>\n",
       "      <td>71322</td>\n",
       "      <td>2.042131e+08</td>\n",
       "      <td>0.349258</td>\n",
       "    </tr>\n",
       "    <tr>\n",
       "      <th>4</th>\n",
       "      <td>Asia</td>\n",
       "      <td>Indonesia</td>\n",
       "      <td>59517</td>\n",
       "      <td>55160</td>\n",
       "      <td>2.551311e+08</td>\n",
       "      <td>0.233280</td>\n",
       "    </tr>\n",
       "  </tbody>\n",
       "</table>\n",
       "</div>"
      ],
      "text/plain": [
       "       continent        country  Downloads    city  2014 Population  \\\n",
       "0           Asia          China     243363  243250     1.364270e+09   \n",
       "1           Asia          India     132886  132886     1.293859e+09   \n",
       "2  North America  United States     110440  109912     3.186225e+08   \n",
       "3  South America         Brazil      71323   71322     2.042131e+08   \n",
       "4           Asia      Indonesia      59517   55160     2.551311e+08   \n",
       "\n",
       "   Downloads_1000hb  \n",
       "0          0.178383  \n",
       "1          0.102705  \n",
       "2          0.346617  \n",
       "3          0.349258  \n",
       "4          0.233280  "
      ]
     },
     "execution_count": 21,
     "metadata": {},
     "output_type": "execute_result"
    }
   ],
   "source": [
    "statistics2017[\"Downloads_1000hb\"] = statistics2017.Downloads / statistics2017[\"2014 Population\"] *1000\n",
    "statistics2017.head()"
   ]
  },
  {
   "cell_type": "code",
   "execution_count": 22,
   "metadata": {},
   "outputs": [],
   "source": [
    "a = statistics2017.loc[statistics2017.continent == \"South America\",:].sort_values(by=\"Downloads_1000hb\", ascending=False)"
   ]
  },
  {
   "cell_type": "code",
   "execution_count": 58,
   "metadata": {},
   "outputs": [
    {
     "data": {
      "text/html": [
       "<div>\n",
       "<style scoped>\n",
       "    .dataframe tbody tr th:only-of-type {\n",
       "        vertical-align: middle;\n",
       "    }\n",
       "\n",
       "    .dataframe tbody tr th {\n",
       "        vertical-align: top;\n",
       "    }\n",
       "\n",
       "    .dataframe thead th {\n",
       "        text-align: right;\n",
       "    }\n",
       "</style>\n",
       "<table border=\"1\" class=\"dataframe\">\n",
       "  <thead>\n",
       "    <tr style=\"text-align: right;\">\n",
       "      <th></th>\n",
       "      <th>continent</th>\n",
       "      <th>country</th>\n",
       "      <th>Downloads</th>\n",
       "      <th>city</th>\n",
       "      <th>2014 Population</th>\n",
       "      <th>Downloads_1000hb</th>\n",
       "    </tr>\n",
       "  </thead>\n",
       "  <tbody>\n",
       "    <tr>\n",
       "      <th>17</th>\n",
       "      <td>South America</td>\n",
       "      <td>Chile</td>\n",
       "      <td>17007</td>\n",
       "      <td>17002</td>\n",
       "      <td>17613798.0</td>\n",
       "      <td>0.965550</td>\n",
       "    </tr>\n",
       "    <tr>\n",
       "      <th>13</th>\n",
       "      <td>South America</td>\n",
       "      <td>Colombia</td>\n",
       "      <td>21309</td>\n",
       "      <td>21308</td>\n",
       "      <td>47791911.0</td>\n",
       "      <td>0.445870</td>\n",
       "    </tr>\n",
       "    <tr>\n",
       "      <th>23</th>\n",
       "      <td>South America</td>\n",
       "      <td>Peru</td>\n",
       "      <td>13490</td>\n",
       "      <td>13490</td>\n",
       "      <td>30973354.0</td>\n",
       "      <td>0.435536</td>\n",
       "    </tr>\n",
       "    <tr>\n",
       "      <th>34</th>\n",
       "      <td>South America</td>\n",
       "      <td>Ecuador</td>\n",
       "      <td>6627</td>\n",
       "      <td>6610</td>\n",
       "      <td>15903112.0</td>\n",
       "      <td>0.416711</td>\n",
       "    </tr>\n",
       "    <tr>\n",
       "      <th>63</th>\n",
       "      <td>South America</td>\n",
       "      <td>Uruguay</td>\n",
       "      <td>1416</td>\n",
       "      <td>1416</td>\n",
       "      <td>3419546.0</td>\n",
       "      <td>0.414090</td>\n",
       "    </tr>\n",
       "    <tr>\n",
       "      <th>19</th>\n",
       "      <td>South America</td>\n",
       "      <td>Argentina</td>\n",
       "      <td>15192</td>\n",
       "      <td>14819</td>\n",
       "      <td>42981515.0</td>\n",
       "      <td>0.353454</td>\n",
       "    </tr>\n",
       "    <tr>\n",
       "      <th>3</th>\n",
       "      <td>South America</td>\n",
       "      <td>Brazil</td>\n",
       "      <td>71323</td>\n",
       "      <td>71322</td>\n",
       "      <td>204213133.0</td>\n",
       "      <td>0.349258</td>\n",
       "    </tr>\n",
       "    <tr>\n",
       "      <th>74</th>\n",
       "      <td>South America</td>\n",
       "      <td>Bolivia</td>\n",
       "      <td>949</td>\n",
       "      <td>949</td>\n",
       "      <td>10562159.0</td>\n",
       "      <td>0.089849</td>\n",
       "    </tr>\n",
       "    <tr>\n",
       "      <th>134</th>\n",
       "      <td>South America</td>\n",
       "      <td>Suriname</td>\n",
       "      <td>40</td>\n",
       "      <td>36</td>\n",
       "      <td>547928.0</td>\n",
       "      <td>0.073002</td>\n",
       "    </tr>\n",
       "    <tr>\n",
       "      <th>96</th>\n",
       "      <td>South America</td>\n",
       "      <td>Paraguay</td>\n",
       "      <td>345</td>\n",
       "      <td>280</td>\n",
       "      <td>6552584.0</td>\n",
       "      <td>0.052651</td>\n",
       "    </tr>\n",
       "    <tr>\n",
       "      <th>136</th>\n",
       "      <td>South America</td>\n",
       "      <td>Guyana</td>\n",
       "      <td>37</td>\n",
       "      <td>37</td>\n",
       "      <td>763393.0</td>\n",
       "      <td>0.048468</td>\n",
       "    </tr>\n",
       "    <tr>\n",
       "      <th>158</th>\n",
       "      <td>South America</td>\n",
       "      <td>Aruba</td>\n",
       "      <td>4</td>\n",
       "      <td>4</td>\n",
       "      <td>103795.0</td>\n",
       "      <td>0.038538</td>\n",
       "    </tr>\n",
       "  </tbody>\n",
       "</table>\n",
       "</div>"
      ],
      "text/plain": [
       "         continent    country  Downloads   city  2014 Population  \\\n",
       "17   South America      Chile      17007  17002       17613798.0   \n",
       "13   South America   Colombia      21309  21308       47791911.0   \n",
       "23   South America       Peru      13490  13490       30973354.0   \n",
       "34   South America    Ecuador       6627   6610       15903112.0   \n",
       "63   South America    Uruguay       1416   1416        3419546.0   \n",
       "19   South America  Argentina      15192  14819       42981515.0   \n",
       "3    South America     Brazil      71323  71322      204213133.0   \n",
       "74   South America    Bolivia        949    949       10562159.0   \n",
       "134  South America   Suriname         40     36         547928.0   \n",
       "96   South America   Paraguay        345    280        6552584.0   \n",
       "136  South America     Guyana         37     37         763393.0   \n",
       "158  South America      Aruba          4      4         103795.0   \n",
       "\n",
       "     Downloads_1000hb  \n",
       "17           0.965550  \n",
       "13           0.445870  \n",
       "23           0.435536  \n",
       "34           0.416711  \n",
       "63           0.414090  \n",
       "19           0.353454  \n",
       "3            0.349258  \n",
       "74           0.089849  \n",
       "134          0.073002  \n",
       "96           0.052651  \n",
       "136          0.048468  \n",
       "158          0.038538  "
      ]
     },
     "execution_count": 58,
     "metadata": {},
     "output_type": "execute_result"
    }
   ],
   "source": [
    "a"
   ]
  },
  {
   "cell_type": "code",
   "execution_count": 54,
   "metadata": {},
   "outputs": [
    {
     "data": {
      "text/plain": [
       "<matplotlib.axes._subplots.AxesSubplot at 0x2b87ba3dcc0>"
      ]
     },
     "execution_count": 54,
     "metadata": {},
     "output_type": "execute_result"
    },
    {
     "data": {
      "image/png": "[encoded data removed]",
      "text/plain": [
       "<Figure size 720x720 with 1 Axes>"
      ]
     },
     "metadata": {},
     "output_type": "display_data"
    }
   ],
   "source": [
    "pie1 = a.loc[a.continent == \"South America\"].sort_values(by='2014 Population', ascending=False)\n",
    "pie1 = pie1.set_index(\"country\")\n",
    "pie1.plot.pie(x=\"country\",y=\"2014 Population\", figsize=(10,10),autopct='%.f%%')"
   ]
  },
  {
   "cell_type": "code",
   "execution_count": 25,
   "metadata": {},
   "outputs": [
    {
     "data": {
      "text/plain": [
       "Text(0.5,1,'World Pop')"
      ]
     },
     "execution_count": 25,
     "metadata": {},
     "output_type": "execute_result"
    },
    {
     "data": {
      "image/png": "[encoded data removed]",
      "text/plain": [
       "<Figure size 720x360 with 1 Axes>"
      ]
     },
     "metadata": {},
     "output_type": "display_data"
    }
   ],
   "source": [
    "plotable = a.loc[a.continent == \"South America\"].sort_values(by='2014 Population', ascending=False)\n",
    "plt.subplots(figsize=(10, 5))\n",
    "oa = sns.barplot('country', '2014 Population', data=plotable)\n",
    "sns.set_style('darkgrid')\n",
    "plt.xticks(rotation=90)\n",
    "plt.title(\"World Pop\")"
   ]
  },
  {
   "cell_type": "code",
   "execution_count": 57,
   "metadata": {},
   "outputs": [
    {
     "data": {
      "text/plain": [
       "Text(0.5,0,' ')"
      ]
     },
     "execution_count": 57,
     "metadata": {},
     "output_type": "execute_result"
    },
    {
     "data": {
      "image/png": "[encoded data removed]",
      "text/plain": [
       "<Figure size 720x360 with 1 Axes>"
      ]
     },
     "metadata": {},
     "output_type": "display_data"
    }
   ],
   "source": [
    "plot = a.sort_values(by=\"Downloads_1000hb\", ascending=False).head(50)\n",
    "plt.subplots(figsize=(10, 5))\n",
    "plot = sns.barplot('country', 'Downloads_1000hb', data=plot)\n",
    "sns.axes_style('darkgrid')\n",
    "plt.xticks(rotation=90)\n",
    "plot.set_ylabel(\"Nº of Articles per 1000 hab.\", fontsize=10)\n",
    "plot.set_xlabel(\" \", fontsize=10)\n",
    "\n",
    "#plt.title(\"Fig. 8.1 - Top 50 Countries Requesting Articles | Normalized Values for Population\", fontsize=14)\n",
    "#plt.tight_layout()\n",
    "#plt.savefig('./../../../charts and figures/'+ \"Fig. 8.2 - Downloads.Country.Top50.Norm_Values\" + \".pdf\")"
   ]
  },
  {
   "cell_type": "code",
   "execution_count": null,
   "metadata": {},
   "outputs": [],
   "source": []
  }
 ],
 "metadata": {
  "kernelspec": {
   "display_name": "Python 3",
   "language": "python",
   "name": "python3"
  },
  "language_info": {
   "codemirror_mode": {
    "name": "ipython",
    "version": 3
   },
   "file_extension": ".py",
   "mimetype": "text/x-python",
   "name": "python",
   "nbconvert_exporter": "python",
   "pygments_lexer": "ipython3",
   "version": "3.6.5"
  }
 },
 "nbformat": 4,
 "nbformat_minor": 2
}
