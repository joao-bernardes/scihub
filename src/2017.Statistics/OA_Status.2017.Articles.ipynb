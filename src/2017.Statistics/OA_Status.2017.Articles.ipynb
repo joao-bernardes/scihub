{
 "cells": [
  {
   "cell_type": "code",
   "execution_count": 1,
   "metadata": {},
   "outputs": [],
   "source": [
    "import pandas as pd\n",
    "import matplotlib.pyplot as plt"
   ]
  },
  {
   "cell_type": "markdown",
   "metadata": {},
   "source": [
    "### Import DataFrame"
   ]
  },
  {
   "cell_type": "code",
   "execution_count": 40,
   "metadata": {},
   "outputs": [],
   "source": [
    "statistics2017 = pd.read_table(\"./../../data/sample/2017.statistics.sample.csv\", header=None)"
   ]
  },
  {
   "cell_type": "code",
   "execution_count": 41,
   "metadata": {},
   "outputs": [],
   "source": [
    "#give columns names\n",
    "statistics2017.columns = [\"date\", \"DOI\", \"IPID\", \"userID\", \"country\", \"city\", \"lat\", \"lon\"]"
   ]
  },
  {
   "cell_type": "code",
   "execution_count": 42,
   "metadata": {},
   "outputs": [],
   "source": [
    "#Lowercase DOI:\n",
    "statistics2017.DOI = statistics2017[\"DOI\"].str.lower()"
   ]
  },
  {
   "cell_type": "code",
   "execution_count": 43,
   "metadata": {},
   "outputs": [],
   "source": [
    "#remove parenthsis and special characters\n",
    "statistics2017[\"country\"] = statistics2017[\"country\"].str.replace(r\" *\\(.*\\)\", \"\")"
   ]
  },
  {
   "cell_type": "markdown",
   "metadata": {},
   "source": [
    "### Import DataFrame"
   ]
  },
  {
   "cell_type": "code",
   "execution_count": 44,
   "metadata": {},
   "outputs": [],
   "source": [
    "p = pd.read_csv(\"./../../data/sample/2017.statistics.oa_status.csv\", index_col=\"DOI\")"
   ]
  },
  {
   "cell_type": "code",
   "execution_count": 45,
   "metadata": {},
   "outputs": [
    {
     "data": {
      "text/html": [
       "<div>\n",
       "<style scoped>\n",
       "    .dataframe tbody tr th:only-of-type {\n",
       "        vertical-align: middle;\n",
       "    }\n",
       "\n",
       "    .dataframe tbody tr th {\n",
       "        vertical-align: top;\n",
       "    }\n",
       "\n",
       "    .dataframe thead th {\n",
       "        text-align: right;\n",
       "    }\n",
       "</style>\n",
       "<table border=\"1\" class=\"dataframe\">\n",
       "  <thead>\n",
       "    <tr style=\"text-align: right;\">\n",
       "      <th></th>\n",
       "      <th>is_oa</th>\n",
       "    </tr>\n",
       "  </thead>\n",
       "  <tbody>\n",
       "    <tr>\n",
       "      <th>count</th>\n",
       "      <td>1621170</td>\n",
       "    </tr>\n",
       "    <tr>\n",
       "      <th>unique</th>\n",
       "      <td>2</td>\n",
       "    </tr>\n",
       "    <tr>\n",
       "      <th>top</th>\n",
       "      <td>False</td>\n",
       "    </tr>\n",
       "    <tr>\n",
       "      <th>freq</th>\n",
       "      <td>1330435</td>\n",
       "    </tr>\n",
       "  </tbody>\n",
       "</table>\n",
       "</div>"
      ],
      "text/plain": [
       "          is_oa\n",
       "count   1621170\n",
       "unique        2\n",
       "top       False\n",
       "freq    1330435"
      ]
     },
     "execution_count": 45,
     "metadata": {},
     "output_type": "execute_result"
    }
   ],
   "source": [
    "p.describe()"
   ]
  },
  {
   "cell_type": "markdown",
   "metadata": {},
   "source": [
    "### SAMPLE FILE - 1621170 out of 1645950 articles were found in Unpaywall;"
   ]
  },
  {
   "cell_type": "code",
   "execution_count": 46,
   "metadata": {},
   "outputs": [],
   "source": [
    "#adding OA_status to out dataframe\n",
    "statistics2017 = pd.merge(statistics2017.loc[:,\"date\":\"lon\"],p, left_on = \"DOI\", \n",
    "                          right_on = \"doi\", right_index=True, how = \"outer\")"
   ]
  },
  {
   "cell_type": "code",
   "execution_count": 47,
   "metadata": {},
   "outputs": [],
   "source": [
    "statistics2017 = statistics2017.drop_duplicates()"
   ]
  },
  {
   "cell_type": "code",
   "execution_count": 48,
   "metadata": {},
   "outputs": [
    {
     "name": "stdout",
     "output_type": "stream",
     "text": [
      "<class 'pandas.core.frame.DataFrame'>\n",
      "Int64Index: 1645950 entries, 0 to 1645949\n",
      "Data columns (total 9 columns):\n",
      "date       1645950 non-null object\n",
      "DOI        1645950 non-null object\n",
      "IPID       1645950 non-null int64\n",
      "userID     1645950 non-null int64\n",
      "country    1610872 non-null object\n",
      "city       1383620 non-null object\n",
      "lat        1519940 non-null float64\n",
      "lon        1519940 non-null float64\n",
      "is_oa      1621170 non-null object\n",
      "dtypes: float64(2), int64(2), object(5)\n",
      "memory usage: 125.6+ MB\n"
     ]
    }
   ],
   "source": [
    "statistics2017.info()"
   ]
  },
  {
   "cell_type": "code",
   "execution_count": 49,
   "metadata": {},
   "outputs": [],
   "source": [
    "#marking unlisted DOIs so they show up in the plot\n",
    "oa_plot = statistics2017.fillna(value=\"Unlisted\")"
   ]
  },
  {
   "cell_type": "code",
   "execution_count": 50,
   "metadata": {},
   "outputs": [],
   "source": [
    "oa_plot = oa_plot.groupby([\"is_oa\"]).count().userID"
   ]
  },
  {
   "cell_type": "code",
   "execution_count": 51,
   "metadata": {},
   "outputs": [
    {
     "data": {
      "image/png": "[encoded data removed]",
      "text/plain": [
       "<matplotlib.figure.Figure at 0x23b3fda1cc0>"
      ]
     },
     "metadata": {},
     "output_type": "display_data"
    }
   ],
   "source": [
    "oa_plot = oa_plot.plot(\"pie\", figsize=(10,10), autopct='%.2f')\n",
    "oa_plot.set_ylabel(\"\")\n",
    "plt.title(\"Fig. 2 - OA Status of downloaded articles\", fontsize=20)\n",
    "plt.savefig('./../../charts and figures/' + \"Fig.2 - OA Status of downloaded articles.pdf\")"
   ]
  },
  {
   "cell_type": "code",
   "execution_count": 52,
   "metadata": {},
   "outputs": [],
   "source": [
    "statistics2017 = statistics2017.set_index(\"date\")"
   ]
  },
  {
   "cell_type": "code",
   "execution_count": 53,
   "metadata": {},
   "outputs": [],
   "source": [
    "#statistics2017.to_csv(\"./../../data/sample/2017.statistics.sample.oa_status.csv\")"
   ]
  },
  {
   "cell_type": "markdown",
   "metadata": {},
   "source": [
    "### Import DataFrame"
   ]
  },
  {
   "cell_type": "code",
   "execution_count": 2,
   "metadata": {},
   "outputs": [],
   "source": [
    "statistics2017 = pd.read_csv(\"./../../data/sample/2017.statistics.sample.oa_status.csv\")"
   ]
  },
  {
   "cell_type": "code",
   "execution_count": 3,
   "metadata": {},
   "outputs": [
    {
     "data": {
      "text/html": [
       "<div>\n",
       "<style scoped>\n",
       "    .dataframe tbody tr th:only-of-type {\n",
       "        vertical-align: middle;\n",
       "    }\n",
       "\n",
       "    .dataframe tbody tr th {\n",
       "        vertical-align: top;\n",
       "    }\n",
       "\n",
       "    .dataframe thead th {\n",
       "        text-align: right;\n",
       "    }\n",
       "</style>\n",
       "<table border=\"1\" class=\"dataframe\">\n",
       "  <thead>\n",
       "    <tr style=\"text-align: right;\">\n",
       "      <th></th>\n",
       "      <th>date</th>\n",
       "      <th>DOI</th>\n",
       "      <th>IPID</th>\n",
       "      <th>userID</th>\n",
       "      <th>country</th>\n",
       "      <th>city</th>\n",
       "      <th>lat</th>\n",
       "      <th>lon</th>\n",
       "      <th>is_oa</th>\n",
       "    </tr>\n",
       "  </thead>\n",
       "  <tbody>\n",
       "    <tr>\n",
       "      <th>0</th>\n",
       "      <td>2017-01-24 19:42:48</td>\n",
       "      <td>10.1111/j.1467-8691.2005.00332.x</td>\n",
       "      <td>333804</td>\n",
       "      <td>710273</td>\n",
       "      <td>Pakistan</td>\n",
       "      <td>Karachi</td>\n",
       "      <td>24.861462</td>\n",
       "      <td>67.009939</td>\n",
       "      <td>False</td>\n",
       "    </tr>\n",
       "    <tr>\n",
       "      <th>1</th>\n",
       "      <td>2017-02-25 12:17:00</td>\n",
       "      <td>10.1038/nm.3102</td>\n",
       "      <td>505488</td>\n",
       "      <td>1452471</td>\n",
       "      <td>China</td>\n",
       "      <td>Dingxi Shi</td>\n",
       "      <td>35.580663</td>\n",
       "      <td>104.626282</td>\n",
       "      <td>False</td>\n",
       "    </tr>\n",
       "    <tr>\n",
       "      <th>2</th>\n",
       "      <td>2017-01-19 10:24:01</td>\n",
       "      <td>10.2337/diacare.21.12.2144</td>\n",
       "      <td>63561</td>\n",
       "      <td>453077</td>\n",
       "      <td>Hong Kong</td>\n",
       "      <td>NaN</td>\n",
       "      <td>22.533300</td>\n",
       "      <td>114.133300</td>\n",
       "      <td>False</td>\n",
       "    </tr>\n",
       "    <tr>\n",
       "      <th>3</th>\n",
       "      <td>2017-02-10 16:46:18</td>\n",
       "      <td>10.1017/s1833367200001942</td>\n",
       "      <td>2271940</td>\n",
       "      <td>3313612</td>\n",
       "      <td>Iran</td>\n",
       "      <td>Tehran</td>\n",
       "      <td>35.689197</td>\n",
       "      <td>51.388974</td>\n",
       "      <td>False</td>\n",
       "    </tr>\n",
       "    <tr>\n",
       "      <th>4</th>\n",
       "      <td>2017-02-13 02:36:24</td>\n",
       "      <td>10.1002/nme.1748</td>\n",
       "      <td>303046</td>\n",
       "      <td>3467741</td>\n",
       "      <td>Chile</td>\n",
       "      <td>Santiago</td>\n",
       "      <td>-33.448890</td>\n",
       "      <td>-70.669266</td>\n",
       "      <td>False</td>\n",
       "    </tr>\n",
       "  </tbody>\n",
       "</table>\n",
       "</div>"
      ],
      "text/plain": [
       "                  date                               DOI     IPID   userID  \\\n",
       "0  2017-01-24 19:42:48  10.1111/j.1467-8691.2005.00332.x   333804   710273   \n",
       "1  2017-02-25 12:17:00                   10.1038/nm.3102   505488  1452471   \n",
       "2  2017-01-19 10:24:01        10.2337/diacare.21.12.2144    63561   453077   \n",
       "3  2017-02-10 16:46:18         10.1017/s1833367200001942  2271940  3313612   \n",
       "4  2017-02-13 02:36:24                  10.1002/nme.1748   303046  3467741   \n",
       "\n",
       "     country        city        lat         lon  is_oa  \n",
       "0   Pakistan     Karachi  24.861462   67.009939  False  \n",
       "1      China  Dingxi Shi  35.580663  104.626282  False  \n",
       "2  Hong Kong         NaN  22.533300  114.133300  False  \n",
       "3       Iran      Tehran  35.689197   51.388974  False  \n",
       "4      Chile    Santiago -33.448890  -70.669266  False  "
      ]
     },
     "execution_count": 3,
     "metadata": {},
     "output_type": "execute_result"
    }
   ],
   "source": [
    "statistics2017.head()"
   ]
  },
  {
   "cell_type": "code",
   "execution_count": null,
   "metadata": {},
   "outputs": [],
   "source": []
  }
 ],
 "metadata": {
  "kernelspec": {
   "display_name": "Python 3",
   "language": "python",
   "name": "python3"
  },
  "language_info": {
   "codemirror_mode": {
    "name": "ipython",
    "version": 3
   },
   "file_extension": ".py",
   "mimetype": "text/x-python",
   "name": "python",
   "nbconvert_exporter": "python",
   "pygments_lexer": "ipython3",
   "version": "3.6.4"
  }
 },
 "nbformat": 4,
 "nbformat_minor": 2
}
