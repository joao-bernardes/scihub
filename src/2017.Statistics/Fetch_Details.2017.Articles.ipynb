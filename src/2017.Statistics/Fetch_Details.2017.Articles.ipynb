{
 "cells": [
  {
   "cell_type": "code",
   "execution_count": 8,
   "metadata": {},
   "outputs": [],
   "source": [
    "import pandas as pd\n",
    "import collections"
   ]
  },
  {
   "cell_type": "code",
   "execution_count": 9,
   "metadata": {},
   "outputs": [],
   "source": [
    "from habanero import Crossref \n",
    "cr = Crossref ()"
   ]
  },
  {
   "cell_type": "code",
   "execution_count": 15,
   "metadata": {},
   "outputs": [],
   "source": [
    "statistics2017 = pd.read_table(\"./../../data/sample/statistics2017_sample\",usecols=[0,1], header=None)\n",
    "#give columns names\n",
    "statistics2017.columns = [\"timestamp\",\"DOI\"]\n",
    "#Lowercase DOI:\n",
    "statistics2017.DOI = statistics2017[\"DOI\"].str.lower()"
   ]
  },
  {
   "cell_type": "code",
   "execution_count": null,
   "metadata": {},
   "outputs": [],
   "source": []
  },
  {
   "cell_type": "code",
   "execution_count": 17,
   "metadata": {},
   "outputs": [
    {
     "data": {
      "text/html": [
       "<div>\n",
       "<style scoped>\n",
       "    .dataframe tbody tr th:only-of-type {\n",
       "        vertical-align: middle;\n",
       "    }\n",
       "\n",
       "    .dataframe tbody tr th {\n",
       "        vertical-align: top;\n",
       "    }\n",
       "\n",
       "    .dataframe thead th {\n",
       "        text-align: right;\n",
       "    }\n",
       "</style>\n",
       "<table border=\"1\" class=\"dataframe\">\n",
       "  <thead>\n",
       "    <tr style=\"text-align: right;\">\n",
       "      <th></th>\n",
       "      <th>timestamp</th>\n",
       "      <th>DOI</th>\n",
       "    </tr>\n",
       "  </thead>\n",
       "  <tbody>\n",
       "    <tr>\n",
       "      <th>0</th>\n",
       "      <td>2017-03-06 09:00:15</td>\n",
       "      <td>10.1016/s2212-5671(15)00804-7</td>\n",
       "    </tr>\n",
       "    <tr>\n",
       "      <th>1</th>\n",
       "      <td>2017-01-30 02:10:54</td>\n",
       "      <td>10.1016/0014-4835(92)90190-4</td>\n",
       "    </tr>\n",
       "    <tr>\n",
       "      <th>2</th>\n",
       "      <td>2017-01-05 19:06:37</td>\n",
       "      <td>10.1016/b978-0-12-394813-7.00002-x</td>\n",
       "    </tr>\n",
       "    <tr>\n",
       "      <th>3</th>\n",
       "      <td>2017-01-16 20:01:49</td>\n",
       "      <td>10.1089/tmj.2015.0135</td>\n",
       "    </tr>\n",
       "    <tr>\n",
       "      <th>4</th>\n",
       "      <td>2017-01-04 15:09:12</td>\n",
       "      <td>10.1007/bf00821580</td>\n",
       "    </tr>\n",
       "  </tbody>\n",
       "</table>\n",
       "</div>"
      ],
      "text/plain": [
       "             timestamp                                 DOI\n",
       "0  2017-03-06 09:00:15       10.1016/s2212-5671(15)00804-7\n",
       "1  2017-01-30 02:10:54        10.1016/0014-4835(92)90190-4\n",
       "2  2017-01-05 19:06:37  10.1016/b978-0-12-394813-7.00002-x\n",
       "3  2017-01-16 20:01:49               10.1089/tmj.2015.0135\n",
       "4  2017-01-04 15:09:12                  10.1007/bf00821580"
      ]
     },
     "execution_count": 17,
     "metadata": {},
     "output_type": "execute_result"
    }
   ],
   "source": [
    "statistics2017.head()"
   ]
  },
  {
   "cell_type": "code",
   "execution_count": 6,
   "metadata": {},
   "outputs": [],
   "source": [
    "#Function performing REST API request:\n",
    "def get_metadata(doi):\n",
    "    try:\n",
    "        work = cr.works(doi)[\"message\"]   \n",
    "    except:\n",
    "        pass\n",
    "    row = collections.OrderedDict()\n",
    "    row['doi'] = doi\n",
    "\n",
    "    try:\n",
    "        row[\"publisher\"] = work[\"publisher\"]\n",
    "    except:\n",
    "        pass\n",
    "    try:\n",
    "        row['title'] = work['title'][0]\n",
    "    except:\n",
    "        pass\n",
    "\n",
    "    try:\n",
    "        row['journal'] = work['container-title'][0]\n",
    "    except:\n",
    "        pass\n",
    "    try:\n",
    "        row[\"subject\"] = work[\"subject\"]\n",
    "    except:\n",
    "        pass\n",
    "\n",
    "\n",
    "    return row"
   ]
  },
  {
   "cell_type": "code",
   "execution_count": 7,
   "metadata": {},
   "outputs": [
    {
     "data": {
      "text/plain": [
       "OrderedDict([('doi', '10.1183/09031936.06.00011806'),\n",
       "             ('publisher', 'European Respiratory Society (ERS)'),\n",
       "             ('title',\n",
       "              'Cost-optimisation of screening for latent tuberculosis in close contacts'),\n",
       "             ('journal', 'European Respiratory Journal'),\n",
       "             ('subject', ['Pulmonary and Respiratory Medicine'])])"
      ]
     },
     "execution_count": 7,
     "metadata": {},
     "output_type": "execute_result"
    }
   ],
   "source": [
    "#Testing the output of the function get_metadata.\n",
    "get_metadata(\"10.1183/09031936.06.00011806\")"
   ]
  },
  {
   "cell_type": "code",
   "execution_count": 8,
   "metadata": {},
   "outputs": [],
   "source": [
    "#Function triggering get_metadata() and writing outout into new CSV file.\n",
    "def get_doi():\n",
    "    h = statistics2017.DOI\n",
    "    i = h.apply(get_metadata)\n",
    "    j = pd.DataFrame.from_records(i)\n",
    "    j.to_csv(\"./../../data/2017.Statistics.DOI-Publisher.csv\")"
   ]
  },
  {
   "cell_type": "code",
   "execution_count": 9,
   "metadata": {},
   "outputs": [
    {
     "name": "stdout",
     "output_type": "stream",
     "text": [
      "Wall time: 1h 20min 44s\n"
     ]
    }
   ],
   "source": [
    "%%time\n",
    "get_doi()"
   ]
  }
 ],
 "metadata": {
  "kernelspec": {
   "display_name": "Python 3",
   "language": "python",
   "name": "python3"
  },
  "language_info": {
   "codemirror_mode": {
    "name": "ipython",
    "version": 3
   },
   "file_extension": ".py",
   "mimetype": "text/x-python",
   "name": "python",
   "nbconvert_exporter": "python",
   "pygments_lexer": "ipython3",
   "version": "3.6.4"
  }
 },
 "nbformat": 4,
 "nbformat_minor": 2
}
